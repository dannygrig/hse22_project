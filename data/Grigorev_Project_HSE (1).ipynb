{
  "nbformat": 4,
  "nbformat_minor": 0,
  "metadata": {
    "colab": {
      "name": "Grigorev_Project_HSE.ipynb",
      "provenance": [],
      "collapsed_sections": []
    },
    "kernelspec": {
      "name": "python3",
      "display_name": "Python 3"
    },
    "language_info": {
      "name": "python"
    }
  },
  "cells": [
    {
      "cell_type": "markdown",
      "source": [
        "# HSE PROJECT 22\n"
      ],
      "metadata": {
        "id": "Np14USHiPTbg"
      }
    },
    {
      "cell_type": "markdown",
      "source": [
        "Устанавливаем конду"
      ],
      "metadata": {
        "id": "YUAYJAwZDNVh"
      }
    },
    {
      "cell_type": "code",
      "source": [
        "!pip install -q condacolab\n",
        "import condacolab\n",
        "condacolab.install()"
      ],
      "metadata": {
        "colab": {
          "base_uri": "https://localhost:8080/"
        },
        "id": "ziwqXzlpARK1",
        "outputId": "15372960-788f-4041-94c1-9d8795fa3aa2"
      },
      "execution_count": 1,
      "outputs": [
        {
          "output_type": "stream",
          "name": "stdout",
          "text": [
            "⏬ Downloading https://github.com/jaimergp/miniforge/releases/latest/download/Mambaforge-colab-Linux-x86_64.sh...\n",
            "📦 Installing...\n",
            "📌 Adjusting configuration...\n",
            "🩹 Patching environment...\n",
            "⏲ Done in 0:00:42\n",
            "🔁 Restarting kernel...\n"
          ]
        }
      ]
    },
    {
      "cell_type": "markdown",
      "source": [
        "Скачиваем геномы из гитхаба"
      ],
      "metadata": {
        "id": "XBj7G0YgPWI3"
      }
    },
    {
      "cell_type": "code",
      "source": [
        "!npx degit dannygrig/hse22_project/data -f"
      ],
      "metadata": {
        "colab": {
          "base_uri": "https://localhost:8080/"
        },
        "id": "bMEBWRRV8OKd",
        "outputId": "6faace39-abd5-44c3-bf38-a491d2ac4672"
      },
      "execution_count": 2,
      "outputs": [
        {
          "output_type": "stream",
          "name": "stdout",
          "text": [
            "\u001b[?25l[..................] / rollbackFailedOptional: verb npm-session dd24a451d08d553\u001b[0m\u001b[K\r[#######...........] \\ extract:degit: verb lock using /root/.npm/_locks/staging\u001b[0m\u001b[K\r[############......] - build:degit: sill doSerial build 8\u001b[0m\u001b[K\r\r\u001b[K\u001b[?25hnpx: installed 1 in 0.88s\n",
            "\u001b[36m> destination directory is not empty. Using --force, continuing\u001b[39m\n",
            "\u001b[36m> cloned \u001b[1mdannygrig/hse22_project\u001b[22m#\u001b[1mHEAD\u001b[22m\u001b[39m\n"
          ]
        }
      ]
    },
    {
      "cell_type": "markdown",
      "source": [
        "Анализируем аннотированные гены\n"
      ],
      "metadata": {
        "id": "2uy_kgXktCpD"
      }
    },
    {
      "cell_type": "code",
      "source": [
        "import pandas as pd\n",
        "import numpy as np"
      ],
      "metadata": {
        "id": "DYcLAlHQtCWM"
      },
      "execution_count": 3,
      "outputs": []
    },
    {
      "cell_type": "markdown",
      "source": [
        "Берем размер геномов из таблицы, так же как данные о скаффолдах и CDS"
      ],
      "metadata": {
        "id": "8DNFakGdHoLc"
      }
    },
    {
      "cell_type": "markdown",
      "source": [
        "\"Methanobacterium congolense\",\n",
        "\"Methanobacterium formicicum\",\n",
        "\"Methanobacterium lacus\",\n",
        "\"Methanobacterium paludis\",\n",
        "\"Methanobacterium subterraneum\","
      ],
      "metadata": {
        "id": "lSFng6fNIbE7"
      }
    },
    {
      "cell_type": "code",
      "source": [
        "sum_table = pd.DataFrame({ 'organism': [\"Methanobacterium congolense\",\n",
        "\"Methanobacterium formicicum\", \"Methanobacterium lacus\",\n",
        "\"Methanobacterium paludis\", \"Methanobacterium subterraneum\",],\n",
        "'size(bp)': [2469570, 2494510, 2583750, 2546540, 2515820],    \n",
        "'Scaffolds': [2, 1, 1, 1, 1],\n",
        "'num_ann_genes': [0, 0, 0, 0, 0],\n",
        "'proc_ann_genes': [0, 0, 0, 0, 0]\n",
        "})"
      ],
      "metadata": {
        "id": "0JXCgX81PpLt"
      },
      "execution_count": 4,
      "outputs": []
    },
    {
      "cell_type": "code",
      "source": [
        "import glob, os\n",
        "num = 1\n",
        "#os.chdir(\"/mydir\")\n",
        "for file in glob.glob(\"*.txt\"):\n",
        "    exec(f'f_table_{num} = pd.read_csv(file, sep=\"\\t\")')\n",
        "    num += 1"
      ],
      "metadata": {
        "id": "uIrs71GDQM2T"
      },
      "execution_count": 5,
      "outputs": []
    },
    {
      "cell_type": "markdown",
      "source": [
        "*  f_table_1 = Methanobacterium paludis\n",
        "*  f_table_2 = Methanobacterium formicicum\n",
        "*  f_table_3 = Methanobacterium subterraneum\n",
        "*  f_table_4 = Methanobacterium lacus\n",
        "*  f_table_5 = Methanobacterium congolense"
      ],
      "metadata": {
        "id": "wag8Il_bfw9X"
      }
    },
    {
      "cell_type": "code",
      "source": [
        "sum_table.loc[3, 'num_ann_genes'] = sum(f_table_1[\"# feature\"] == \"gene\")\n",
        "sum_table.loc[1, 'num_ann_genes'] = sum(f_table_2[\"# feature\"] == \"gene\")\n",
        "sum_table.loc[4, 'num_ann_genes'] = sum(f_table_3[\"# feature\"] == \"gene\")\n",
        "sum_table.loc[2, 'num_ann_genes'] = sum(f_table_4[\"# feature\"] == \"gene\")\n",
        "sum_table.loc[0, 'num_ann_genes'] = sum(f_table_5[\"# feature\"] == \"gene\")"
      ],
      "metadata": {
        "id": "DgUpgePRccBh"
      },
      "execution_count": 6,
      "outputs": []
    },
    {
      "cell_type": "code",
      "source": [
        "idx1 = (f_table_1['end'] < f_table_1['start'])\n",
        "idx2 = (f_table_2['end'] < f_table_2['start'])\n",
        "idx3 = (f_table_3['end'] < f_table_3['start'])\n",
        "idx4 = (f_table_4['end'] < f_table_4['start'])\n",
        "idx5 = (f_table_5['end'] < f_table_5['start'])"
      ],
      "metadata": {
        "id": "12UXA_wrUpvJ"
      },
      "execution_count": 7,
      "outputs": []
    },
    {
      "cell_type": "code",
      "source": [
        "f_table_1.loc[idx1,['start','end']] = f_table_1.loc[idx1,['end','start']].values\n",
        "f_table_2.loc[idx2,['start','end']] = f_table_2.loc[idx2,['end','start']].values\n",
        "f_table_3.loc[idx3,['start','end']] = f_table_3.loc[idx3,['end','start']].values\n",
        "f_table_4.loc[idx4,['start','end']] = f_table_4.loc[idx4,['end','start']].values\n",
        "f_table_5.loc[idx5,['start','end']] = f_table_5.loc[idx5,['end','start']].values"
      ],
      "metadata": {
        "id": "crAnnS3wpmon"
      },
      "execution_count": 8,
      "outputs": []
    },
    {
      "cell_type": "code",
      "source": [
        "sum_table.loc[3, 'proc_ann_genes']  = sum(f_table_1[f_table_1[\"# feature\"] == \"gene\"][\"feature_interval_length\"]) / sum_table['size(bp)'][3]\n",
        "sum_table.loc[1, 'proc_ann_genes']  = sum(f_table_2[f_table_2[\"# feature\"] == \"gene\"][\"feature_interval_length\"]) / sum_table['size(bp)'][1]\n",
        "sum_table.loc[4, 'proc_ann_genes']  = sum(f_table_3[f_table_3[\"# feature\"] == \"gene\"][\"feature_interval_length\"]) / sum_table['size(bp)'][4]\n",
        "sum_table.loc[2, 'proc_ann_genes']  = sum(f_table_4[f_table_4[\"# feature\"] == \"gene\"][\"feature_interval_length\"]) / sum_table['size(bp)'][2]\n",
        "sum_table.loc[0, 'proc_ann_genes']  = sum(f_table_5[f_table_5[\"# feature\"] == \"gene\"][\"feature_interval_length\"]) / sum_table['size(bp)'][0]"
      ],
      "metadata": {
        "id": "iHucuWM_qhki"
      },
      "execution_count": 9,
      "outputs": []
    },
    {
      "cell_type": "code",
      "source": [
        "sum_table"
      ],
      "metadata": {
        "colab": {
          "base_uri": "https://localhost:8080/",
          "height": 206
        },
        "id": "CjUNNpbRjZzA",
        "outputId": "17c6d01b-1c28-4e3a-de67-339db7f31932"
      },
      "execution_count": 10,
      "outputs": [
        {
          "output_type": "execute_result",
          "data": {
            "text/plain": [
              "                        organism  size(bp)  Scaffolds  num_ann_genes  \\\n",
              "0    Methanobacterium congolense   2469570          2           2470   \n",
              "1    Methanobacterium formicicum   2494510          1           2482   \n",
              "2         Methanobacterium lacus   2583750          1           2392   \n",
              "3       Methanobacterium paludis   2546540          1           2566   \n",
              "4  Methanobacterium subterraneum   2515820          1           2455   \n",
              "\n",
              "   proc_ann_genes  \n",
              "0        0.846892  \n",
              "1        0.813887  \n",
              "2        0.775839  \n",
              "3        0.853347  \n",
              "4        0.828431  "
            ],
            "text/html": [
              "\n",
              "  <div id=\"df-e7bdd72f-04de-47d3-ba13-d6e74314e170\">\n",
              "    <div class=\"colab-df-container\">\n",
              "      <div>\n",
              "<style scoped>\n",
              "    .dataframe tbody tr th:only-of-type {\n",
              "        vertical-align: middle;\n",
              "    }\n",
              "\n",
              "    .dataframe tbody tr th {\n",
              "        vertical-align: top;\n",
              "    }\n",
              "\n",
              "    .dataframe thead th {\n",
              "        text-align: right;\n",
              "    }\n",
              "</style>\n",
              "<table border=\"1\" class=\"dataframe\">\n",
              "  <thead>\n",
              "    <tr style=\"text-align: right;\">\n",
              "      <th></th>\n",
              "      <th>organism</th>\n",
              "      <th>size(bp)</th>\n",
              "      <th>Scaffolds</th>\n",
              "      <th>num_ann_genes</th>\n",
              "      <th>proc_ann_genes</th>\n",
              "    </tr>\n",
              "  </thead>\n",
              "  <tbody>\n",
              "    <tr>\n",
              "      <th>0</th>\n",
              "      <td>Methanobacterium congolense</td>\n",
              "      <td>2469570</td>\n",
              "      <td>2</td>\n",
              "      <td>2470</td>\n",
              "      <td>0.846892</td>\n",
              "    </tr>\n",
              "    <tr>\n",
              "      <th>1</th>\n",
              "      <td>Methanobacterium formicicum</td>\n",
              "      <td>2494510</td>\n",
              "      <td>1</td>\n",
              "      <td>2482</td>\n",
              "      <td>0.813887</td>\n",
              "    </tr>\n",
              "    <tr>\n",
              "      <th>2</th>\n",
              "      <td>Methanobacterium lacus</td>\n",
              "      <td>2583750</td>\n",
              "      <td>1</td>\n",
              "      <td>2392</td>\n",
              "      <td>0.775839</td>\n",
              "    </tr>\n",
              "    <tr>\n",
              "      <th>3</th>\n",
              "      <td>Methanobacterium paludis</td>\n",
              "      <td>2546540</td>\n",
              "      <td>1</td>\n",
              "      <td>2566</td>\n",
              "      <td>0.853347</td>\n",
              "    </tr>\n",
              "    <tr>\n",
              "      <th>4</th>\n",
              "      <td>Methanobacterium subterraneum</td>\n",
              "      <td>2515820</td>\n",
              "      <td>1</td>\n",
              "      <td>2455</td>\n",
              "      <td>0.828431</td>\n",
              "    </tr>\n",
              "  </tbody>\n",
              "</table>\n",
              "</div>\n",
              "      <button class=\"colab-df-convert\" onclick=\"convertToInteractive('df-e7bdd72f-04de-47d3-ba13-d6e74314e170')\"\n",
              "              title=\"Convert this dataframe to an interactive table.\"\n",
              "              style=\"display:none;\">\n",
              "        \n",
              "  <svg xmlns=\"http://www.w3.org/2000/svg\" height=\"24px\"viewBox=\"0 0 24 24\"\n",
              "       width=\"24px\">\n",
              "    <path d=\"M0 0h24v24H0V0z\" fill=\"none\"/>\n",
              "    <path d=\"M18.56 5.44l.94 2.06.94-2.06 2.06-.94-2.06-.94-.94-2.06-.94 2.06-2.06.94zm-11 1L8.5 8.5l.94-2.06 2.06-.94-2.06-.94L8.5 2.5l-.94 2.06-2.06.94zm10 10l.94 2.06.94-2.06 2.06-.94-2.06-.94-.94-2.06-.94 2.06-2.06.94z\"/><path d=\"M17.41 7.96l-1.37-1.37c-.4-.4-.92-.59-1.43-.59-.52 0-1.04.2-1.43.59L10.3 9.45l-7.72 7.72c-.78.78-.78 2.05 0 2.83L4 21.41c.39.39.9.59 1.41.59.51 0 1.02-.2 1.41-.59l7.78-7.78 2.81-2.81c.8-.78.8-2.07 0-2.86zM5.41 20L4 18.59l7.72-7.72 1.47 1.35L5.41 20z\"/>\n",
              "  </svg>\n",
              "      </button>\n",
              "      \n",
              "  <style>\n",
              "    .colab-df-container {\n",
              "      display:flex;\n",
              "      flex-wrap:wrap;\n",
              "      gap: 12px;\n",
              "    }\n",
              "\n",
              "    .colab-df-convert {\n",
              "      background-color: #E8F0FE;\n",
              "      border: none;\n",
              "      border-radius: 50%;\n",
              "      cursor: pointer;\n",
              "      display: none;\n",
              "      fill: #1967D2;\n",
              "      height: 32px;\n",
              "      padding: 0 0 0 0;\n",
              "      width: 32px;\n",
              "    }\n",
              "\n",
              "    .colab-df-convert:hover {\n",
              "      background-color: #E2EBFA;\n",
              "      box-shadow: 0px 1px 2px rgba(60, 64, 67, 0.3), 0px 1px 3px 1px rgba(60, 64, 67, 0.15);\n",
              "      fill: #174EA6;\n",
              "    }\n",
              "\n",
              "    [theme=dark] .colab-df-convert {\n",
              "      background-color: #3B4455;\n",
              "      fill: #D2E3FC;\n",
              "    }\n",
              "\n",
              "    [theme=dark] .colab-df-convert:hover {\n",
              "      background-color: #434B5C;\n",
              "      box-shadow: 0px 1px 3px 1px rgba(0, 0, 0, 0.15);\n",
              "      filter: drop-shadow(0px 1px 2px rgba(0, 0, 0, 0.3));\n",
              "      fill: #FFFFFF;\n",
              "    }\n",
              "  </style>\n",
              "\n",
              "      <script>\n",
              "        const buttonEl =\n",
              "          document.querySelector('#df-e7bdd72f-04de-47d3-ba13-d6e74314e170 button.colab-df-convert');\n",
              "        buttonEl.style.display =\n",
              "          google.colab.kernel.accessAllowed ? 'block' : 'none';\n",
              "\n",
              "        async function convertToInteractive(key) {\n",
              "          const element = document.querySelector('#df-e7bdd72f-04de-47d3-ba13-d6e74314e170');\n",
              "          const dataTable =\n",
              "            await google.colab.kernel.invokeFunction('convertToInteractive',\n",
              "                                                     [key], {});\n",
              "          if (!dataTable) return;\n",
              "\n",
              "          const docLinkHtml = 'Like what you see? Visit the ' +\n",
              "            '<a target=\"_blank\" href=https://colab.research.google.com/notebooks/data_table.ipynb>data table notebook</a>'\n",
              "            + ' to learn more about interactive tables.';\n",
              "          element.innerHTML = '';\n",
              "          dataTable['output_type'] = 'display_data';\n",
              "          await google.colab.output.renderOutput(dataTable, element);\n",
              "          const docLink = document.createElement('div');\n",
              "          docLink.innerHTML = docLinkHtml;\n",
              "          element.appendChild(docLink);\n",
              "        }\n",
              "      </script>\n",
              "    </div>\n",
              "  </div>\n",
              "  "
            ]
          },
          "metadata": {},
          "execution_count": 10
        }
      ]
    },
    {
      "cell_type": "markdown",
      "source": [
        "ZHUNT"
      ],
      "metadata": {
        "id": "8BnHg5SAQZbH"
      }
    },
    {
      "cell_type": "code",
      "source": [
        "!pip3 install bio"
      ],
      "metadata": {
        "colab": {
          "base_uri": "https://localhost:8080/",
          "height": 505
        },
        "id": "QiwLrDM0QbBv",
        "outputId": "40a9d211-411a-49b5-a5e2-1754732b096f"
      },
      "execution_count": 11,
      "outputs": [
        {
          "output_type": "stream",
          "name": "stdout",
          "text": [
            "Looking in indexes: https://pypi.org/simple, https://us-python.pkg.dev/colab-wheels/public/simple/\n",
            "Collecting bio\n",
            "  Downloading bio-1.3.9-py3-none-any.whl (270 kB)\n",
            "\u001b[K     |████████████████████████████████| 270 kB 12.1 MB/s \n",
            "\u001b[?25hCollecting mygene\n",
            "  Downloading mygene-3.2.2-py2.py3-none-any.whl (5.4 kB)\n",
            "Collecting biopython>=1.79\n",
            "  Downloading biopython-1.79-cp37-cp37m-manylinux_2_5_x86_64.manylinux1_x86_64.whl (2.3 MB)\n",
            "\u001b[K     |████████████████████████████████| 2.3 MB 49.9 MB/s \n",
            "\u001b[?25hRequirement already satisfied: tqdm in /usr/local/lib/python3.7/site-packages (from bio) (4.59.0)\n",
            "Requirement already satisfied: requests in /usr/local/lib/python3.7/site-packages (from bio) (2.25.1)\n",
            "Collecting numpy\n",
            "  Downloading numpy-1.21.6-cp37-cp37m-manylinux_2_12_x86_64.manylinux2010_x86_64.whl (15.7 MB)\n",
            "\u001b[K     |████████████████████████████████| 15.7 MB 63.8 MB/s \n",
            "\u001b[?25hCollecting biothings-client>=0.2.6\n",
            "  Downloading biothings_client-0.2.6-py2.py3-none-any.whl (37 kB)\n",
            "Requirement already satisfied: idna<3,>=2.5 in /usr/local/lib/python3.7/site-packages (from requests->bio) (2.10)\n",
            "Requirement already satisfied: certifi>=2017.4.17 in /usr/local/lib/python3.7/site-packages (from requests->bio) (2020.12.5)\n",
            "Requirement already satisfied: chardet<5,>=3.0.2 in /usr/local/lib/python3.7/site-packages (from requests->bio) (4.0.0)\n",
            "Requirement already satisfied: urllib3<1.27,>=1.21.1 in /usr/local/lib/python3.7/site-packages (from requests->bio) (1.26.3)\n",
            "Installing collected packages: numpy, biothings-client, mygene, biopython, bio\n",
            "Successfully installed bio-1.3.9 biopython-1.79 biothings-client-0.2.6 mygene-3.2.2 numpy-1.21.6\n"
          ]
        },
        {
          "output_type": "display_data",
          "data": {
            "application/vnd.colab-display-data+json": {
              "pip_warning": {
                "packages": [
                  "numpy"
                ]
              }
            }
          },
          "metadata": {}
        }
      ]
    },
    {
      "cell_type": "code",
      "source": [
        "!wget https://raw.githubusercontent.com/vanya-antonov/hse22-project/main/zhunt3-alan.c"
      ],
      "metadata": {
        "colab": {
          "base_uri": "https://localhost:8080/"
        },
        "id": "j_yyblOFQe-b",
        "outputId": "95138e9b-bac0-43cb-887e-fd5577a5044e"
      },
      "execution_count": 12,
      "outputs": [
        {
          "output_type": "stream",
          "name": "stdout",
          "text": [
            "--2022-06-15 11:10:30--  https://raw.githubusercontent.com/vanya-antonov/hse22-project/main/zhunt3-alan.c\n",
            "Resolving raw.githubusercontent.com (raw.githubusercontent.com)... 185.199.108.133, 185.199.109.133, 185.199.110.133, ...\n",
            "Connecting to raw.githubusercontent.com (raw.githubusercontent.com)|185.199.108.133|:443... connected.\n",
            "HTTP request sent, awaiting response... 200 OK\n",
            "Length: 23973 (23K) [text/plain]\n",
            "Saving to: ‘zhunt3-alan.c’\n",
            "\n",
            "\rzhunt3-alan.c         0%[                    ]       0  --.-KB/s               \rzhunt3-alan.c       100%[===================>]  23.41K  --.-KB/s    in 0s      \n",
            "\n",
            "2022-06-15 11:10:31 (94.6 MB/s) - ‘zhunt3-alan.c’ saved [23973/23973]\n",
            "\n"
          ]
        }
      ]
    },
    {
      "cell_type": "code",
      "source": [
        "!gcc zhunt3-alan.c -lm -o zhunt3"
      ],
      "metadata": {
        "colab": {
          "base_uri": "https://localhost:8080/"
        },
        "id": "Xepc_2dOQuLf",
        "outputId": "a526ac76-342e-4137-a314-8fed77a011dc"
      },
      "execution_count": 13,
      "outputs": [
        {
          "output_type": "stream",
          "name": "stdout",
          "text": [
            "\u001b[01m\u001b[Kzhunt3-alan.c:\u001b[m\u001b[K In function ‘\u001b[01m\u001b[Kuser_regret\u001b[m\u001b[K’:\n",
            "\u001b[01m\u001b[Kzhunt3-alan.c:336:9:\u001b[m\u001b[K \u001b[01;35m\u001b[Kwarning: \u001b[m\u001b[Kimplicit declaration of function ‘\u001b[01m\u001b[Kgets\u001b[m\u001b[K’; did you mean ‘\u001b[01m\u001b[Kfgets\u001b[m\u001b[K’? [\u001b[01;35m\u001b[K-Wimplicit-function-declaration\u001b[m\u001b[K]\n",
            "         \u001b[01;35m\u001b[Kgets\u001b[m\u001b[K(tempstr);\n",
            "         \u001b[01;35m\u001b[K^~~~\u001b[m\u001b[K\n",
            "         \u001b[32m\u001b[Kfgets\u001b[m\u001b[K\n",
            "/tmp/ccaS5oH5.o: In function `user_regret':\n",
            "zhunt3-alan.c:(.text+0xba6): warning: the `gets' function is dangerous and should not be used.\n"
          ]
        }
      ]
    },
    {
      "cell_type": "code",
      "source": [
        "import os\n",
        "import subprocess\n",
        "import tempfile\n",
        "from pathlib import Path\n",
        "from subprocess import DEVNULL, PIPE\n",
        "\n",
        "import pandas as pd\n",
        "\n",
        "ZH_EXECUTABLE = Path(\"/content/zhunt3\")\n",
        "assert ZH_EXECUTABLE.is_file()\n",
        "\n",
        "\n",
        "def zhunt(query: str, windowsize: int = 6, minsize: int = 3, maxsize: int = 6):\n",
        "    assert set(query).issubset({\"A\", \"C\", \"G\", \"T\", \"N\"})\n",
        "    fd, temp = tempfile.mkstemp()\n",
        "    os.close(fd)\n",
        "    with open(temp, 'w') as stream:\n",
        "        stream.write(query)\n",
        "\n",
        "    subprocess.run(\n",
        "        [ZH_EXECUTABLE, \n",
        "         str(windowsize), str(minsize), str(maxsize), temp],\n",
        "        check=True, stdout=PIPE, stderr=DEVNULL,\n",
        "        input=query, encoding='ascii'\n",
        "    )\n",
        "    with open(temp + \".Z-SCORE\", 'r') as stream:\n",
        "        df = pd.read_csv(stream,\n",
        "                         names=['Start', 'End', 'nu-1', 'nu-2', 'nu-3', \n",
        "                                'ZH-Score', 'Sequence', 'Conformation'],\n",
        "                         skiprows=1, sep='\\s+')\n",
        "    os.remove(temp)\n",
        "    os.remove(temp + \".Z-SCORE\")\n",
        "    return df[['Start', 'End', 'ZH-Score', 'Sequence', 'Conformation']]"
      ],
      "metadata": {
        "id": "8BLQZr3SQup4"
      },
      "execution_count": 14,
      "outputs": []
    },
    {
      "cell_type": "code",
      "source": [
        "!ls"
      ],
      "metadata": {
        "colab": {
          "base_uri": "https://localhost:8080/"
        },
        "id": "2RZ_87i5o87I",
        "outputId": "0ef120d7-e23e-4c3f-8fa3-382caf342f8e"
      },
      "execution_count": 15,
      "outputs": [
        {
          "output_type": "stream",
          "name": "stdout",
          "text": [
            "condacolab_install.log\n",
            "GCF_000191585.1_ASM19158v1_feature_table.txt\n",
            "GCF_000191585.1_ASM19158v1_genomic.fna\n",
            "GCF_000191585.1_ASM19158v1_genomic.gbff\n",
            "GCF_000191585.1_ASM19158v1_genomic.gff\n",
            "GCF_000191585.1_ASM19158v1_genomic.gtf\n",
            "GCF_000214725.1_ASM21472v1_feature_table.txt\n",
            "GCF_000214725.1_ASM21472v1_genomic.fna\n",
            "GCF_000214725.1_ASM21472v1_genomic.gbff\n",
            "GCF_000214725.1_ASM21472v1_genomic.gff\n",
            "GCF_000214725.1_ASM21472v1_genomic.gtf\n",
            "GCF_001458655.1_Mb9_feature_table.txt\n",
            "GCF_001458655.1_Mb9_genomic.fna\n",
            "GCF_001458655.1_Mb9_genomic.gbff\n",
            "GCF_001458655.1_Mb9_genomic.gff\n",
            "GCF_001458655.1_Mb9_genomic.gtf\n",
            "GCF_002813695.1_ASM281369v1_feature_table.txt\n",
            "GCF_002813695.1_ASM281369v1_genomic.fna\n",
            "GCF_002813695.1_ASM281369v1_genomic.gbff\n",
            "GCF_002813695.1_ASM281369v1_genomic.gff\n",
            "GCF_002813695.1_ASM281369v1_genomic.gtf\n",
            "GCF_900095295.1_MCBB_feature_table.txt\n",
            "GCF_900095295.1_MCBB_genomic.fna\n",
            "GCF_900095295.1_MCBB_genomic.gbff\n",
            "GCF_900095295.1_MCBB_genomic.gff\n",
            "GCF_900095295.1_MCBB_genomic.gtf\n",
            "sample_data\n",
            "zhunt3\n",
            "zhunt3-alan.c\n"
          ]
        }
      ]
    },
    {
      "cell_type": "markdown",
      "source": [
        "# Z-Hunt Genome 1"
      ],
      "metadata": {
        "id": "2-TEbzpcmDTT"
      }
    },
    {
      "cell_type": "code",
      "source": [
        "from Bio import SeqIO\n",
        "\n",
        "with open(\"GCF_900095295.1_MCBB_genomic.fna\", 'r') as stream:\n",
        "  sequences = list(SeqIO.parse(stream, format='fasta'))\n",
        "\n",
        "for s in sequences:\n",
        "  print(f\"{s.description} \\n\\t=> {len(s)}\")"
      ],
      "metadata": {
        "colab": {
          "base_uri": "https://localhost:8080/"
        },
        "id": "sMpwkCL6Q19W",
        "outputId": "788a9bc9-059f-44a5-f820-0facd59d4df0"
      },
      "execution_count": 16,
      "outputs": [
        {
          "output_type": "stream",
          "name": "stdout",
          "text": [
            "NZ_LT607756.1 Methanobacterium congolense isolate Buetzberg chromosome I, complete sequence \n",
            "\t=> 2451457\n",
            "NZ_LT607757.1 Methanobacterium congolense isolate Buetzberg plasmid II, complete sequence \n",
            "\t=> 18118\n"
          ]
        }
      ]
    },
    {
      "cell_type": "code",
      "source": [
        "seq = sequences[0]\n",
        "df1 = zhunt(str(seq.seq))\n",
        "df1"
      ],
      "metadata": {
        "colab": {
          "base_uri": "https://localhost:8080/",
          "height": 424
        },
        "id": "ExwLbSAHQ_X_",
        "outputId": "edc90652-69dd-486c-8951-e13c81f4fa22"
      },
      "execution_count": 17,
      "outputs": [
        {
          "output_type": "execute_result",
          "data": {
            "text/plain": [
              "           Start      End  ZH-Score      Sequence  Conformation\n",
              "0              1        7  0.070858        atgaga        SASASA\n",
              "1              2       14  0.175785  tgagattagtcc  ASSASASASASA\n",
              "2              3       15  0.018476  gagattagtcct  ASASASASASAS\n",
              "3              4       14  0.243516    agattagtcc    SASASASASA\n",
              "4              5       17  0.148457  gattagtccttg  ASASASASASAS\n",
              "...          ...      ...       ...           ...           ...\n",
              "2451452  2451453  2451463  0.319992    ataatatgag    SAASASASAS\n",
              "2451453  2451454  2451464  0.033892    taatatgaga    ASSASASASA\n",
              "2451454  2451455  2451463  0.410321      aatatgag      ASASASAS\n",
              "2451455  2451456  2451462  0.193238        atatga        SASASA\n",
              "2451456  2451457  2451463  0.479924        tatgag        ASASAS\n",
              "\n",
              "[2451457 rows x 5 columns]"
            ],
            "text/html": [
              "\n",
              "  <div id=\"df-3f063741-7bed-4106-a1bd-4695c3b654d5\">\n",
              "    <div class=\"colab-df-container\">\n",
              "      <div>\n",
              "<style scoped>\n",
              "    .dataframe tbody tr th:only-of-type {\n",
              "        vertical-align: middle;\n",
              "    }\n",
              "\n",
              "    .dataframe tbody tr th {\n",
              "        vertical-align: top;\n",
              "    }\n",
              "\n",
              "    .dataframe thead th {\n",
              "        text-align: right;\n",
              "    }\n",
              "</style>\n",
              "<table border=\"1\" class=\"dataframe\">\n",
              "  <thead>\n",
              "    <tr style=\"text-align: right;\">\n",
              "      <th></th>\n",
              "      <th>Start</th>\n",
              "      <th>End</th>\n",
              "      <th>ZH-Score</th>\n",
              "      <th>Sequence</th>\n",
              "      <th>Conformation</th>\n",
              "    </tr>\n",
              "  </thead>\n",
              "  <tbody>\n",
              "    <tr>\n",
              "      <th>0</th>\n",
              "      <td>1</td>\n",
              "      <td>7</td>\n",
              "      <td>0.070858</td>\n",
              "      <td>atgaga</td>\n",
              "      <td>SASASA</td>\n",
              "    </tr>\n",
              "    <tr>\n",
              "      <th>1</th>\n",
              "      <td>2</td>\n",
              "      <td>14</td>\n",
              "      <td>0.175785</td>\n",
              "      <td>tgagattagtcc</td>\n",
              "      <td>ASSASASASASA</td>\n",
              "    </tr>\n",
              "    <tr>\n",
              "      <th>2</th>\n",
              "      <td>3</td>\n",
              "      <td>15</td>\n",
              "      <td>0.018476</td>\n",
              "      <td>gagattagtcct</td>\n",
              "      <td>ASASASASASAS</td>\n",
              "    </tr>\n",
              "    <tr>\n",
              "      <th>3</th>\n",
              "      <td>4</td>\n",
              "      <td>14</td>\n",
              "      <td>0.243516</td>\n",
              "      <td>agattagtcc</td>\n",
              "      <td>SASASASASA</td>\n",
              "    </tr>\n",
              "    <tr>\n",
              "      <th>4</th>\n",
              "      <td>5</td>\n",
              "      <td>17</td>\n",
              "      <td>0.148457</td>\n",
              "      <td>gattagtccttg</td>\n",
              "      <td>ASASASASASAS</td>\n",
              "    </tr>\n",
              "    <tr>\n",
              "      <th>...</th>\n",
              "      <td>...</td>\n",
              "      <td>...</td>\n",
              "      <td>...</td>\n",
              "      <td>...</td>\n",
              "      <td>...</td>\n",
              "    </tr>\n",
              "    <tr>\n",
              "      <th>2451452</th>\n",
              "      <td>2451453</td>\n",
              "      <td>2451463</td>\n",
              "      <td>0.319992</td>\n",
              "      <td>ataatatgag</td>\n",
              "      <td>SAASASASAS</td>\n",
              "    </tr>\n",
              "    <tr>\n",
              "      <th>2451453</th>\n",
              "      <td>2451454</td>\n",
              "      <td>2451464</td>\n",
              "      <td>0.033892</td>\n",
              "      <td>taatatgaga</td>\n",
              "      <td>ASSASASASA</td>\n",
              "    </tr>\n",
              "    <tr>\n",
              "      <th>2451454</th>\n",
              "      <td>2451455</td>\n",
              "      <td>2451463</td>\n",
              "      <td>0.410321</td>\n",
              "      <td>aatatgag</td>\n",
              "      <td>ASASASAS</td>\n",
              "    </tr>\n",
              "    <tr>\n",
              "      <th>2451455</th>\n",
              "      <td>2451456</td>\n",
              "      <td>2451462</td>\n",
              "      <td>0.193238</td>\n",
              "      <td>atatga</td>\n",
              "      <td>SASASA</td>\n",
              "    </tr>\n",
              "    <tr>\n",
              "      <th>2451456</th>\n",
              "      <td>2451457</td>\n",
              "      <td>2451463</td>\n",
              "      <td>0.479924</td>\n",
              "      <td>tatgag</td>\n",
              "      <td>ASASAS</td>\n",
              "    </tr>\n",
              "  </tbody>\n",
              "</table>\n",
              "<p>2451457 rows × 5 columns</p>\n",
              "</div>\n",
              "      <button class=\"colab-df-convert\" onclick=\"convertToInteractive('df-3f063741-7bed-4106-a1bd-4695c3b654d5')\"\n",
              "              title=\"Convert this dataframe to an interactive table.\"\n",
              "              style=\"display:none;\">\n",
              "        \n",
              "  <svg xmlns=\"http://www.w3.org/2000/svg\" height=\"24px\"viewBox=\"0 0 24 24\"\n",
              "       width=\"24px\">\n",
              "    <path d=\"M0 0h24v24H0V0z\" fill=\"none\"/>\n",
              "    <path d=\"M18.56 5.44l.94 2.06.94-2.06 2.06-.94-2.06-.94-.94-2.06-.94 2.06-2.06.94zm-11 1L8.5 8.5l.94-2.06 2.06-.94-2.06-.94L8.5 2.5l-.94 2.06-2.06.94zm10 10l.94 2.06.94-2.06 2.06-.94-2.06-.94-.94-2.06-.94 2.06-2.06.94z\"/><path d=\"M17.41 7.96l-1.37-1.37c-.4-.4-.92-.59-1.43-.59-.52 0-1.04.2-1.43.59L10.3 9.45l-7.72 7.72c-.78.78-.78 2.05 0 2.83L4 21.41c.39.39.9.59 1.41.59.51 0 1.02-.2 1.41-.59l7.78-7.78 2.81-2.81c.8-.78.8-2.07 0-2.86zM5.41 20L4 18.59l7.72-7.72 1.47 1.35L5.41 20z\"/>\n",
              "  </svg>\n",
              "      </button>\n",
              "      \n",
              "  <style>\n",
              "    .colab-df-container {\n",
              "      display:flex;\n",
              "      flex-wrap:wrap;\n",
              "      gap: 12px;\n",
              "    }\n",
              "\n",
              "    .colab-df-convert {\n",
              "      background-color: #E8F0FE;\n",
              "      border: none;\n",
              "      border-radius: 50%;\n",
              "      cursor: pointer;\n",
              "      display: none;\n",
              "      fill: #1967D2;\n",
              "      height: 32px;\n",
              "      padding: 0 0 0 0;\n",
              "      width: 32px;\n",
              "    }\n",
              "\n",
              "    .colab-df-convert:hover {\n",
              "      background-color: #E2EBFA;\n",
              "      box-shadow: 0px 1px 2px rgba(60, 64, 67, 0.3), 0px 1px 3px 1px rgba(60, 64, 67, 0.15);\n",
              "      fill: #174EA6;\n",
              "    }\n",
              "\n",
              "    [theme=dark] .colab-df-convert {\n",
              "      background-color: #3B4455;\n",
              "      fill: #D2E3FC;\n",
              "    }\n",
              "\n",
              "    [theme=dark] .colab-df-convert:hover {\n",
              "      background-color: #434B5C;\n",
              "      box-shadow: 0px 1px 3px 1px rgba(0, 0, 0, 0.15);\n",
              "      filter: drop-shadow(0px 1px 2px rgba(0, 0, 0, 0.3));\n",
              "      fill: #FFFFFF;\n",
              "    }\n",
              "  </style>\n",
              "\n",
              "      <script>\n",
              "        const buttonEl =\n",
              "          document.querySelector('#df-3f063741-7bed-4106-a1bd-4695c3b654d5 button.colab-df-convert');\n",
              "        buttonEl.style.display =\n",
              "          google.colab.kernel.accessAllowed ? 'block' : 'none';\n",
              "\n",
              "        async function convertToInteractive(key) {\n",
              "          const element = document.querySelector('#df-3f063741-7bed-4106-a1bd-4695c3b654d5');\n",
              "          const dataTable =\n",
              "            await google.colab.kernel.invokeFunction('convertToInteractive',\n",
              "                                                     [key], {});\n",
              "          if (!dataTable) return;\n",
              "\n",
              "          const docLinkHtml = 'Like what you see? Visit the ' +\n",
              "            '<a target=\"_blank\" href=https://colab.research.google.com/notebooks/data_table.ipynb>data table notebook</a>'\n",
              "            + ' to learn more about interactive tables.';\n",
              "          element.innerHTML = '';\n",
              "          dataTable['output_type'] = 'display_data';\n",
              "          await google.colab.output.renderOutput(dataTable, element);\n",
              "          const docLink = document.createElement('div');\n",
              "          docLink.innerHTML = docLinkHtml;\n",
              "          element.appendChild(docLink);\n",
              "        }\n",
              "      </script>\n",
              "    </div>\n",
              "  </div>\n",
              "  "
            ]
          },
          "metadata": {},
          "execution_count": 17
        }
      ]
    },
    {
      "cell_type": "code",
      "source": [
        "z_1 = df1[df1['ZH-Score']>=500]"
      ],
      "metadata": {
        "id": "gxBSlw_InN9d"
      },
      "execution_count": 18,
      "outputs": []
    },
    {
      "cell_type": "markdown",
      "source": [
        "# Z-Hunt Genome 2"
      ],
      "metadata": {
        "id": "0H9bGog_mSdS"
      }
    },
    {
      "cell_type": "code",
      "source": [
        "with open(\"GCF_001458655.1_Mb9_genomic.fna\", 'r') as stream:\n",
        "  sequences = list(SeqIO.parse(stream, format='fasta'))\n",
        "\n",
        "for s in sequences:\n",
        "  print(f\"{s.description} \\n\\t=> {len(s)}\")"
      ],
      "metadata": {
        "colab": {
          "base_uri": "https://localhost:8080/"
        },
        "id": "ZWPKVhO3RCGB",
        "outputId": "c90eade9-6a32-4b7d-acfc-2b34af3b4da3"
      },
      "execution_count": 19,
      "outputs": [
        {
          "output_type": "stream",
          "name": "stdout",
          "text": [
            "NZ_LN734822.1 Methanobacterium formicicum isolate Mb9 chromosome I, complete sequence \n",
            "\t=> 2494510\n"
          ]
        }
      ]
    },
    {
      "cell_type": "code",
      "source": [
        "seq = sequences[0]\n",
        "df2 = zhunt(str(seq.seq))\n",
        "\n",
        "df2"
      ],
      "metadata": {
        "colab": {
          "base_uri": "https://localhost:8080/",
          "height": 424
        },
        "id": "kHkr7vwRRQ0l",
        "outputId": "e3d9e84b-a6ac-4849-e250-2334a09a2a2a"
      },
      "execution_count": 20,
      "outputs": [
        {
          "output_type": "execute_result",
          "data": {
            "text/plain": [
              "           Start      End  ZH-Score      Sequence  Conformation\n",
              "0              1        7  0.149655        atggtt        SASASA\n",
              "1              2        8  0.134384        tggtta        ASASAS\n",
              "2              3       15  0.072825  ggttaaaaacag  SASASASASASA\n",
              "3              4       16  0.187447  gttaaaaacagg  SAASASASASAS\n",
              "4              5       17  0.121980  ttaaaaacagga  SASASASASASA\n",
              "...          ...      ...       ...           ...           ...\n",
              "2494505  2494506  2494514  3.999828      tgaacatg      ASASASAS\n",
              "2494506  2494507  2494515  2.602448      gaacatgg      SASASASA\n",
              "2494507  2494508  2494514  3.466195        aacatg        ASASAS\n",
              "2494508  2494509  2494515  2.649611        acatgg        SASASA\n",
              "2494509  2494510  2494518  2.659218      catggtta      ASASASAS\n",
              "\n",
              "[2494510 rows x 5 columns]"
            ],
            "text/html": [
              "\n",
              "  <div id=\"df-d5d558e3-25dc-4550-997f-1ba061a1cfd4\">\n",
              "    <div class=\"colab-df-container\">\n",
              "      <div>\n",
              "<style scoped>\n",
              "    .dataframe tbody tr th:only-of-type {\n",
              "        vertical-align: middle;\n",
              "    }\n",
              "\n",
              "    .dataframe tbody tr th {\n",
              "        vertical-align: top;\n",
              "    }\n",
              "\n",
              "    .dataframe thead th {\n",
              "        text-align: right;\n",
              "    }\n",
              "</style>\n",
              "<table border=\"1\" class=\"dataframe\">\n",
              "  <thead>\n",
              "    <tr style=\"text-align: right;\">\n",
              "      <th></th>\n",
              "      <th>Start</th>\n",
              "      <th>End</th>\n",
              "      <th>ZH-Score</th>\n",
              "      <th>Sequence</th>\n",
              "      <th>Conformation</th>\n",
              "    </tr>\n",
              "  </thead>\n",
              "  <tbody>\n",
              "    <tr>\n",
              "      <th>0</th>\n",
              "      <td>1</td>\n",
              "      <td>7</td>\n",
              "      <td>0.149655</td>\n",
              "      <td>atggtt</td>\n",
              "      <td>SASASA</td>\n",
              "    </tr>\n",
              "    <tr>\n",
              "      <th>1</th>\n",
              "      <td>2</td>\n",
              "      <td>8</td>\n",
              "      <td>0.134384</td>\n",
              "      <td>tggtta</td>\n",
              "      <td>ASASAS</td>\n",
              "    </tr>\n",
              "    <tr>\n",
              "      <th>2</th>\n",
              "      <td>3</td>\n",
              "      <td>15</td>\n",
              "      <td>0.072825</td>\n",
              "      <td>ggttaaaaacag</td>\n",
              "      <td>SASASASASASA</td>\n",
              "    </tr>\n",
              "    <tr>\n",
              "      <th>3</th>\n",
              "      <td>4</td>\n",
              "      <td>16</td>\n",
              "      <td>0.187447</td>\n",
              "      <td>gttaaaaacagg</td>\n",
              "      <td>SAASASASASAS</td>\n",
              "    </tr>\n",
              "    <tr>\n",
              "      <th>4</th>\n",
              "      <td>5</td>\n",
              "      <td>17</td>\n",
              "      <td>0.121980</td>\n",
              "      <td>ttaaaaacagga</td>\n",
              "      <td>SASASASASASA</td>\n",
              "    </tr>\n",
              "    <tr>\n",
              "      <th>...</th>\n",
              "      <td>...</td>\n",
              "      <td>...</td>\n",
              "      <td>...</td>\n",
              "      <td>...</td>\n",
              "      <td>...</td>\n",
              "    </tr>\n",
              "    <tr>\n",
              "      <th>2494505</th>\n",
              "      <td>2494506</td>\n",
              "      <td>2494514</td>\n",
              "      <td>3.999828</td>\n",
              "      <td>tgaacatg</td>\n",
              "      <td>ASASASAS</td>\n",
              "    </tr>\n",
              "    <tr>\n",
              "      <th>2494506</th>\n",
              "      <td>2494507</td>\n",
              "      <td>2494515</td>\n",
              "      <td>2.602448</td>\n",
              "      <td>gaacatgg</td>\n",
              "      <td>SASASASA</td>\n",
              "    </tr>\n",
              "    <tr>\n",
              "      <th>2494507</th>\n",
              "      <td>2494508</td>\n",
              "      <td>2494514</td>\n",
              "      <td>3.466195</td>\n",
              "      <td>aacatg</td>\n",
              "      <td>ASASAS</td>\n",
              "    </tr>\n",
              "    <tr>\n",
              "      <th>2494508</th>\n",
              "      <td>2494509</td>\n",
              "      <td>2494515</td>\n",
              "      <td>2.649611</td>\n",
              "      <td>acatgg</td>\n",
              "      <td>SASASA</td>\n",
              "    </tr>\n",
              "    <tr>\n",
              "      <th>2494509</th>\n",
              "      <td>2494510</td>\n",
              "      <td>2494518</td>\n",
              "      <td>2.659218</td>\n",
              "      <td>catggtta</td>\n",
              "      <td>ASASASAS</td>\n",
              "    </tr>\n",
              "  </tbody>\n",
              "</table>\n",
              "<p>2494510 rows × 5 columns</p>\n",
              "</div>\n",
              "      <button class=\"colab-df-convert\" onclick=\"convertToInteractive('df-d5d558e3-25dc-4550-997f-1ba061a1cfd4')\"\n",
              "              title=\"Convert this dataframe to an interactive table.\"\n",
              "              style=\"display:none;\">\n",
              "        \n",
              "  <svg xmlns=\"http://www.w3.org/2000/svg\" height=\"24px\"viewBox=\"0 0 24 24\"\n",
              "       width=\"24px\">\n",
              "    <path d=\"M0 0h24v24H0V0z\" fill=\"none\"/>\n",
              "    <path d=\"M18.56 5.44l.94 2.06.94-2.06 2.06-.94-2.06-.94-.94-2.06-.94 2.06-2.06.94zm-11 1L8.5 8.5l.94-2.06 2.06-.94-2.06-.94L8.5 2.5l-.94 2.06-2.06.94zm10 10l.94 2.06.94-2.06 2.06-.94-2.06-.94-.94-2.06-.94 2.06-2.06.94z\"/><path d=\"M17.41 7.96l-1.37-1.37c-.4-.4-.92-.59-1.43-.59-.52 0-1.04.2-1.43.59L10.3 9.45l-7.72 7.72c-.78.78-.78 2.05 0 2.83L4 21.41c.39.39.9.59 1.41.59.51 0 1.02-.2 1.41-.59l7.78-7.78 2.81-2.81c.8-.78.8-2.07 0-2.86zM5.41 20L4 18.59l7.72-7.72 1.47 1.35L5.41 20z\"/>\n",
              "  </svg>\n",
              "      </button>\n",
              "      \n",
              "  <style>\n",
              "    .colab-df-container {\n",
              "      display:flex;\n",
              "      flex-wrap:wrap;\n",
              "      gap: 12px;\n",
              "    }\n",
              "\n",
              "    .colab-df-convert {\n",
              "      background-color: #E8F0FE;\n",
              "      border: none;\n",
              "      border-radius: 50%;\n",
              "      cursor: pointer;\n",
              "      display: none;\n",
              "      fill: #1967D2;\n",
              "      height: 32px;\n",
              "      padding: 0 0 0 0;\n",
              "      width: 32px;\n",
              "    }\n",
              "\n",
              "    .colab-df-convert:hover {\n",
              "      background-color: #E2EBFA;\n",
              "      box-shadow: 0px 1px 2px rgba(60, 64, 67, 0.3), 0px 1px 3px 1px rgba(60, 64, 67, 0.15);\n",
              "      fill: #174EA6;\n",
              "    }\n",
              "\n",
              "    [theme=dark] .colab-df-convert {\n",
              "      background-color: #3B4455;\n",
              "      fill: #D2E3FC;\n",
              "    }\n",
              "\n",
              "    [theme=dark] .colab-df-convert:hover {\n",
              "      background-color: #434B5C;\n",
              "      box-shadow: 0px 1px 3px 1px rgba(0, 0, 0, 0.15);\n",
              "      filter: drop-shadow(0px 1px 2px rgba(0, 0, 0, 0.3));\n",
              "      fill: #FFFFFF;\n",
              "    }\n",
              "  </style>\n",
              "\n",
              "      <script>\n",
              "        const buttonEl =\n",
              "          document.querySelector('#df-d5d558e3-25dc-4550-997f-1ba061a1cfd4 button.colab-df-convert');\n",
              "        buttonEl.style.display =\n",
              "          google.colab.kernel.accessAllowed ? 'block' : 'none';\n",
              "\n",
              "        async function convertToInteractive(key) {\n",
              "          const element = document.querySelector('#df-d5d558e3-25dc-4550-997f-1ba061a1cfd4');\n",
              "          const dataTable =\n",
              "            await google.colab.kernel.invokeFunction('convertToInteractive',\n",
              "                                                     [key], {});\n",
              "          if (!dataTable) return;\n",
              "\n",
              "          const docLinkHtml = 'Like what you see? Visit the ' +\n",
              "            '<a target=\"_blank\" href=https://colab.research.google.com/notebooks/data_table.ipynb>data table notebook</a>'\n",
              "            + ' to learn more about interactive tables.';\n",
              "          element.innerHTML = '';\n",
              "          dataTable['output_type'] = 'display_data';\n",
              "          await google.colab.output.renderOutput(dataTable, element);\n",
              "          const docLink = document.createElement('div');\n",
              "          docLink.innerHTML = docLinkHtml;\n",
              "          element.appendChild(docLink);\n",
              "        }\n",
              "      </script>\n",
              "    </div>\n",
              "  </div>\n",
              "  "
            ]
          },
          "metadata": {},
          "execution_count": 20
        }
      ]
    },
    {
      "cell_type": "code",
      "source": [
        "z_2 = df2[df2['ZH-Score']>=500]"
      ],
      "metadata": {
        "id": "Siu9J_T4nJu9"
      },
      "execution_count": 21,
      "outputs": []
    },
    {
      "cell_type": "markdown",
      "source": [
        "# Z-Hunt Genome 3"
      ],
      "metadata": {
        "id": "pZh5x4cgmjRa"
      }
    },
    {
      "cell_type": "code",
      "source": [
        "with open(\"GCF_000191585.1_ASM19158v1_genomic.fna\", 'r') as stream:\n",
        "  sequences = list(SeqIO.parse(stream, format='fasta'))\n",
        "\n",
        "for s in sequences:\n",
        "  print(f\"{s.description} \\n\\t=> {len(s)}\")"
      ],
      "metadata": {
        "colab": {
          "base_uri": "https://localhost:8080/"
        },
        "id": "HBOsIIZWmlZq",
        "outputId": "c79bd848-299f-4c82-8c1d-d865795d96ec"
      },
      "execution_count": 22,
      "outputs": [
        {
          "output_type": "stream",
          "name": "stdout",
          "text": [
            "NC_015216.1 Methanobacterium lacus, complete sequence \n",
            "\t=> 2583753\n"
          ]
        }
      ]
    },
    {
      "cell_type": "code",
      "source": [
        "seq = sequences[0]\n",
        "df3 = zhunt(str(seq.seq))\n",
        "\n",
        "df3"
      ],
      "metadata": {
        "colab": {
          "base_uri": "https://localhost:8080/",
          "height": 424
        },
        "id": "V3Rfoi-omnw6",
        "outputId": "e7697295-7f39-4310-a672-7c5be224c644"
      },
      "execution_count": 23,
      "outputs": [
        {
          "output_type": "execute_result",
          "data": {
            "text/plain": [
              "           Start      End  ZH-Score    Sequence Conformation\n",
              "0              1        7  0.089041      gttatc       SAASAS\n",
              "1              2        8  0.023742      ttatcg       SASAAS\n",
              "2              3        9  0.085937      tatcga       ASASAS\n",
              "3              4       10  0.019526      atcgaa       SAASAS\n",
              "4              5       11  0.070858      tcgaat       SASASA\n",
              "...          ...      ...       ...         ...          ...\n",
              "2583748  2583749  2583755  0.475633      acatag       SASASA\n",
              "2583749  2583750  2583758  0.311613    catagtta     ASASASAS\n",
              "2583750  2583751  2583759  0.064464    atagttat     SASASASA\n",
              "2583751  2583752  2583762  0.054771  tagttatcga   ASASASASAS\n",
              "2583752  2583753  2583759  0.024506      agttat       SASASA\n",
              "\n",
              "[2583753 rows x 5 columns]"
            ],
            "text/html": [
              "\n",
              "  <div id=\"df-2bd566a1-6236-44b4-90c0-d2b4d6d5d665\">\n",
              "    <div class=\"colab-df-container\">\n",
              "      <div>\n",
              "<style scoped>\n",
              "    .dataframe tbody tr th:only-of-type {\n",
              "        vertical-align: middle;\n",
              "    }\n",
              "\n",
              "    .dataframe tbody tr th {\n",
              "        vertical-align: top;\n",
              "    }\n",
              "\n",
              "    .dataframe thead th {\n",
              "        text-align: right;\n",
              "    }\n",
              "</style>\n",
              "<table border=\"1\" class=\"dataframe\">\n",
              "  <thead>\n",
              "    <tr style=\"text-align: right;\">\n",
              "      <th></th>\n",
              "      <th>Start</th>\n",
              "      <th>End</th>\n",
              "      <th>ZH-Score</th>\n",
              "      <th>Sequence</th>\n",
              "      <th>Conformation</th>\n",
              "    </tr>\n",
              "  </thead>\n",
              "  <tbody>\n",
              "    <tr>\n",
              "      <th>0</th>\n",
              "      <td>1</td>\n",
              "      <td>7</td>\n",
              "      <td>0.089041</td>\n",
              "      <td>gttatc</td>\n",
              "      <td>SAASAS</td>\n",
              "    </tr>\n",
              "    <tr>\n",
              "      <th>1</th>\n",
              "      <td>2</td>\n",
              "      <td>8</td>\n",
              "      <td>0.023742</td>\n",
              "      <td>ttatcg</td>\n",
              "      <td>SASAAS</td>\n",
              "    </tr>\n",
              "    <tr>\n",
              "      <th>2</th>\n",
              "      <td>3</td>\n",
              "      <td>9</td>\n",
              "      <td>0.085937</td>\n",
              "      <td>tatcga</td>\n",
              "      <td>ASASAS</td>\n",
              "    </tr>\n",
              "    <tr>\n",
              "      <th>3</th>\n",
              "      <td>4</td>\n",
              "      <td>10</td>\n",
              "      <td>0.019526</td>\n",
              "      <td>atcgaa</td>\n",
              "      <td>SAASAS</td>\n",
              "    </tr>\n",
              "    <tr>\n",
              "      <th>4</th>\n",
              "      <td>5</td>\n",
              "      <td>11</td>\n",
              "      <td>0.070858</td>\n",
              "      <td>tcgaat</td>\n",
              "      <td>SASASA</td>\n",
              "    </tr>\n",
              "    <tr>\n",
              "      <th>...</th>\n",
              "      <td>...</td>\n",
              "      <td>...</td>\n",
              "      <td>...</td>\n",
              "      <td>...</td>\n",
              "      <td>...</td>\n",
              "    </tr>\n",
              "    <tr>\n",
              "      <th>2583748</th>\n",
              "      <td>2583749</td>\n",
              "      <td>2583755</td>\n",
              "      <td>0.475633</td>\n",
              "      <td>acatag</td>\n",
              "      <td>SASASA</td>\n",
              "    </tr>\n",
              "    <tr>\n",
              "      <th>2583749</th>\n",
              "      <td>2583750</td>\n",
              "      <td>2583758</td>\n",
              "      <td>0.311613</td>\n",
              "      <td>catagtta</td>\n",
              "      <td>ASASASAS</td>\n",
              "    </tr>\n",
              "    <tr>\n",
              "      <th>2583750</th>\n",
              "      <td>2583751</td>\n",
              "      <td>2583759</td>\n",
              "      <td>0.064464</td>\n",
              "      <td>atagttat</td>\n",
              "      <td>SASASASA</td>\n",
              "    </tr>\n",
              "    <tr>\n",
              "      <th>2583751</th>\n",
              "      <td>2583752</td>\n",
              "      <td>2583762</td>\n",
              "      <td>0.054771</td>\n",
              "      <td>tagttatcga</td>\n",
              "      <td>ASASASASAS</td>\n",
              "    </tr>\n",
              "    <tr>\n",
              "      <th>2583752</th>\n",
              "      <td>2583753</td>\n",
              "      <td>2583759</td>\n",
              "      <td>0.024506</td>\n",
              "      <td>agttat</td>\n",
              "      <td>SASASA</td>\n",
              "    </tr>\n",
              "  </tbody>\n",
              "</table>\n",
              "<p>2583753 rows × 5 columns</p>\n",
              "</div>\n",
              "      <button class=\"colab-df-convert\" onclick=\"convertToInteractive('df-2bd566a1-6236-44b4-90c0-d2b4d6d5d665')\"\n",
              "              title=\"Convert this dataframe to an interactive table.\"\n",
              "              style=\"display:none;\">\n",
              "        \n",
              "  <svg xmlns=\"http://www.w3.org/2000/svg\" height=\"24px\"viewBox=\"0 0 24 24\"\n",
              "       width=\"24px\">\n",
              "    <path d=\"M0 0h24v24H0V0z\" fill=\"none\"/>\n",
              "    <path d=\"M18.56 5.44l.94 2.06.94-2.06 2.06-.94-2.06-.94-.94-2.06-.94 2.06-2.06.94zm-11 1L8.5 8.5l.94-2.06 2.06-.94-2.06-.94L8.5 2.5l-.94 2.06-2.06.94zm10 10l.94 2.06.94-2.06 2.06-.94-2.06-.94-.94-2.06-.94 2.06-2.06.94z\"/><path d=\"M17.41 7.96l-1.37-1.37c-.4-.4-.92-.59-1.43-.59-.52 0-1.04.2-1.43.59L10.3 9.45l-7.72 7.72c-.78.78-.78 2.05 0 2.83L4 21.41c.39.39.9.59 1.41.59.51 0 1.02-.2 1.41-.59l7.78-7.78 2.81-2.81c.8-.78.8-2.07 0-2.86zM5.41 20L4 18.59l7.72-7.72 1.47 1.35L5.41 20z\"/>\n",
              "  </svg>\n",
              "      </button>\n",
              "      \n",
              "  <style>\n",
              "    .colab-df-container {\n",
              "      display:flex;\n",
              "      flex-wrap:wrap;\n",
              "      gap: 12px;\n",
              "    }\n",
              "\n",
              "    .colab-df-convert {\n",
              "      background-color: #E8F0FE;\n",
              "      border: none;\n",
              "      border-radius: 50%;\n",
              "      cursor: pointer;\n",
              "      display: none;\n",
              "      fill: #1967D2;\n",
              "      height: 32px;\n",
              "      padding: 0 0 0 0;\n",
              "      width: 32px;\n",
              "    }\n",
              "\n",
              "    .colab-df-convert:hover {\n",
              "      background-color: #E2EBFA;\n",
              "      box-shadow: 0px 1px 2px rgba(60, 64, 67, 0.3), 0px 1px 3px 1px rgba(60, 64, 67, 0.15);\n",
              "      fill: #174EA6;\n",
              "    }\n",
              "\n",
              "    [theme=dark] .colab-df-convert {\n",
              "      background-color: #3B4455;\n",
              "      fill: #D2E3FC;\n",
              "    }\n",
              "\n",
              "    [theme=dark] .colab-df-convert:hover {\n",
              "      background-color: #434B5C;\n",
              "      box-shadow: 0px 1px 3px 1px rgba(0, 0, 0, 0.15);\n",
              "      filter: drop-shadow(0px 1px 2px rgba(0, 0, 0, 0.3));\n",
              "      fill: #FFFFFF;\n",
              "    }\n",
              "  </style>\n",
              "\n",
              "      <script>\n",
              "        const buttonEl =\n",
              "          document.querySelector('#df-2bd566a1-6236-44b4-90c0-d2b4d6d5d665 button.colab-df-convert');\n",
              "        buttonEl.style.display =\n",
              "          google.colab.kernel.accessAllowed ? 'block' : 'none';\n",
              "\n",
              "        async function convertToInteractive(key) {\n",
              "          const element = document.querySelector('#df-2bd566a1-6236-44b4-90c0-d2b4d6d5d665');\n",
              "          const dataTable =\n",
              "            await google.colab.kernel.invokeFunction('convertToInteractive',\n",
              "                                                     [key], {});\n",
              "          if (!dataTable) return;\n",
              "\n",
              "          const docLinkHtml = 'Like what you see? Visit the ' +\n",
              "            '<a target=\"_blank\" href=https://colab.research.google.com/notebooks/data_table.ipynb>data table notebook</a>'\n",
              "            + ' to learn more about interactive tables.';\n",
              "          element.innerHTML = '';\n",
              "          dataTable['output_type'] = 'display_data';\n",
              "          await google.colab.output.renderOutput(dataTable, element);\n",
              "          const docLink = document.createElement('div');\n",
              "          docLink.innerHTML = docLinkHtml;\n",
              "          element.appendChild(docLink);\n",
              "        }\n",
              "      </script>\n",
              "    </div>\n",
              "  </div>\n",
              "  "
            ]
          },
          "metadata": {},
          "execution_count": 23
        }
      ]
    },
    {
      "cell_type": "code",
      "source": [
        "z_3 = df3[df3['ZH-Score']>=500]"
      ],
      "metadata": {
        "id": "jMMPkvs3nHDE"
      },
      "execution_count": 24,
      "outputs": []
    },
    {
      "cell_type": "markdown",
      "source": [
        "# Z-Hunt Genome 4"
      ],
      "metadata": {
        "id": "1LYCpktfmrr7"
      }
    },
    {
      "cell_type": "code",
      "source": [
        "with open(\"GCF_000214725.1_ASM21472v1_genomic.fna\", 'r') as stream:\n",
        "  sequences = list(SeqIO.parse(stream, format='fasta'))\n",
        "\n",
        "for s in sequences:\n",
        "  print(f\"{s.description} \\n\\t=> {len(s)}\")"
      ],
      "metadata": {
        "colab": {
          "base_uri": "https://localhost:8080/"
        },
        "id": "zvJIV6dKmrDD",
        "outputId": "b179b791-68c6-4e34-d2d2-eb59c5b578f5"
      },
      "execution_count": 25,
      "outputs": [
        {
          "output_type": "stream",
          "name": "stdout",
          "text": [
            "NC_015574.1 Methanobacterium paludis, complete sequence \n",
            "\t=> 2546541\n"
          ]
        }
      ]
    },
    {
      "cell_type": "code",
      "source": [
        "seq = sequences[0]\n",
        "df4 = zhunt(str(seq.seq))\n",
        "\n",
        "df4"
      ],
      "metadata": {
        "colab": {
          "base_uri": "https://localhost:8080/",
          "height": 424
        },
        "id": "wOgNSLUrmw1b",
        "outputId": "8a1aeef4-7bcc-446c-af62-6f743c4f275d"
      },
      "execution_count": 26,
      "outputs": [
        {
          "output_type": "execute_result",
          "data": {
            "text/plain": [
              "           Start      End  ZH-Score      Sequence  Conformation\n",
              "0              1       11  0.101734    aaaaccgaat    SASASASASA\n",
              "1              2        8  0.156495        aaaccg        SASAAS\n",
              "2              3       11  0.134627      aaccgaat      SASASASA\n",
              "3              4       10  0.138506        accgaa        SAASAS\n",
              "4              5       11  0.167276        ccgaat        SASASA\n",
              "...          ...      ...       ...           ...           ...\n",
              "2546536  2546537  2546549  0.066901  ccaataaaaccg  ASASASASASAS\n",
              "2546537  2546538  2546544  0.084190        caataa        ASSASA\n",
              "2546538  2546539  2546549  0.105001    aataaaaccg    ASASASASAS\n",
              "2546539  2546540  2546552  0.084921  ataaaaccgaat  SASASASASASA\n",
              "2546540  2546541  2546549  0.188415      taaaaccg      ASASASAS\n",
              "\n",
              "[2546541 rows x 5 columns]"
            ],
            "text/html": [
              "\n",
              "  <div id=\"df-b0d73e58-17a5-486d-8fe9-7ed664c3b823\">\n",
              "    <div class=\"colab-df-container\">\n",
              "      <div>\n",
              "<style scoped>\n",
              "    .dataframe tbody tr th:only-of-type {\n",
              "        vertical-align: middle;\n",
              "    }\n",
              "\n",
              "    .dataframe tbody tr th {\n",
              "        vertical-align: top;\n",
              "    }\n",
              "\n",
              "    .dataframe thead th {\n",
              "        text-align: right;\n",
              "    }\n",
              "</style>\n",
              "<table border=\"1\" class=\"dataframe\">\n",
              "  <thead>\n",
              "    <tr style=\"text-align: right;\">\n",
              "      <th></th>\n",
              "      <th>Start</th>\n",
              "      <th>End</th>\n",
              "      <th>ZH-Score</th>\n",
              "      <th>Sequence</th>\n",
              "      <th>Conformation</th>\n",
              "    </tr>\n",
              "  </thead>\n",
              "  <tbody>\n",
              "    <tr>\n",
              "      <th>0</th>\n",
              "      <td>1</td>\n",
              "      <td>11</td>\n",
              "      <td>0.101734</td>\n",
              "      <td>aaaaccgaat</td>\n",
              "      <td>SASASASASA</td>\n",
              "    </tr>\n",
              "    <tr>\n",
              "      <th>1</th>\n",
              "      <td>2</td>\n",
              "      <td>8</td>\n",
              "      <td>0.156495</td>\n",
              "      <td>aaaccg</td>\n",
              "      <td>SASAAS</td>\n",
              "    </tr>\n",
              "    <tr>\n",
              "      <th>2</th>\n",
              "      <td>3</td>\n",
              "      <td>11</td>\n",
              "      <td>0.134627</td>\n",
              "      <td>aaccgaat</td>\n",
              "      <td>SASASASA</td>\n",
              "    </tr>\n",
              "    <tr>\n",
              "      <th>3</th>\n",
              "      <td>4</td>\n",
              "      <td>10</td>\n",
              "      <td>0.138506</td>\n",
              "      <td>accgaa</td>\n",
              "      <td>SAASAS</td>\n",
              "    </tr>\n",
              "    <tr>\n",
              "      <th>4</th>\n",
              "      <td>5</td>\n",
              "      <td>11</td>\n",
              "      <td>0.167276</td>\n",
              "      <td>ccgaat</td>\n",
              "      <td>SASASA</td>\n",
              "    </tr>\n",
              "    <tr>\n",
              "      <th>...</th>\n",
              "      <td>...</td>\n",
              "      <td>...</td>\n",
              "      <td>...</td>\n",
              "      <td>...</td>\n",
              "      <td>...</td>\n",
              "    </tr>\n",
              "    <tr>\n",
              "      <th>2546536</th>\n",
              "      <td>2546537</td>\n",
              "      <td>2546549</td>\n",
              "      <td>0.066901</td>\n",
              "      <td>ccaataaaaccg</td>\n",
              "      <td>ASASASASASAS</td>\n",
              "    </tr>\n",
              "    <tr>\n",
              "      <th>2546537</th>\n",
              "      <td>2546538</td>\n",
              "      <td>2546544</td>\n",
              "      <td>0.084190</td>\n",
              "      <td>caataa</td>\n",
              "      <td>ASSASA</td>\n",
              "    </tr>\n",
              "    <tr>\n",
              "      <th>2546538</th>\n",
              "      <td>2546539</td>\n",
              "      <td>2546549</td>\n",
              "      <td>0.105001</td>\n",
              "      <td>aataaaaccg</td>\n",
              "      <td>ASASASASAS</td>\n",
              "    </tr>\n",
              "    <tr>\n",
              "      <th>2546539</th>\n",
              "      <td>2546540</td>\n",
              "      <td>2546552</td>\n",
              "      <td>0.084921</td>\n",
              "      <td>ataaaaccgaat</td>\n",
              "      <td>SASASASASASA</td>\n",
              "    </tr>\n",
              "    <tr>\n",
              "      <th>2546540</th>\n",
              "      <td>2546541</td>\n",
              "      <td>2546549</td>\n",
              "      <td>0.188415</td>\n",
              "      <td>taaaaccg</td>\n",
              "      <td>ASASASAS</td>\n",
              "    </tr>\n",
              "  </tbody>\n",
              "</table>\n",
              "<p>2546541 rows × 5 columns</p>\n",
              "</div>\n",
              "      <button class=\"colab-df-convert\" onclick=\"convertToInteractive('df-b0d73e58-17a5-486d-8fe9-7ed664c3b823')\"\n",
              "              title=\"Convert this dataframe to an interactive table.\"\n",
              "              style=\"display:none;\">\n",
              "        \n",
              "  <svg xmlns=\"http://www.w3.org/2000/svg\" height=\"24px\"viewBox=\"0 0 24 24\"\n",
              "       width=\"24px\">\n",
              "    <path d=\"M0 0h24v24H0V0z\" fill=\"none\"/>\n",
              "    <path d=\"M18.56 5.44l.94 2.06.94-2.06 2.06-.94-2.06-.94-.94-2.06-.94 2.06-2.06.94zm-11 1L8.5 8.5l.94-2.06 2.06-.94-2.06-.94L8.5 2.5l-.94 2.06-2.06.94zm10 10l.94 2.06.94-2.06 2.06-.94-2.06-.94-.94-2.06-.94 2.06-2.06.94z\"/><path d=\"M17.41 7.96l-1.37-1.37c-.4-.4-.92-.59-1.43-.59-.52 0-1.04.2-1.43.59L10.3 9.45l-7.72 7.72c-.78.78-.78 2.05 0 2.83L4 21.41c.39.39.9.59 1.41.59.51 0 1.02-.2 1.41-.59l7.78-7.78 2.81-2.81c.8-.78.8-2.07 0-2.86zM5.41 20L4 18.59l7.72-7.72 1.47 1.35L5.41 20z\"/>\n",
              "  </svg>\n",
              "      </button>\n",
              "      \n",
              "  <style>\n",
              "    .colab-df-container {\n",
              "      display:flex;\n",
              "      flex-wrap:wrap;\n",
              "      gap: 12px;\n",
              "    }\n",
              "\n",
              "    .colab-df-convert {\n",
              "      background-color: #E8F0FE;\n",
              "      border: none;\n",
              "      border-radius: 50%;\n",
              "      cursor: pointer;\n",
              "      display: none;\n",
              "      fill: #1967D2;\n",
              "      height: 32px;\n",
              "      padding: 0 0 0 0;\n",
              "      width: 32px;\n",
              "    }\n",
              "\n",
              "    .colab-df-convert:hover {\n",
              "      background-color: #E2EBFA;\n",
              "      box-shadow: 0px 1px 2px rgba(60, 64, 67, 0.3), 0px 1px 3px 1px rgba(60, 64, 67, 0.15);\n",
              "      fill: #174EA6;\n",
              "    }\n",
              "\n",
              "    [theme=dark] .colab-df-convert {\n",
              "      background-color: #3B4455;\n",
              "      fill: #D2E3FC;\n",
              "    }\n",
              "\n",
              "    [theme=dark] .colab-df-convert:hover {\n",
              "      background-color: #434B5C;\n",
              "      box-shadow: 0px 1px 3px 1px rgba(0, 0, 0, 0.15);\n",
              "      filter: drop-shadow(0px 1px 2px rgba(0, 0, 0, 0.3));\n",
              "      fill: #FFFFFF;\n",
              "    }\n",
              "  </style>\n",
              "\n",
              "      <script>\n",
              "        const buttonEl =\n",
              "          document.querySelector('#df-b0d73e58-17a5-486d-8fe9-7ed664c3b823 button.colab-df-convert');\n",
              "        buttonEl.style.display =\n",
              "          google.colab.kernel.accessAllowed ? 'block' : 'none';\n",
              "\n",
              "        async function convertToInteractive(key) {\n",
              "          const element = document.querySelector('#df-b0d73e58-17a5-486d-8fe9-7ed664c3b823');\n",
              "          const dataTable =\n",
              "            await google.colab.kernel.invokeFunction('convertToInteractive',\n",
              "                                                     [key], {});\n",
              "          if (!dataTable) return;\n",
              "\n",
              "          const docLinkHtml = 'Like what you see? Visit the ' +\n",
              "            '<a target=\"_blank\" href=https://colab.research.google.com/notebooks/data_table.ipynb>data table notebook</a>'\n",
              "            + ' to learn more about interactive tables.';\n",
              "          element.innerHTML = '';\n",
              "          dataTable['output_type'] = 'display_data';\n",
              "          await google.colab.output.renderOutput(dataTable, element);\n",
              "          const docLink = document.createElement('div');\n",
              "          docLink.innerHTML = docLinkHtml;\n",
              "          element.appendChild(docLink);\n",
              "        }\n",
              "      </script>\n",
              "    </div>\n",
              "  </div>\n",
              "  "
            ]
          },
          "metadata": {},
          "execution_count": 26
        }
      ]
    },
    {
      "cell_type": "code",
      "source": [
        "z_4 = df4[df4['ZH-Score']>=500]"
      ],
      "metadata": {
        "id": "11drG8hhnE51"
      },
      "execution_count": 27,
      "outputs": []
    },
    {
      "cell_type": "markdown",
      "source": [
        "# Z-Hunt Genome 5"
      ],
      "metadata": {
        "id": "SrCgatEKm3j1"
      }
    },
    {
      "cell_type": "code",
      "source": [
        "with open(\"GCF_002813695.1_ASM281369v1_genomic.fna\", 'r') as stream:\n",
        "  sequences = list(SeqIO.parse(stream, format='fasta'))\n",
        "\n",
        "for s in sequences:\n",
        "  print(f\"{s.description} \\n\\t=> {len(s)}\")"
      ],
      "metadata": {
        "colab": {
          "base_uri": "https://localhost:8080/"
        },
        "id": "0rGEHNhGm3Dz",
        "outputId": "a0a799b2-6a0e-4ab8-83b2-43a7f6d0a43b"
      },
      "execution_count": 28,
      "outputs": [
        {
          "output_type": "stream",
          "name": "stdout",
          "text": [
            "NZ_CP017768.1 Methanobacterium subterraneum strain A8p chromosome, complete genome \n",
            "\t=> 2515817\n"
          ]
        }
      ]
    },
    {
      "cell_type": "code",
      "source": [
        "seq = sequences[0]\n",
        "df5 = zhunt(str(seq.seq))\n",
        "\n",
        "df5"
      ],
      "metadata": {
        "colab": {
          "base_uri": "https://localhost:8080/",
          "height": 424
        },
        "id": "joOSNLHym8Rn",
        "outputId": "0b83c381-a8e2-486c-ad90-ebe2a122a5a6"
      },
      "execution_count": 29,
      "outputs": [
        {
          "output_type": "execute_result",
          "data": {
            "text/plain": [
              "           Start      End  ZH-Score      Sequence  Conformation\n",
              "0              1        7  0.213403        atggga        SASASA\n",
              "1              2        8  0.423631        tgggaa        ASASAS\n",
              "2              3       15  0.277514  gggaaatgaaca  ASASASASASAS\n",
              "3              4       16  3.001581  ggaaatgaacac  SASASASASASA\n",
              "4              5       17  0.443757  gaaatgaacacc  ASASASASASAS\n",
              "...          ...      ...       ...           ...           ...\n",
              "2515812  2515813  2515823  4.576414    taaacatggg    ASASASASAS\n",
              "2515813  2515814  2515822  2.289232      aaacatgg      SASASASA\n",
              "2515814  2515815  2515823  5.436331      aacatggg      ASASASAS\n",
              "2515815  2515816  2515822  2.649611        acatgg        SASASA\n",
              "2515816  2515817  2515823  6.975554        catggg        ASASAS\n",
              "\n",
              "[2515817 rows x 5 columns]"
            ],
            "text/html": [
              "\n",
              "  <div id=\"df-7e899d23-14aa-4307-b513-e6ef95f57086\">\n",
              "    <div class=\"colab-df-container\">\n",
              "      <div>\n",
              "<style scoped>\n",
              "    .dataframe tbody tr th:only-of-type {\n",
              "        vertical-align: middle;\n",
              "    }\n",
              "\n",
              "    .dataframe tbody tr th {\n",
              "        vertical-align: top;\n",
              "    }\n",
              "\n",
              "    .dataframe thead th {\n",
              "        text-align: right;\n",
              "    }\n",
              "</style>\n",
              "<table border=\"1\" class=\"dataframe\">\n",
              "  <thead>\n",
              "    <tr style=\"text-align: right;\">\n",
              "      <th></th>\n",
              "      <th>Start</th>\n",
              "      <th>End</th>\n",
              "      <th>ZH-Score</th>\n",
              "      <th>Sequence</th>\n",
              "      <th>Conformation</th>\n",
              "    </tr>\n",
              "  </thead>\n",
              "  <tbody>\n",
              "    <tr>\n",
              "      <th>0</th>\n",
              "      <td>1</td>\n",
              "      <td>7</td>\n",
              "      <td>0.213403</td>\n",
              "      <td>atggga</td>\n",
              "      <td>SASASA</td>\n",
              "    </tr>\n",
              "    <tr>\n",
              "      <th>1</th>\n",
              "      <td>2</td>\n",
              "      <td>8</td>\n",
              "      <td>0.423631</td>\n",
              "      <td>tgggaa</td>\n",
              "      <td>ASASAS</td>\n",
              "    </tr>\n",
              "    <tr>\n",
              "      <th>2</th>\n",
              "      <td>3</td>\n",
              "      <td>15</td>\n",
              "      <td>0.277514</td>\n",
              "      <td>gggaaatgaaca</td>\n",
              "      <td>ASASASASASAS</td>\n",
              "    </tr>\n",
              "    <tr>\n",
              "      <th>3</th>\n",
              "      <td>4</td>\n",
              "      <td>16</td>\n",
              "      <td>3.001581</td>\n",
              "      <td>ggaaatgaacac</td>\n",
              "      <td>SASASASASASA</td>\n",
              "    </tr>\n",
              "    <tr>\n",
              "      <th>4</th>\n",
              "      <td>5</td>\n",
              "      <td>17</td>\n",
              "      <td>0.443757</td>\n",
              "      <td>gaaatgaacacc</td>\n",
              "      <td>ASASASASASAS</td>\n",
              "    </tr>\n",
              "    <tr>\n",
              "      <th>...</th>\n",
              "      <td>...</td>\n",
              "      <td>...</td>\n",
              "      <td>...</td>\n",
              "      <td>...</td>\n",
              "      <td>...</td>\n",
              "    </tr>\n",
              "    <tr>\n",
              "      <th>2515812</th>\n",
              "      <td>2515813</td>\n",
              "      <td>2515823</td>\n",
              "      <td>4.576414</td>\n",
              "      <td>taaacatggg</td>\n",
              "      <td>ASASASASAS</td>\n",
              "    </tr>\n",
              "    <tr>\n",
              "      <th>2515813</th>\n",
              "      <td>2515814</td>\n",
              "      <td>2515822</td>\n",
              "      <td>2.289232</td>\n",
              "      <td>aaacatgg</td>\n",
              "      <td>SASASASA</td>\n",
              "    </tr>\n",
              "    <tr>\n",
              "      <th>2515814</th>\n",
              "      <td>2515815</td>\n",
              "      <td>2515823</td>\n",
              "      <td>5.436331</td>\n",
              "      <td>aacatggg</td>\n",
              "      <td>ASASASAS</td>\n",
              "    </tr>\n",
              "    <tr>\n",
              "      <th>2515815</th>\n",
              "      <td>2515816</td>\n",
              "      <td>2515822</td>\n",
              "      <td>2.649611</td>\n",
              "      <td>acatgg</td>\n",
              "      <td>SASASA</td>\n",
              "    </tr>\n",
              "    <tr>\n",
              "      <th>2515816</th>\n",
              "      <td>2515817</td>\n",
              "      <td>2515823</td>\n",
              "      <td>6.975554</td>\n",
              "      <td>catggg</td>\n",
              "      <td>ASASAS</td>\n",
              "    </tr>\n",
              "  </tbody>\n",
              "</table>\n",
              "<p>2515817 rows × 5 columns</p>\n",
              "</div>\n",
              "      <button class=\"colab-df-convert\" onclick=\"convertToInteractive('df-7e899d23-14aa-4307-b513-e6ef95f57086')\"\n",
              "              title=\"Convert this dataframe to an interactive table.\"\n",
              "              style=\"display:none;\">\n",
              "        \n",
              "  <svg xmlns=\"http://www.w3.org/2000/svg\" height=\"24px\"viewBox=\"0 0 24 24\"\n",
              "       width=\"24px\">\n",
              "    <path d=\"M0 0h24v24H0V0z\" fill=\"none\"/>\n",
              "    <path d=\"M18.56 5.44l.94 2.06.94-2.06 2.06-.94-2.06-.94-.94-2.06-.94 2.06-2.06.94zm-11 1L8.5 8.5l.94-2.06 2.06-.94-2.06-.94L8.5 2.5l-.94 2.06-2.06.94zm10 10l.94 2.06.94-2.06 2.06-.94-2.06-.94-.94-2.06-.94 2.06-2.06.94z\"/><path d=\"M17.41 7.96l-1.37-1.37c-.4-.4-.92-.59-1.43-.59-.52 0-1.04.2-1.43.59L10.3 9.45l-7.72 7.72c-.78.78-.78 2.05 0 2.83L4 21.41c.39.39.9.59 1.41.59.51 0 1.02-.2 1.41-.59l7.78-7.78 2.81-2.81c.8-.78.8-2.07 0-2.86zM5.41 20L4 18.59l7.72-7.72 1.47 1.35L5.41 20z\"/>\n",
              "  </svg>\n",
              "      </button>\n",
              "      \n",
              "  <style>\n",
              "    .colab-df-container {\n",
              "      display:flex;\n",
              "      flex-wrap:wrap;\n",
              "      gap: 12px;\n",
              "    }\n",
              "\n",
              "    .colab-df-convert {\n",
              "      background-color: #E8F0FE;\n",
              "      border: none;\n",
              "      border-radius: 50%;\n",
              "      cursor: pointer;\n",
              "      display: none;\n",
              "      fill: #1967D2;\n",
              "      height: 32px;\n",
              "      padding: 0 0 0 0;\n",
              "      width: 32px;\n",
              "    }\n",
              "\n",
              "    .colab-df-convert:hover {\n",
              "      background-color: #E2EBFA;\n",
              "      box-shadow: 0px 1px 2px rgba(60, 64, 67, 0.3), 0px 1px 3px 1px rgba(60, 64, 67, 0.15);\n",
              "      fill: #174EA6;\n",
              "    }\n",
              "\n",
              "    [theme=dark] .colab-df-convert {\n",
              "      background-color: #3B4455;\n",
              "      fill: #D2E3FC;\n",
              "    }\n",
              "\n",
              "    [theme=dark] .colab-df-convert:hover {\n",
              "      background-color: #434B5C;\n",
              "      box-shadow: 0px 1px 3px 1px rgba(0, 0, 0, 0.15);\n",
              "      filter: drop-shadow(0px 1px 2px rgba(0, 0, 0, 0.3));\n",
              "      fill: #FFFFFF;\n",
              "    }\n",
              "  </style>\n",
              "\n",
              "      <script>\n",
              "        const buttonEl =\n",
              "          document.querySelector('#df-7e899d23-14aa-4307-b513-e6ef95f57086 button.colab-df-convert');\n",
              "        buttonEl.style.display =\n",
              "          google.colab.kernel.accessAllowed ? 'block' : 'none';\n",
              "\n",
              "        async function convertToInteractive(key) {\n",
              "          const element = document.querySelector('#df-7e899d23-14aa-4307-b513-e6ef95f57086');\n",
              "          const dataTable =\n",
              "            await google.colab.kernel.invokeFunction('convertToInteractive',\n",
              "                                                     [key], {});\n",
              "          if (!dataTable) return;\n",
              "\n",
              "          const docLinkHtml = 'Like what you see? Visit the ' +\n",
              "            '<a target=\"_blank\" href=https://colab.research.google.com/notebooks/data_table.ipynb>data table notebook</a>'\n",
              "            + ' to learn more about interactive tables.';\n",
              "          element.innerHTML = '';\n",
              "          dataTable['output_type'] = 'display_data';\n",
              "          await google.colab.output.renderOutput(dataTable, element);\n",
              "          const docLink = document.createElement('div');\n",
              "          docLink.innerHTML = docLinkHtml;\n",
              "          element.appendChild(docLink);\n",
              "        }\n",
              "      </script>\n",
              "    </div>\n",
              "  </div>\n",
              "  "
            ]
          },
          "metadata": {},
          "execution_count": 29
        }
      ]
    },
    {
      "cell_type": "code",
      "source": [
        "z_5 = df5[df5['ZH-Score']>=500]"
      ],
      "metadata": {
        "id": "xRXm8RMuRdJp"
      },
      "execution_count": 30,
      "outputs": []
    },
    {
      "cell_type": "code",
      "source": [
        "z_5"
      ],
      "metadata": {
        "colab": {
          "base_uri": "https://localhost:8080/",
          "height": 424
        },
        "id": "iMnW9Iszu58F",
        "outputId": "f2bd1e94-6f27-410c-d864-3de664604dcc"
      },
      "execution_count": 31,
      "outputs": [
        {
          "output_type": "execute_result",
          "data": {
            "text/plain": [
              "           Start      End  ZH-Score      Sequence  Conformation\n",
              "4688        4689     4699  534.0780    ttcgcgcaca    ASASASASAS\n",
              "4690        4691     4699  783.8230      cgcgcaca      ASASASAS\n",
              "38184      38185    38195  593.1970    gagcgcacac    SASASASASA\n",
              "38186      38187    38195  783.8230      gcgcacac      SASASASA\n",
              "53520      53521    53533  663.3761  cccatgtgtgcg  ASASASASASAS\n",
              "...          ...      ...       ...           ...           ...\n",
              "2506554  2506555  2506565  606.2072    ctgcgcgtgt    SASASASASA\n",
              "2506555  2506556  2506564  908.3955      tgcgcgtg      ASASASAS\n",
              "2506556  2506557  2506565  783.8230      gcgcgtgt      SASASASA\n",
              "2513956  2513957  2513969  752.6030  tacatgcgcatg  ASASASASASAS\n",
              "2513958  2513959  2513971  752.6030  catgcgcatgta  ASASASASASAS\n",
              "\n",
              "[443 rows x 5 columns]"
            ],
            "text/html": [
              "\n",
              "  <div id=\"df-b009b43c-4372-4870-b5c9-7c9f4fcd6f79\">\n",
              "    <div class=\"colab-df-container\">\n",
              "      <div>\n",
              "<style scoped>\n",
              "    .dataframe tbody tr th:only-of-type {\n",
              "        vertical-align: middle;\n",
              "    }\n",
              "\n",
              "    .dataframe tbody tr th {\n",
              "        vertical-align: top;\n",
              "    }\n",
              "\n",
              "    .dataframe thead th {\n",
              "        text-align: right;\n",
              "    }\n",
              "</style>\n",
              "<table border=\"1\" class=\"dataframe\">\n",
              "  <thead>\n",
              "    <tr style=\"text-align: right;\">\n",
              "      <th></th>\n",
              "      <th>Start</th>\n",
              "      <th>End</th>\n",
              "      <th>ZH-Score</th>\n",
              "      <th>Sequence</th>\n",
              "      <th>Conformation</th>\n",
              "    </tr>\n",
              "  </thead>\n",
              "  <tbody>\n",
              "    <tr>\n",
              "      <th>4688</th>\n",
              "      <td>4689</td>\n",
              "      <td>4699</td>\n",
              "      <td>534.0780</td>\n",
              "      <td>ttcgcgcaca</td>\n",
              "      <td>ASASASASAS</td>\n",
              "    </tr>\n",
              "    <tr>\n",
              "      <th>4690</th>\n",
              "      <td>4691</td>\n",
              "      <td>4699</td>\n",
              "      <td>783.8230</td>\n",
              "      <td>cgcgcaca</td>\n",
              "      <td>ASASASAS</td>\n",
              "    </tr>\n",
              "    <tr>\n",
              "      <th>38184</th>\n",
              "      <td>38185</td>\n",
              "      <td>38195</td>\n",
              "      <td>593.1970</td>\n",
              "      <td>gagcgcacac</td>\n",
              "      <td>SASASASASA</td>\n",
              "    </tr>\n",
              "    <tr>\n",
              "      <th>38186</th>\n",
              "      <td>38187</td>\n",
              "      <td>38195</td>\n",
              "      <td>783.8230</td>\n",
              "      <td>gcgcacac</td>\n",
              "      <td>SASASASA</td>\n",
              "    </tr>\n",
              "    <tr>\n",
              "      <th>53520</th>\n",
              "      <td>53521</td>\n",
              "      <td>53533</td>\n",
              "      <td>663.3761</td>\n",
              "      <td>cccatgtgtgcg</td>\n",
              "      <td>ASASASASASAS</td>\n",
              "    </tr>\n",
              "    <tr>\n",
              "      <th>...</th>\n",
              "      <td>...</td>\n",
              "      <td>...</td>\n",
              "      <td>...</td>\n",
              "      <td>...</td>\n",
              "      <td>...</td>\n",
              "    </tr>\n",
              "    <tr>\n",
              "      <th>2506554</th>\n",
              "      <td>2506555</td>\n",
              "      <td>2506565</td>\n",
              "      <td>606.2072</td>\n",
              "      <td>ctgcgcgtgt</td>\n",
              "      <td>SASASASASA</td>\n",
              "    </tr>\n",
              "    <tr>\n",
              "      <th>2506555</th>\n",
              "      <td>2506556</td>\n",
              "      <td>2506564</td>\n",
              "      <td>908.3955</td>\n",
              "      <td>tgcgcgtg</td>\n",
              "      <td>ASASASAS</td>\n",
              "    </tr>\n",
              "    <tr>\n",
              "      <th>2506556</th>\n",
              "      <td>2506557</td>\n",
              "      <td>2506565</td>\n",
              "      <td>783.8230</td>\n",
              "      <td>gcgcgtgt</td>\n",
              "      <td>SASASASA</td>\n",
              "    </tr>\n",
              "    <tr>\n",
              "      <th>2513956</th>\n",
              "      <td>2513957</td>\n",
              "      <td>2513969</td>\n",
              "      <td>752.6030</td>\n",
              "      <td>tacatgcgcatg</td>\n",
              "      <td>ASASASASASAS</td>\n",
              "    </tr>\n",
              "    <tr>\n",
              "      <th>2513958</th>\n",
              "      <td>2513959</td>\n",
              "      <td>2513971</td>\n",
              "      <td>752.6030</td>\n",
              "      <td>catgcgcatgta</td>\n",
              "      <td>ASASASASASAS</td>\n",
              "    </tr>\n",
              "  </tbody>\n",
              "</table>\n",
              "<p>443 rows × 5 columns</p>\n",
              "</div>\n",
              "      <button class=\"colab-df-convert\" onclick=\"convertToInteractive('df-b009b43c-4372-4870-b5c9-7c9f4fcd6f79')\"\n",
              "              title=\"Convert this dataframe to an interactive table.\"\n",
              "              style=\"display:none;\">\n",
              "        \n",
              "  <svg xmlns=\"http://www.w3.org/2000/svg\" height=\"24px\"viewBox=\"0 0 24 24\"\n",
              "       width=\"24px\">\n",
              "    <path d=\"M0 0h24v24H0V0z\" fill=\"none\"/>\n",
              "    <path d=\"M18.56 5.44l.94 2.06.94-2.06 2.06-.94-2.06-.94-.94-2.06-.94 2.06-2.06.94zm-11 1L8.5 8.5l.94-2.06 2.06-.94-2.06-.94L8.5 2.5l-.94 2.06-2.06.94zm10 10l.94 2.06.94-2.06 2.06-.94-2.06-.94-.94-2.06-.94 2.06-2.06.94z\"/><path d=\"M17.41 7.96l-1.37-1.37c-.4-.4-.92-.59-1.43-.59-.52 0-1.04.2-1.43.59L10.3 9.45l-7.72 7.72c-.78.78-.78 2.05 0 2.83L4 21.41c.39.39.9.59 1.41.59.51 0 1.02-.2 1.41-.59l7.78-7.78 2.81-2.81c.8-.78.8-2.07 0-2.86zM5.41 20L4 18.59l7.72-7.72 1.47 1.35L5.41 20z\"/>\n",
              "  </svg>\n",
              "      </button>\n",
              "      \n",
              "  <style>\n",
              "    .colab-df-container {\n",
              "      display:flex;\n",
              "      flex-wrap:wrap;\n",
              "      gap: 12px;\n",
              "    }\n",
              "\n",
              "    .colab-df-convert {\n",
              "      background-color: #E8F0FE;\n",
              "      border: none;\n",
              "      border-radius: 50%;\n",
              "      cursor: pointer;\n",
              "      display: none;\n",
              "      fill: #1967D2;\n",
              "      height: 32px;\n",
              "      padding: 0 0 0 0;\n",
              "      width: 32px;\n",
              "    }\n",
              "\n",
              "    .colab-df-convert:hover {\n",
              "      background-color: #E2EBFA;\n",
              "      box-shadow: 0px 1px 2px rgba(60, 64, 67, 0.3), 0px 1px 3px 1px rgba(60, 64, 67, 0.15);\n",
              "      fill: #174EA6;\n",
              "    }\n",
              "\n",
              "    [theme=dark] .colab-df-convert {\n",
              "      background-color: #3B4455;\n",
              "      fill: #D2E3FC;\n",
              "    }\n",
              "\n",
              "    [theme=dark] .colab-df-convert:hover {\n",
              "      background-color: #434B5C;\n",
              "      box-shadow: 0px 1px 3px 1px rgba(0, 0, 0, 0.15);\n",
              "      filter: drop-shadow(0px 1px 2px rgba(0, 0, 0, 0.3));\n",
              "      fill: #FFFFFF;\n",
              "    }\n",
              "  </style>\n",
              "\n",
              "      <script>\n",
              "        const buttonEl =\n",
              "          document.querySelector('#df-b009b43c-4372-4870-b5c9-7c9f4fcd6f79 button.colab-df-convert');\n",
              "        buttonEl.style.display =\n",
              "          google.colab.kernel.accessAllowed ? 'block' : 'none';\n",
              "\n",
              "        async function convertToInteractive(key) {\n",
              "          const element = document.querySelector('#df-b009b43c-4372-4870-b5c9-7c9f4fcd6f79');\n",
              "          const dataTable =\n",
              "            await google.colab.kernel.invokeFunction('convertToInteractive',\n",
              "                                                     [key], {});\n",
              "          if (!dataTable) return;\n",
              "\n",
              "          const docLinkHtml = 'Like what you see? Visit the ' +\n",
              "            '<a target=\"_blank\" href=https://colab.research.google.com/notebooks/data_table.ipynb>data table notebook</a>'\n",
              "            + ' to learn more about interactive tables.';\n",
              "          element.innerHTML = '';\n",
              "          dataTable['output_type'] = 'display_data';\n",
              "          await google.colab.output.renderOutput(dataTable, element);\n",
              "          const docLink = document.createElement('div');\n",
              "          docLink.innerHTML = docLinkHtml;\n",
              "          element.appendChild(docLink);\n",
              "        }\n",
              "      </script>\n",
              "    </div>\n",
              "  </div>\n",
              "  "
            ]
          },
          "metadata": {},
          "execution_count": 31
        }
      ]
    },
    {
      "cell_type": "markdown",
      "source": [
        "# Z-Hunt res"
      ],
      "metadata": {
        "id": "Bjo-QQnTnVnl"
      }
    },
    {
      "cell_type": "code",
      "source": [
        "z_reg = []\n",
        "z_length = []\n",
        "z_regf = []\n",
        "for i in range(1, 6):\n",
        "  exec(f'z_reg.append(z_{i}.shape[0])')\n",
        "  exec(f'z_length.append(sum(z_{i}[\"End\"] - z_{i}[\"Start\"]))')\n",
        "  exec(f'z_regf.append(df{i}.shape[0])')\n"
      ],
      "metadata": {
        "id": "5PD-ZbSHuQDi"
      },
      "execution_count": 32,
      "outputs": []
    },
    {
      "cell_type": "code",
      "source": [
        "z_length"
      ],
      "metadata": {
        "colab": {
          "base_uri": "https://localhost:8080/"
        },
        "id": "zZ5QmwgjwwXf",
        "outputId": "7eda37eb-b55d-4f72-a215-ac842ae29bdb"
      },
      "execution_count": 33,
      "outputs": [
        {
          "output_type": "execute_result",
          "data": {
            "text/plain": [
              "[5806, 4960, 3134, 4258, 4510]"
            ]
          },
          "metadata": {},
          "execution_count": 33
        }
      ]
    },
    {
      "cell_type": "code",
      "source": [
        "z_reg"
      ],
      "metadata": {
        "colab": {
          "base_uri": "https://localhost:8080/"
        },
        "id": "Cqi9LwF3yhEj",
        "outputId": "b673e374-1571-48b8-8a69-d134f3be556e"
      },
      "execution_count": 34,
      "outputs": [
        {
          "output_type": "execute_result",
          "data": {
            "text/plain": [
              "[561, 490, 302, 416, 443]"
            ]
          },
          "metadata": {},
          "execution_count": 34
        }
      ]
    },
    {
      "cell_type": "code",
      "source": [
        "z_regf"
      ],
      "metadata": {
        "colab": {
          "base_uri": "https://localhost:8080/"
        },
        "id": "oNTqhy9O8rK5",
        "outputId": "7b2e0df0-5ab2-483d-c8e7-2db445be1777"
      },
      "execution_count": 35,
      "outputs": [
        {
          "output_type": "execute_result",
          "data": {
            "text/plain": [
              "[2451457, 2494510, 2583753, 2546541, 2515817]"
            ]
          },
          "metadata": {},
          "execution_count": 35
        }
      ]
    },
    {
      "cell_type": "code",
      "source": [
        "sum_table.insert(5, \"Z-hunt all regions\", z_regf)\n",
        "sum_table.insert(6, \"Z-hunt >=500 regions\", z_reg)\n",
        "sum_table.insert(7, \"Z-hunt >=500 regions' length\", z_length)"
      ],
      "metadata": {
        "id": "1qD37fMJY3Hd"
      },
      "execution_count": 36,
      "outputs": []
    },
    {
      "cell_type": "code",
      "source": [
        "sum_table"
      ],
      "metadata": {
        "colab": {
          "base_uri": "https://localhost:8080/",
          "height": 337
        },
        "id": "TgqFT23Ht5vr",
        "outputId": "ddd93ec1-5ae1-4963-a650-355bf3d6c993"
      },
      "execution_count": 37,
      "outputs": [
        {
          "output_type": "execute_result",
          "data": {
            "text/plain": [
              "                        organism  size(bp)  Scaffolds  num_ann_genes  \\\n",
              "0    Methanobacterium congolense   2469570          2           2470   \n",
              "1    Methanobacterium formicicum   2494510          1           2482   \n",
              "2         Methanobacterium lacus   2583750          1           2392   \n",
              "3       Methanobacterium paludis   2546540          1           2566   \n",
              "4  Methanobacterium subterraneum   2515820          1           2455   \n",
              "\n",
              "   proc_ann_genes  Z-hunt all regions  Z-hunt >=500 regions  \\\n",
              "0        0.846892             2451457                   561   \n",
              "1        0.813887             2494510                   490   \n",
              "2        0.775839             2583753                   302   \n",
              "3        0.853347             2546541                   416   \n",
              "4        0.828431             2515817                   443   \n",
              "\n",
              "   Z-hunt >=500 regions' length  \n",
              "0                          5806  \n",
              "1                          4960  \n",
              "2                          3134  \n",
              "3                          4258  \n",
              "4                          4510  "
            ],
            "text/html": [
              "\n",
              "  <div id=\"df-32065241-84df-4a4d-b155-a5dc36b8d9bd\">\n",
              "    <div class=\"colab-df-container\">\n",
              "      <div>\n",
              "<style scoped>\n",
              "    .dataframe tbody tr th:only-of-type {\n",
              "        vertical-align: middle;\n",
              "    }\n",
              "\n",
              "    .dataframe tbody tr th {\n",
              "        vertical-align: top;\n",
              "    }\n",
              "\n",
              "    .dataframe thead th {\n",
              "        text-align: right;\n",
              "    }\n",
              "</style>\n",
              "<table border=\"1\" class=\"dataframe\">\n",
              "  <thead>\n",
              "    <tr style=\"text-align: right;\">\n",
              "      <th></th>\n",
              "      <th>organism</th>\n",
              "      <th>size(bp)</th>\n",
              "      <th>Scaffolds</th>\n",
              "      <th>num_ann_genes</th>\n",
              "      <th>proc_ann_genes</th>\n",
              "      <th>Z-hunt all regions</th>\n",
              "      <th>Z-hunt &gt;=500 regions</th>\n",
              "      <th>Z-hunt &gt;=500 regions' length</th>\n",
              "    </tr>\n",
              "  </thead>\n",
              "  <tbody>\n",
              "    <tr>\n",
              "      <th>0</th>\n",
              "      <td>Methanobacterium congolense</td>\n",
              "      <td>2469570</td>\n",
              "      <td>2</td>\n",
              "      <td>2470</td>\n",
              "      <td>0.846892</td>\n",
              "      <td>2451457</td>\n",
              "      <td>561</td>\n",
              "      <td>5806</td>\n",
              "    </tr>\n",
              "    <tr>\n",
              "      <th>1</th>\n",
              "      <td>Methanobacterium formicicum</td>\n",
              "      <td>2494510</td>\n",
              "      <td>1</td>\n",
              "      <td>2482</td>\n",
              "      <td>0.813887</td>\n",
              "      <td>2494510</td>\n",
              "      <td>490</td>\n",
              "      <td>4960</td>\n",
              "    </tr>\n",
              "    <tr>\n",
              "      <th>2</th>\n",
              "      <td>Methanobacterium lacus</td>\n",
              "      <td>2583750</td>\n",
              "      <td>1</td>\n",
              "      <td>2392</td>\n",
              "      <td>0.775839</td>\n",
              "      <td>2583753</td>\n",
              "      <td>302</td>\n",
              "      <td>3134</td>\n",
              "    </tr>\n",
              "    <tr>\n",
              "      <th>3</th>\n",
              "      <td>Methanobacterium paludis</td>\n",
              "      <td>2546540</td>\n",
              "      <td>1</td>\n",
              "      <td>2566</td>\n",
              "      <td>0.853347</td>\n",
              "      <td>2546541</td>\n",
              "      <td>416</td>\n",
              "      <td>4258</td>\n",
              "    </tr>\n",
              "    <tr>\n",
              "      <th>4</th>\n",
              "      <td>Methanobacterium subterraneum</td>\n",
              "      <td>2515820</td>\n",
              "      <td>1</td>\n",
              "      <td>2455</td>\n",
              "      <td>0.828431</td>\n",
              "      <td>2515817</td>\n",
              "      <td>443</td>\n",
              "      <td>4510</td>\n",
              "    </tr>\n",
              "  </tbody>\n",
              "</table>\n",
              "</div>\n",
              "      <button class=\"colab-df-convert\" onclick=\"convertToInteractive('df-32065241-84df-4a4d-b155-a5dc36b8d9bd')\"\n",
              "              title=\"Convert this dataframe to an interactive table.\"\n",
              "              style=\"display:none;\">\n",
              "        \n",
              "  <svg xmlns=\"http://www.w3.org/2000/svg\" height=\"24px\"viewBox=\"0 0 24 24\"\n",
              "       width=\"24px\">\n",
              "    <path d=\"M0 0h24v24H0V0z\" fill=\"none\"/>\n",
              "    <path d=\"M18.56 5.44l.94 2.06.94-2.06 2.06-.94-2.06-.94-.94-2.06-.94 2.06-2.06.94zm-11 1L8.5 8.5l.94-2.06 2.06-.94-2.06-.94L8.5 2.5l-.94 2.06-2.06.94zm10 10l.94 2.06.94-2.06 2.06-.94-2.06-.94-.94-2.06-.94 2.06-2.06.94z\"/><path d=\"M17.41 7.96l-1.37-1.37c-.4-.4-.92-.59-1.43-.59-.52 0-1.04.2-1.43.59L10.3 9.45l-7.72 7.72c-.78.78-.78 2.05 0 2.83L4 21.41c.39.39.9.59 1.41.59.51 0 1.02-.2 1.41-.59l7.78-7.78 2.81-2.81c.8-.78.8-2.07 0-2.86zM5.41 20L4 18.59l7.72-7.72 1.47 1.35L5.41 20z\"/>\n",
              "  </svg>\n",
              "      </button>\n",
              "      \n",
              "  <style>\n",
              "    .colab-df-container {\n",
              "      display:flex;\n",
              "      flex-wrap:wrap;\n",
              "      gap: 12px;\n",
              "    }\n",
              "\n",
              "    .colab-df-convert {\n",
              "      background-color: #E8F0FE;\n",
              "      border: none;\n",
              "      border-radius: 50%;\n",
              "      cursor: pointer;\n",
              "      display: none;\n",
              "      fill: #1967D2;\n",
              "      height: 32px;\n",
              "      padding: 0 0 0 0;\n",
              "      width: 32px;\n",
              "    }\n",
              "\n",
              "    .colab-df-convert:hover {\n",
              "      background-color: #E2EBFA;\n",
              "      box-shadow: 0px 1px 2px rgba(60, 64, 67, 0.3), 0px 1px 3px 1px rgba(60, 64, 67, 0.15);\n",
              "      fill: #174EA6;\n",
              "    }\n",
              "\n",
              "    [theme=dark] .colab-df-convert {\n",
              "      background-color: #3B4455;\n",
              "      fill: #D2E3FC;\n",
              "    }\n",
              "\n",
              "    [theme=dark] .colab-df-convert:hover {\n",
              "      background-color: #434B5C;\n",
              "      box-shadow: 0px 1px 3px 1px rgba(0, 0, 0, 0.15);\n",
              "      filter: drop-shadow(0px 1px 2px rgba(0, 0, 0, 0.3));\n",
              "      fill: #FFFFFF;\n",
              "    }\n",
              "  </style>\n",
              "\n",
              "      <script>\n",
              "        const buttonEl =\n",
              "          document.querySelector('#df-32065241-84df-4a4d-b155-a5dc36b8d9bd button.colab-df-convert');\n",
              "        buttonEl.style.display =\n",
              "          google.colab.kernel.accessAllowed ? 'block' : 'none';\n",
              "\n",
              "        async function convertToInteractive(key) {\n",
              "          const element = document.querySelector('#df-32065241-84df-4a4d-b155-a5dc36b8d9bd');\n",
              "          const dataTable =\n",
              "            await google.colab.kernel.invokeFunction('convertToInteractive',\n",
              "                                                     [key], {});\n",
              "          if (!dataTable) return;\n",
              "\n",
              "          const docLinkHtml = 'Like what you see? Visit the ' +\n",
              "            '<a target=\"_blank\" href=https://colab.research.google.com/notebooks/data_table.ipynb>data table notebook</a>'\n",
              "            + ' to learn more about interactive tables.';\n",
              "          element.innerHTML = '';\n",
              "          dataTable['output_type'] = 'display_data';\n",
              "          await google.colab.output.renderOutput(dataTable, element);\n",
              "          const docLink = document.createElement('div');\n",
              "          docLink.innerHTML = docLinkHtml;\n",
              "          element.appendChild(docLink);\n",
              "        }\n",
              "      </script>\n",
              "    </div>\n",
              "  </div>\n",
              "  "
            ]
          },
          "metadata": {},
          "execution_count": 37
        }
      ]
    },
    {
      "cell_type": "code",
      "source": [
        "z_1.to_csv(r'GCF_900095295.1_MCBB_genomic.zhunt.txt', header = z_1.columns, index=None, sep='\\t', mode='a')\n",
        "z_2.to_csv(r'GCF_001458655.1_Mb9_genomic.zhunt.txt', header = z_2.columns, index=None, sep='\\t', mode='a')\n",
        "z_3.to_csv(r'GCF_000191585.1_ASM19158v1_genomic.zhunt.txt', header = z_3.columns, index=None, sep='\\t', mode='a')\n",
        "z_4.to_csv(r'GCF_000214725.1_ASM21472v1_genomic.zhunt.txt', header = z_4.columns, index=None, sep='\\t', mode='a')\n",
        "z_5.to_csv(r'GCF_002813695.1_ASM281369v1_genomic.zhunt.txt', header = z_5.columns, index=None, sep='\\t', mode='a')"
      ],
      "metadata": {
        "id": "1Qcq9DWS86mK"
      },
      "execution_count": 38,
      "outputs": []
    },
    {
      "cell_type": "code",
      "source": [
        "sum_table.to_csv(r'final_table.txt', header = sum_table.columns, index=None, sep='\\t', mode='a')"
      ],
      "metadata": {
        "id": "iMvSKtW5zf11"
      },
      "execution_count": 39,
      "outputs": []
    },
    {
      "cell_type": "code",
      "source": [
        "def make_bed(data,fileName, genome_file ):\n",
        "  \n",
        "  to_write = data.copy()\n",
        "  to_write.insert(0, 'chr', str(genome_file).split('.')[0])\n",
        "  to_write['name'] =to_write.chr.astype(str) +'_'+ to_write.Start.astype(str)\n",
        "  to_write[['chr','Start','End','name','ZH-Score']].to_csv(fileName, sep = '\\t', header=False,index=False)"
      ],
      "metadata": {
        "id": "OuSSGU3tRsOk"
      },
      "execution_count": 40,
      "outputs": []
    },
    {
      "cell_type": "code",
      "source": [
        "! ls"
      ],
      "metadata": {
        "colab": {
          "base_uri": "https://localhost:8080/"
        },
        "id": "8icCgaVVd2qP",
        "outputId": "ccc85827-cd92-40e3-fb48-f266dc7f75e2"
      },
      "execution_count": 41,
      "outputs": [
        {
          "output_type": "stream",
          "name": "stdout",
          "text": [
            "condacolab_install.log\n",
            "final_table.txt\n",
            "GCF_000191585.1_ASM19158v1_feature_table.txt\n",
            "GCF_000191585.1_ASM19158v1_genomic.fna\n",
            "GCF_000191585.1_ASM19158v1_genomic.gbff\n",
            "GCF_000191585.1_ASM19158v1_genomic.gff\n",
            "GCF_000191585.1_ASM19158v1_genomic.gtf\n",
            "GCF_000191585.1_ASM19158v1_genomic.zhunt.txt\n",
            "GCF_000214725.1_ASM21472v1_feature_table.txt\n",
            "GCF_000214725.1_ASM21472v1_genomic.fna\n",
            "GCF_000214725.1_ASM21472v1_genomic.gbff\n",
            "GCF_000214725.1_ASM21472v1_genomic.gff\n",
            "GCF_000214725.1_ASM21472v1_genomic.gtf\n",
            "GCF_000214725.1_ASM21472v1_genomic.zhunt.txt\n",
            "GCF_001458655.1_Mb9_feature_table.txt\n",
            "GCF_001458655.1_Mb9_genomic.fna\n",
            "GCF_001458655.1_Mb9_genomic.gbff\n",
            "GCF_001458655.1_Mb9_genomic.gff\n",
            "GCF_001458655.1_Mb9_genomic.gtf\n",
            "GCF_001458655.1_Mb9_genomic.zhunt.txt\n",
            "GCF_002813695.1_ASM281369v1_feature_table.txt\n",
            "GCF_002813695.1_ASM281369v1_genomic.fna\n",
            "GCF_002813695.1_ASM281369v1_genomic.gbff\n",
            "GCF_002813695.1_ASM281369v1_genomic.gff\n",
            "GCF_002813695.1_ASM281369v1_genomic.gtf\n",
            "GCF_002813695.1_ASM281369v1_genomic.zhunt.txt\n",
            "GCF_900095295.1_MCBB_feature_table.txt\n",
            "GCF_900095295.1_MCBB_genomic.fna\n",
            "GCF_900095295.1_MCBB_genomic.gbff\n",
            "GCF_900095295.1_MCBB_genomic.gff\n",
            "GCF_900095295.1_MCBB_genomic.gtf\n",
            "GCF_900095295.1_MCBB_genomic.zhunt.txt\n",
            "sample_data\n",
            "zhunt3\n",
            "zhunt3-alan.c\n"
          ]
        }
      ]
    },
    {
      "cell_type": "code",
      "source": [
        "make_bed(z_1, 'Z_1Genome.bed', 'GCF_900095295.1_MCBB_genomic.fna')\n",
        "make_bed(z_2, 'Z_2Genome.bed', 'GCF_001458655.1_Mb9_genomic.fna')\n",
        "make_bed(z_3, 'Z_3Genome.bed', 'GCF_000191585.1_ASM19158v1_genomic.fna')\n",
        "make_bed(z_4, 'Z_4Genome.bed', 'GCF_000214725.1_ASM21472v1_genomic.fna')\n",
        "make_bed(z_5, 'Z_5Genome.bed', 'GCF_002813695.1_ASM281369v1_genomic.fna')"
      ],
      "metadata": {
        "id": "ph2GWIGQYHWV"
      },
      "execution_count": 42,
      "outputs": []
    },
    {
      "cell_type": "code",
      "source": [
        "! head Z_1Genome.bed"
      ],
      "metadata": {
        "colab": {
          "base_uri": "https://localhost:8080/"
        },
        "id": "XdfSjbZFYwsu",
        "outputId": "97e54918-296f-482b-a318-7a23a798fea6"
      },
      "execution_count": 43,
      "outputs": [
        {
          "output_type": "stream",
          "name": "stdout",
          "text": [
            "GCF_900095295\t1278\t1290\tGCF_900095295_1278\t592.3405\n",
            "GCF_900095295\t1280\t1292\tGCF_900095295_1280\t790.8198\n",
            "GCF_900095295\t13426\t13434\tGCF_900095295_13426\t650.9198\n",
            "GCF_900095295\t18607\t18617\tGCF_900095295_18607\t501.5704\n",
            "GCF_900095295\t18609\t18617\tGCF_900095295_18609\t650.9198\n",
            "GCF_900095295\t22286\t22298\tGCF_900095295_22286\t915.9191\n",
            "GCF_900095295\t22288\t22298\tGCF_900095295_22288\t883.5764\n",
            "GCF_900095295\t23456\t23468\tGCF_900095295_23456\t966.8622\n",
            "GCF_900095295\t23458\t23468\tGCF_900095295_23458\t582.1673\n",
            "GCF_900095295\t23460\t23468\tGCF_900095295_23460\t766.6232\n"
          ]
        }
      ]
    },
    {
      "cell_type": "code",
      "source": [
        "! sort -k1,1 -k2,2n Z_1Genome.bed > Z_1Genome.sorted.bed \n",
        "! sort -k1,1 -k2,2n Z_2Genome.bed > Z_2Genome.sorted.bed \n",
        "! sort -k1,1 -k2,2n Z_3Genome.bed > Z_3Genome.sorted.bed \n",
        "! sort -k1,1 -k2,2n Z_4Genome.bed > Z_4Genome.sorted.bed \n",
        "! sort -k1,1 -k2,2n Z_5Genome.bed > Z_5Genome.sorted.bed "
      ],
      "metadata": {
        "id": "0pUFmiSmY_HL"
      },
      "execution_count": 44,
      "outputs": []
    },
    {
      "cell_type": "code",
      "source": [
        "import matplotlib.pyplot as plt"
      ],
      "metadata": {
        "id": "8emi_49yAPPG"
      },
      "execution_count": 45,
      "outputs": []
    },
    {
      "cell_type": "code",
      "source": [
        "plt.hist(z_1['ZH-Score'], bins = 100)\n",
        "plt.title('Methanobacterium congolense')\n",
        "plt.xlabel('ZH-Score')\n",
        "plt.show()"
      ],
      "metadata": {
        "colab": {
          "base_uri": "https://localhost:8080/",
          "height": 295
        },
        "id": "U1_iwYJj_qGm",
        "outputId": "ea73c579-b83e-4e4e-837d-6978d452858d"
      },
      "execution_count": 46,
      "outputs": [
        {
          "output_type": "display_data",
          "data": {
            "text/plain": [
              "<Figure size 432x288 with 1 Axes>"
            ],
            "image/png": "[encoded data removed]"
          },
          "metadata": {
            "needs_background": "light"
          }
        }
      ]
    },
    {
      "cell_type": "code",
      "source": [
        "plt.hist(z_2['ZH-Score'], bins = 100)\n",
        "plt.title('Methanobacterium formicicum')\n",
        "plt.xlabel('ZH-Score')\n",
        "plt.show()"
      ],
      "metadata": {
        "colab": {
          "base_uri": "https://localhost:8080/",
          "height": 295
        },
        "id": "f5WG7IMXBcJH",
        "outputId": "56cd6530-1eb0-4e5d-81b7-4371ba7d0207"
      },
      "execution_count": 47,
      "outputs": [
        {
          "output_type": "display_data",
          "data": {
            "text/plain": [
              "<Figure size 432x288 with 1 Axes>"
            ],
            "image/png": "[encoded data removed]"
          },
          "metadata": {
            "needs_background": "light"
          }
        }
      ]
    },
    {
      "cell_type": "code",
      "source": [
        "plt.hist(z_3['ZH-Score'], bins = 100)\n",
        "plt.title('Methanobacterium lacus')\n",
        "plt.xlabel('ZH-Score')\n",
        "plt.show()"
      ],
      "metadata": {
        "colab": {
          "base_uri": "https://localhost:8080/",
          "height": 295
        },
        "id": "w82piFhyBdkq",
        "outputId": "282fca43-f6a8-430c-b086-8d2c12efdf20"
      },
      "execution_count": 48,
      "outputs": [
        {
          "output_type": "display_data",
          "data": {
            "text/plain": [
              "<Figure size 432x288 with 1 Axes>"
            ],
            "image/png": "[encoded data removed]"
          },
          "metadata": {
            "needs_background": "light"
          }
        }
      ]
    },
    {
      "cell_type": "code",
      "source": [
        "plt.hist(z_4['ZH-Score'], bins = 100)\n",
        "plt.title('Methanobacterium paludis')\n",
        "plt.xlabel('ZH-Score')\n",
        "plt.show()"
      ],
      "metadata": {
        "colab": {
          "base_uri": "https://localhost:8080/",
          "height": 295
        },
        "id": "_gb7_l-CBeDg",
        "outputId": "b8a11116-5f7e-4f92-c404-651b134e987c"
      },
      "execution_count": 49,
      "outputs": [
        {
          "output_type": "display_data",
          "data": {
            "text/plain": [
              "<Figure size 432x288 with 1 Axes>"
            ],
            "image/png": "[encoded data removed]"
          },
          "metadata": {
            "needs_background": "light"
          }
        }
      ]
    },
    {
      "cell_type": "code",
      "source": [
        "plt.hist(z_5['ZH-Score'], bins = 100)\n",
        "plt.title('Methanobacterium subterraneum')\n",
        "plt.xlabel('ZH-Score')\n",
        "plt.show()"
      ],
      "metadata": {
        "colab": {
          "base_uri": "https://localhost:8080/",
          "height": 295
        },
        "id": "YpW96qTEBeeO",
        "outputId": "52abf4eb-35e7-44e3-f186-0a7cc2b19b34"
      },
      "execution_count": 50,
      "outputs": [
        {
          "output_type": "display_data",
          "data": {
            "text/plain": [
              "<Figure size 432x288 with 1 Axes>"
            ],
            "image/png": "[encoded data removed]"
          },
          "metadata": {
            "needs_background": "light"
          }
        }
      ]
    },
    {
      "cell_type": "code",
      "source": [
        "for j in range(1, 6):\n",
        "  exec(f'tss_set = f_table_{j}[[\"# feature\", \"genomic_accession\", \"start\", \"end\", \"strand\", \"product_accession\"]]')\n",
        "  tss_final = []\n",
        "  tss_set[[\"start\", \"end\"]] = tss_set[[\"start\", \"end\"]].astype(int)\n",
        "  #pd.DataFrame( columns =  [\"# feature\", \"genomic_accession\", \"start\", \"end\", \"strand\", \"product_accession\"] )\n",
        "  for k in tss_set.index:\n",
        "    tss_line = tss_set.iloc[k]\n",
        "    if tss_line['# feature'] == \"CDS\":\n",
        "      if tss_line['strand'] == \"+\":\n",
        "        tss_line['end'] = tss_line['start']\n",
        "      elif tss_line['strand'] == \"-\":\n",
        "        tss_line['start'] = tss_line['end']\n",
        "      if type(tss_line[\"product_accession\"]) is not str:\n",
        "        tss_line[\"product_accession\"] = \"-\"\n",
        "      tss_final.append(tss_line)\n",
        "  tss_final = pd.DataFrame(tss_final)\n",
        "  del tss_final['# feature']\n",
        "  del tss_final['strand']\n",
        "  exec(f'tss_final.to_csv(\"TSS{j}.bed\", sep = \"\\t\", header=False,index=False)')  "
      ],
      "metadata": {
        "colab": {
          "base_uri": "https://localhost:8080/"
        },
        "id": "U4opJYaZDWNE",
        "outputId": "5b1af3ef-0e4e-44c4-ade5-26761579352b"
      },
      "execution_count": 51,
      "outputs": [
        {
          "output_type": "stream",
          "name": "stderr",
          "text": [
            "/usr/local/lib/python3.7/dist-packages/pandas/core/frame.py:3641: SettingWithCopyWarning: \n",
            "A value is trying to be set on a copy of a slice from a DataFrame.\n",
            "Try using .loc[row_indexer,col_indexer] = value instead\n",
            "\n",
            "See the caveats in the documentation: https://pandas.pydata.org/pandas-docs/stable/user_guide/indexing.html#returning-a-view-versus-a-copy\n",
            "  self[k1] = value[k2]\n",
            "/usr/local/lib/python3.7/dist-packages/pandas/core/series.py:1056: SettingWithCopyWarning: \n",
            "A value is trying to be set on a copy of a slice from a DataFrame\n",
            "\n",
            "See the caveats in the documentation: https://pandas.pydata.org/pandas-docs/stable/user_guide/indexing.html#returning-a-view-versus-a-copy\n",
            "  cacher_needs_updating = self._check_is_chained_assignment_possible()\n"
          ]
        }
      ]
    },
    {
      "cell_type": "code",
      "source": [
        ""
      ],
      "metadata": {
        "id": "5MDmGR2iVD0r"
      },
      "execution_count": 51,
      "outputs": []
    },
    {
      "cell_type": "code",
      "source": [
        "!conda install -c bioconda bedtools"
      ],
      "metadata": {
        "colab": {
          "base_uri": "https://localhost:8080/"
        },
        "id": "4vZvQiLifO1z",
        "outputId": "71ef4862-8384-41e2-c9ce-951eb05d9ce0"
      },
      "execution_count": 52,
      "outputs": [
        {
          "output_type": "stream",
          "name": "stdout",
          "text": [
            "Collecting package metadata (current_repodata.json): - \b\b\\ \b\b| \b\b/ \b\b- \b\b\\ \b\b| \b\b/ \b\b- \b\b\\ \b\b| \b\b/ \b\b- \b\b\\ \b\b| \b\b/ \b\b- \b\b\\ \b\b| \b\b/ \b\b- \b\b\\ \b\b| \b\b/ \b\b- \b\b\\ \b\b| \b\b/ \b\b- \b\b\\ \b\b| \b\b/ \b\b- \b\b\\ \b\b| \b\b/ \b\b- \b\b\\ \b\b| \b\b/ \b\b- \b\b\\ \b\b| \b\b/ \b\b- \b\b\\ \b\b| \b\b/ \b\b- \b\b\\ \b\b| \b\b/ \b\b- \b\b\\ \b\b| \b\b/ \b\b- \b\b\\ \b\b| \b\b/ \b\b- \b\b\\ \b\b| \b\b/ \b\b- \b\b\\ \b\b| \b\b/ \b\b- \b\b\\ \b\b| \b\b/ \b\b- \b\b\\ \b\b| \b\b/ \b\b- \b\b\\ \b\b| \b\b/ \b\b- \b\b\\ \b\b| \b\b/ \b\b- \b\b\\ \b\b| \b\b/ \b\b- \b\b\\ \b\b| \b\b/ \b\b- \b\b\\ \b\b| \b\b/ \b\b- \b\b\\ \b\b| \b\b/ \b\b- \b\b\\ \b\b| \b\b/ \b\b- \b\b\\ \b\b| \b\b/ \b\b- \b\b\\ \b\b| \b\b/ \b\b- \b\b\\ \b\b| \b\b/ \b\b- \b\b\\ \b\b| \b\b/ \b\bdone\n",
            "Solving environment: \\ \b\b| \b\b/ \b\b- \b\b\\ \b\b| \b\b/ \b\b- \b\b\\ \b\b| \b\b/ \b\b- \b\b\\ \b\bdone\n",
            "\n",
            "## Package Plan ##\n",
            "\n",
            "  environment location: /usr/local\n",
            "\n",
            "  added / updated specs:\n",
            "    - bedtools\n",
            "\n",
            "\n",
            "The following packages will be downloaded:\n",
            "\n",
            "    package                    |            build\n",
            "    ---------------------------|-----------------\n",
            "    bedtools-2.30.0            |       h7d7f7ad_1        17.9 MB  bioconda\n",
            "    ca-certificates-2022.5.18.1|       ha878542_0         144 KB  conda-forge\n",
            "    certifi-2022.5.18.1        |   py37h89c1867_0         150 KB  conda-forge\n",
            "    conda-4.13.0               |   py37h89c1867_1         989 KB  conda-forge\n",
            "    ------------------------------------------------------------\n",
            "                                           Total:        19.1 MB\n",
            "\n",
            "The following NEW packages will be INSTALLED:\n",
            "\n",
            "  bedtools           bioconda/linux-64::bedtools-2.30.0-h7d7f7ad_1\n",
            "\n",
            "The following packages will be UPDATED:\n",
            "\n",
            "  ca-certificates                      2020.12.5-ha878542_0 --> 2022.5.18.1-ha878542_0\n",
            "  certifi                          2020.12.5-py37h89c1867_1 --> 2022.5.18.1-py37h89c1867_0\n",
            "  conda                                4.9.2-py37h89c1867_0 --> 4.13.0-py37h89c1867_1\n",
            "\n",
            "\n",
            "\n",
            "Downloading and Extracting Packages\n",
            "bedtools-2.30.0      | 17.9 MB   | : 100% 1.0/1 [00:04<00:00,  4.15s/it]\n",
            "certifi-2022.5.18.1  | 150 KB    | : 100% 1.0/1 [00:00<00:00, 13.14it/s]\n",
            "conda-4.13.0         | 989 KB    | : 100% 1.0/1 [00:00<00:00,  2.83it/s]\n",
            "ca-certificates-2022 | 144 KB    | : 100% 1.0/1 [00:00<00:00, 13.67it/s]\n",
            "Preparing transaction: / \b\bdone\n",
            "Verifying transaction: \\ \b\b| \b\b/ \b\b- \b\b\\ \b\b| \b\b/ \b\b- \b\b\\ \b\bdone\n",
            "Executing transaction: / \b\bdone\n"
          ]
        }
      ]
    },
    {
      "cell_type": "markdown",
      "source": [
        "Соединяем участки Z-ДНК и выписываем наибольший скор"
      ],
      "metadata": {
        "id": "XNwmHjuogOtk"
      }
    },
    {
      "cell_type": "code",
      "source": [
        "! bedtools merge -i Z_1Genome.sorted.bed  -c 5 -o max > merged_1Z.bed\n",
        "! bedtools merge -i Z_2Genome.sorted.bed  -c 5 -o max > merged_2Z.bed\n",
        "! bedtools merge -i Z_3Genome.sorted.bed  -c 5 -o max > merged_3Z.bed\n",
        "! bedtools merge -i Z_4Genome.sorted.bed  -c 5 -o max > merged_4Z.bed\n",
        "! bedtools merge -i Z_5Genome.sorted.bed  -c 5 -o max > merged_5Z.bed"
      ],
      "metadata": {
        "id": "kx06LkNvfPWC"
      },
      "execution_count": 53,
      "outputs": []
    },
    {
      "cell_type": "code",
      "source": [
        "! head merged_1Z.bed"
      ],
      "metadata": {
        "colab": {
          "base_uri": "https://localhost:8080/"
        },
        "id": "-2Ym2JQyuQF4",
        "outputId": "b7a55597-dc71-4ac0-c519-b1bf6935230f"
      },
      "execution_count": 54,
      "outputs": [
        {
          "output_type": "stream",
          "name": "stdout",
          "text": [
            "GCF_900095295\t1278\t1292\t790.8198\n",
            "GCF_900095295\t13426\t13434\t650.9198\n",
            "GCF_900095295\t18607\t18617\t650.9198\n",
            "GCF_900095295\t22286\t22298\t915.9191\n",
            "GCF_900095295\t23456\t23468\t966.8622\n",
            "GCF_900095295\t37907\t37917\t908.3955\n",
            "GCF_900095295\t38267\t38277\t766.6232\n",
            "GCF_900095295\t67769\t67782\t2183.574\n",
            "GCF_900095295\t72884\t72892\t980.8116\n",
            "GCF_900095295\t81988\t81998\t612.3848\n"
          ]
        }
      ]
    },
    {
      "cell_type": "code",
      "source": [
        "! awk '{print $1, $2, $3, $1\"_\"$2 , $4}' merged_1Z.bed  > merged_1Z_final.bed\n",
        "! awk '{print $1, $2, $3, $1\"_\"$2 , $4}' merged_2Z.bed  > merged_2Z_final.bed\n",
        "! awk '{print $1, $2, $3, $1\"_\"$2 , $4}' merged_3Z.bed  > merged_3Z_final.bed\n",
        "! awk '{print $1, $2, $3, $1\"_\"$2 , $4}' merged_4Z.bed  > merged_4Z_final.bed\n",
        "! awk '{print $1, $2, $3, $1\"_\"$2 , $4}' merged_5Z.bed  > merged_5Z_final.bed"
      ],
      "metadata": {
        "id": "QKR02nwqj46D"
      },
      "execution_count": 102,
      "outputs": []
    },
    {
      "cell_type": "code",
      "source": [
        "! head merged_1Z_final.bed"
      ],
      "metadata": {
        "colab": {
          "base_uri": "https://localhost:8080/"
        },
        "id": "EeWB7jFilh2G",
        "outputId": "d91181a8-f3a5-47b2-f469-4a402004b6e6"
      },
      "execution_count": 56,
      "outputs": [
        {
          "output_type": "stream",
          "name": "stdout",
          "text": [
            "GCF_900095295 1278 1292 GCF_900095295_1278 790.8198\n",
            "GCF_900095295 13426 13434 GCF_900095295_13426 650.9198\n",
            "GCF_900095295 18607 18617 GCF_900095295_18607 650.9198\n",
            "GCF_900095295 22286 22298 GCF_900095295_22286 915.9191\n",
            "GCF_900095295 23456 23468 GCF_900095295_23456 966.8622\n",
            "GCF_900095295 37907 37917 GCF_900095295_37907 908.3955\n",
            "GCF_900095295 38267 38277 GCF_900095295_38267 766.6232\n",
            "GCF_900095295 67769 67782 GCF_900095295_67769 2183.574\n",
            "GCF_900095295 72884 72892 GCF_900095295_72884 980.8116\n",
            "GCF_900095295 81988 81998 GCF_900095295_81988 612.3848\n"
          ]
        }
      ]
    },
    {
      "cell_type": "code",
      "source": [
        "!conda install -c bioconda samtools"
      ],
      "metadata": {
        "colab": {
          "base_uri": "https://localhost:8080/"
        },
        "id": "Mxsc1Yruz2Uw",
        "outputId": "d3117f58-6405-4e80-e47c-4fdf14b12d27"
      },
      "execution_count": 57,
      "outputs": [
        {
          "output_type": "stream",
          "name": "stdout",
          "text": [
            "Collecting package metadata (current_repodata.json): - \b\b\\ \b\b| \b\b/ \b\b- \b\b\\ \b\b| \b\b/ \b\b- \b\b\\ \b\b| \b\b/ \b\b- \b\b\\ \b\b| \b\b/ \b\b- \b\b\\ \b\b| \b\b/ \b\b- \b\b\\ \b\b| \b\b/ \b\bdone\n",
            "Solving environment: \\ \b\b| \b\b/ \b\b- \b\b\\ \b\b| \b\b/ \b\b- \b\b\\ \b\b| \b\b/ \b\b- \b\b\\ \b\b| \b\bdone\n",
            "\n",
            "## Package Plan ##\n",
            "\n",
            "  environment location: /usr/local\n",
            "\n",
            "  added / updated specs:\n",
            "    - samtools\n",
            "\n",
            "\n",
            "The following packages will be downloaded:\n",
            "\n",
            "    package                    |            build\n",
            "    ---------------------------|-----------------\n",
            "    samtools-1.3.1             |                0         1.5 MB  bioconda\n",
            "    ------------------------------------------------------------\n",
            "                                           Total:         1.5 MB\n",
            "\n",
            "The following NEW packages will be INSTALLED:\n",
            "\n",
            "  samtools           bioconda/linux-64::samtools-1.3.1-0\n",
            "\n",
            "\n",
            "\n",
            "Downloading and Extracting Packages\n",
            "samtools-1.3.1       | 1.5 MB    | : 100% 1.0/1 [00:00<00:00,  1.11it/s]               \n",
            "Preparing transaction: - \b\bdone\n",
            "Verifying transaction: | \b\bdone\n",
            "Executing transaction: - \b\bdone\n"
          ]
        }
      ]
    },
    {
      "cell_type": "code",
      "source": [
        "! samtools faidx GCF_900095295.1_MCBB_genomic.fna\n",
        "! samtools faidx GCF_001458655.1_Mb9_genomic.fna\n",
        "! samtools faidx GCF_000191585.1_ASM19158v1_genomic.fna\n",
        "! samtools faidx GCF_000214725.1_ASM21472v1_genomic.fna\n",
        "! samtools faidx GCF_002813695.1_ASM281369v1_genomic.fna"
      ],
      "metadata": {
        "id": "N9n6UN7_zINT"
      },
      "execution_count": 58,
      "outputs": []
    },
    {
      "cell_type": "code",
      "source": [
        "!bedtools slop -i TSS4.bed -g GCF_900095295.1_MCBB_genomic.fna.fai -b 100 > bd4slop.bed\n",
        "!bedtools slop -i TSS3.bed -g GCF_001458655.1_Mb9_genomic.fna.fai -b 100 > bd3slop.bed\n",
        "!bedtools slop -i TSS1.bed -g GCF_000191585.1_ASM19158v1_genomic.fna.fai -b 100 > bd1slop.bed\n",
        "!bedtools slop -i TSS2.bed -g GCF_000214725.1_ASM21472v1_genomic.fna.fai -b 100 > bd2slop.bed\n",
        "!bedtools slop -i TSS5.bed -g GCF_002813695.1_ASM281369v1_genomic.fna.fai -b 100 > bd5slop.bed"
      ],
      "metadata": {
        "id": "W1a4fUeg1D3b"
      },
      "execution_count": 59,
      "outputs": []
    },
    {
      "cell_type": "code",
      "source": [
        "!awk '{print \"GCF_900095295\t\"$2\"\t\"$3\"\t\"$4}'  bd4slop.bed >  bd4slop_f.bed\n",
        "!awk '{print \"GCF_001458655\t\"$2\"\t\"$3\"\t\"$4}'  bd3slop.bed >  bd3slop_f.bed\n",
        "!awk '{print \"GCF_000191585\t\"$2\"\t\"$3\"\t\"$4}'  bd1slop.bed >  bd1slop_f.bed\n",
        "!awk '{print \"GCF_000214725\t\"$2\"\t\"$3\"\t\"$4}'  bd2slop.bed >  bd2slop_f.bed\n",
        "!awk '{print \"GCF_002813695\t\"$2\"\t\"$3\"\t\"$4}'  bd5slop.bed >  bd5slop_f.bed"
      ],
      "metadata": {
        "id": "7UdKDrqGo_nT"
      },
      "execution_count": 116,
      "outputs": []
    },
    {
      "cell_type": "markdown",
      "source": [
        "Для нахождения пересекающихся участков нам понадобится утилита ***intersect*** пакета bedtools ([подробная документация с примерами](https://bedtools.readthedocs.io/en/latest/content/tools/intersect.html))"
      ],
      "metadata": {
        "id": "cBYtIYTw2a-r"
      }
    },
    {
      "cell_type": "code",
      "source": [
        "! tr ' ' \\\\t < merged_1Z_final.bed > merged_1Z_final0.bed\n",
        "! tr ' ' \\\\t < merged_2Z_final.bed > merged_2Z_final0.bed\n",
        "! tr ' ' \\\\t < merged_3Z_final.bed > merged_3Z_final0.bed\n",
        "! tr ' ' \\\\t < merged_4Z_final.bed > merged_4Z_final0.bed\n",
        "! tr ' ' \\\\t < merged_5Z_final.bed > merged_5Z_final0.bed"
      ],
      "metadata": {
        "id": "qMy_qJHOoJ-5"
      },
      "execution_count": 114,
      "outputs": []
    },
    {
      "cell_type": "code",
      "source": [
        "!intersectBed -a merged_1Z_final0.bed -b bd4slop_f.bed -wb > intersected_GCF_900095295.bed\n",
        "!intersectBed -a merged_2Z_final0.bed -b bd3slop_f.bed -wb > intersected_GCF_001458655.bed\n",
        "!intersectBed -a merged_3Z_final0.bed -b bd1slop_f.bed -wb > intersected_GCF_000191585.bed\n",
        "!intersectBed -a merged_4Z_final0.bed -b bd2slop_f.bed -wb > intersected_GCF_000214725.bed\n",
        "!intersectBed -a merged_5Z_final0.bed -b bd5slop_f.bed -wb > intersected_GCF_002813695.bed"
      ],
      "metadata": {
        "id": "LeP41MC52ZY-"
      },
      "execution_count": 122,
      "outputs": []
    },
    {
      "cell_type": "markdown",
      "source": [
        "Используем proteinortho"
      ],
      "metadata": {
        "id": "rcA-Gy6-Cu60"
      }
    },
    {
      "cell_type": "code",
      "source": [
        "!apt-get install proteinortho\n",
        "!proteinortho5"
      ],
      "metadata": {
        "colab": {
          "base_uri": "https://localhost:8080/"
        },
        "id": "NGOS55Z6CubA",
        "outputId": "6ceae19b-6f7f-448c-a52d-65beb4800132"
      },
      "execution_count": 62,
      "outputs": [
        {
          "output_type": "stream",
          "name": "stdout",
          "text": [
            "Reading package lists... Done\n",
            "Building dependency tree       \n",
            "Reading state information... Done\n",
            "The following package was automatically installed and is no longer required:\n",
            "  libnvidia-common-460\n",
            "Use 'apt autoremove' to remove it.\n",
            "The following additional packages will be installed:\n",
            "  ncbi-blast+ ncbi-data\n",
            "The following NEW packages will be installed:\n",
            "  ncbi-blast+ ncbi-data proteinortho\n",
            "0 upgraded, 3 newly installed, 0 to remove and 45 not upgraded.\n",
            "Need to get 13.2 MB of archives.\n",
            "After this operation, 67.0 MB of additional disk space will be used.\n",
            "Get:1 http://archive.ubuntu.com/ubuntu bionic/universe amd64 ncbi-data all 6.1.20170106-2 [3,645 kB]\n",
            "Get:2 http://archive.ubuntu.com/ubuntu bionic/universe amd64 ncbi-blast+ amd64 2.6.0-1 [9,446 kB]\n",
            "Get:3 http://archive.ubuntu.com/ubuntu bionic/universe amd64 proteinortho amd64 5.16+dfsg-1 [143 kB]\n",
            "Fetched 13.2 MB in 1s (10.5 MB/s)\n",
            "Selecting previously unselected package ncbi-data.\n",
            "(Reading database ... 155632 files and directories currently installed.)\n",
            "Preparing to unpack .../ncbi-data_6.1.20170106-2_all.deb ...\n",
            "Unpacking ncbi-data (6.1.20170106-2) ...\n",
            "Selecting previously unselected package ncbi-blast+.\n",
            "Preparing to unpack .../ncbi-blast+_2.6.0-1_amd64.deb ...\n",
            "Unpacking ncbi-blast+ (2.6.0-1) ...\n",
            "Selecting previously unselected package proteinortho.\n",
            "Preparing to unpack .../proteinortho_5.16+dfsg-1_amd64.deb ...\n",
            "Unpacking proteinortho (5.16+dfsg-1) ...\n",
            "Setting up ncbi-data (6.1.20170106-2) ...\n",
            "Setting up ncbi-blast+ (2.6.0-1) ...\n",
            "Setting up proteinortho (5.16+dfsg-1) ...\n",
            "Processing triggers for hicolor-icon-theme (0.17-2) ...\n",
            "Processing triggers for man-db (2.8.3-2ubuntu0.1) ...\n",
            "*****************************************************************\n",
            "Proteinortho with PoFF version 5.16 - An orthology detection tool\n",
            "*****************************************************************\n",
            "Detected 2 available CPU threads, Detected NCBI BLAST version 2.6.0+\n",
            "\n",
            "Usage: proteinortho5.pl [OPTIONS] FASTA1 FASTA2 [FASTA...]\n",
            "Options:\n",
            "         [General options]\n",
            "         -project=    prefix for all result file names [default: myproject]\n",
            "         -cpus=       number of processors to use [default: auto]\n",
            "         -verbose     keeps you informed about the progress\n",
            "         -temp=       path for temporary files [default: working directory]\n",
            "         -keep        stores temporary blast results for reuse\n",
            "         -force       forces recalculation of blast results in any case\n",
            "         -clean       remove all unnecessary files after processing\n",
            "         -step=       1 -> generate indices\n",
            "                      2 -> run blast (and ff-adj, if -synteny is set)\n",
            "                      3 -> clustering\n",
            "                      0 -> all (default)\n",
            "\n",
            "         [Search options]\n",
            "         -p=          blast program [default: blastp+]\n",
            "         -e=          E-value for blast [default: 1e-05]\n",
            "                      {blastn|blastp|tblastx|blastn+|blastp+|tblastx+}\n",
            "         -selfblast   apply selfblast, detects paralogs without orthologs\n",
            "         -sim=        min. similarity for additional hits (0..1) [default: 0.95]\n",
            "         -identity=   min. percent identity of best blast hits [default: 25]\n",
            "         -cov=        min. coverage of best blast alignments in % [default: 50]\n",
            "         -subpara=    additional parameters for the search tool\n",
            "                      example -subpara='-seg no'\n",
            "\n",
            "         [Synteny options]\n",
            "         -synteny     activate PoFF extension to separate similar sequences\n",
            "                      by contextual adjacencies (requires .gff for each .fasta)\n",
            "         -dups=       PoFF: number of reiterations for adjacencies heuristic,\n",
            "                      to determine duplicated regions (default: 0)\n",
            "         -cs=         PoFF: Size of a maximum common substring (MCS) for\n",
            "                      adjacency matches (default: 3)\n",
            "         -alpha=      PoFF: weight of adjacencies vs. sequence similarity\n",
            "                      (default: 0.5)\n",
            "\n",
            "         [Clustering options]\n",
            "         -singles     report singleton genes without any hit\n",
            "         -purity=     avoid spurious graph assignments [0.01-1, default 0.75]\n",
            "         -conn=       min. algebraic connectivity [default: 0.1]\n",
            "         -nograph     do not generate .graph file (pairwise orthology relations)\n",
            "\n",
            "         [Misc options]\n",
            "         -desc        write description files (for NCBI FASTA input only)\n",
            "         -blastpath=  path to your local blast (if not installed globally)\n",
            "         -debug       gives detailed information for bug tracking\n",
            "\n",
            "         [Large compute jobs]\n",
            "          In case jobs should be distributed onto several machines, use\n",
            "         -jobs=M/N    N defines the number of defined job groups (e.g. PCs)\n",
            "                      M defines the set of jobs to run in this process\n",
            "\n",
            "         Example:     run with \n",
            "                        -step=1\n",
            "                      to prepare data then to split a run on two machines use\n",
            "                        -jobs=1/2 -step=2 on PC one and\n",
            "                        -jobs=2/2 -step=2 on PC two\n",
            "                      finally run with\n",
            "                        -step=3 to finalize\n",
            "\n",
            "[ERROR] I need at least two files to compare something!\n"
          ]
        }
      ]
    },
    {
      "cell_type": "code",
      "source": [
        "!wget https://ftp.ncbi.nlm.nih.gov/genomes/all/GCF/900/095/295/GCF_900095295.1_MCBB/GCF_900095295.1_MCBB_protein.faa.gz\n",
        "!gzip -d GCF_900095295.1_MCBB_protein.faa.gz"
      ],
      "metadata": {
        "colab": {
          "base_uri": "https://localhost:8080/"
        },
        "id": "ZBCCQozbE-yi",
        "outputId": "c8fc31e6-6478-4ead-879b-ecec29593346"
      },
      "execution_count": 67,
      "outputs": [
        {
          "output_type": "stream",
          "name": "stdout",
          "text": [
            "--2022-06-15 11:28:25--  https://ftp.ncbi.nlm.nih.gov/genomes/all/GCF/900/095/295/GCF_900095295.1_MCBB/GCF_900095295.1_MCBB_protein.faa.gz\n",
            "Resolving ftp.ncbi.nlm.nih.gov (ftp.ncbi.nlm.nih.gov)... 165.112.9.229, 130.14.250.13, 2607:f220:41e:250::12, ...\n",
            "Connecting to ftp.ncbi.nlm.nih.gov (ftp.ncbi.nlm.nih.gov)|165.112.9.229|:443... connected.\n",
            "HTTP request sent, awaiting response... 200 OK\n",
            "Length: 435562 (425K) [application/x-gzip]\n",
            "Saving to: ‘GCF_900095295.1_MCBB_protein.faa.gz.1’\n",
            "\n",
            "GCF_900095295.1_MCB 100%[===================>] 425.35K  1012KB/s    in 0.4s    \n",
            "\n",
            "2022-06-15 11:28:26 (1012 KB/s) - ‘GCF_900095295.1_MCBB_protein.faa.gz.1’ saved [435562/435562]\n",
            "\n"
          ]
        }
      ]
    },
    {
      "cell_type": "code",
      "source": [
        "!wget https://ftp.ncbi.nlm.nih.gov/genomes/all/GCF/001/458/655/GCF_001458655.1_Mb9/GCF_001458655.1_Mb9_protein.faa.gz\n",
        "!gzip -d GCF_001458655.1_Mb9_protein.faa.gz"
      ],
      "metadata": {
        "colab": {
          "base_uri": "https://localhost:8080/"
        },
        "id": "E3muIyIuHYcG",
        "outputId": "838da496-3168-4dd8-8849-ad4f33ef65d1"
      },
      "execution_count": 68,
      "outputs": [
        {
          "output_type": "stream",
          "name": "stdout",
          "text": [
            "--2022-06-15 11:29:20--  https://ftp.ncbi.nlm.nih.gov/genomes/all/GCF/001/458/655/GCF_001458655.1_Mb9/GCF_001458655.1_Mb9_protein.faa.gz\n",
            "Resolving ftp.ncbi.nlm.nih.gov (ftp.ncbi.nlm.nih.gov)... 130.14.250.12, 165.112.9.228, 2607:f220:41f:250::229, ...\n",
            "Connecting to ftp.ncbi.nlm.nih.gov (ftp.ncbi.nlm.nih.gov)|130.14.250.12|:443... connected.\n",
            "HTTP request sent, awaiting response... 200 OK\n",
            "Length: 449318 (439K) [application/x-gzip]\n",
            "Saving to: ‘GCF_001458655.1_Mb9_protein.faa.gz’\n",
            "\n",
            "GCF_001458655.1_Mb9 100%[===================>] 438.79K  1015KB/s    in 0.4s    \n",
            "\n",
            "2022-06-15 11:29:21 (1015 KB/s) - ‘GCF_001458655.1_Mb9_protein.faa.gz’ saved [449318/449318]\n",
            "\n"
          ]
        }
      ]
    },
    {
      "cell_type": "code",
      "source": [
        "!wget https://ftp.ncbi.nlm.nih.gov/genomes/all/GCF/000/191/585/GCF_000191585.1_ASM19158v1/GCF_000191585.1_ASM19158v1_protein.faa.gz\n",
        "!gzip -d GCF_000191585.1_ASM19158v1_protein.faa.gz"
      ],
      "metadata": {
        "colab": {
          "base_uri": "https://localhost:8080/"
        },
        "id": "RmKioL3gHZo9",
        "outputId": "98314839-2c15-4691-a81f-4d28a1d92a4d"
      },
      "execution_count": 69,
      "outputs": [
        {
          "output_type": "stream",
          "name": "stdout",
          "text": [
            "--2022-06-15 11:29:50--  https://ftp.ncbi.nlm.nih.gov/genomes/all/GCF/000/191/585/GCF_000191585.1_ASM19158v1/GCF_000191585.1_ASM19158v1_protein.faa.gz\n",
            "Resolving ftp.ncbi.nlm.nih.gov (ftp.ncbi.nlm.nih.gov)... 130.14.250.12, 130.14.250.13, 2607:f220:41e:250::10, ...\n",
            "Connecting to ftp.ncbi.nlm.nih.gov (ftp.ncbi.nlm.nih.gov)|130.14.250.12|:443... connected.\n",
            "HTTP request sent, awaiting response... 200 OK\n",
            "Length: 470317 (459K) [application/x-gzip]\n",
            "Saving to: ‘GCF_000191585.1_ASM19158v1_protein.faa.gz’\n",
            "\n",
            "GCF_000191585.1_ASM 100%[===================>] 459.29K  1.04MB/s    in 0.4s    \n",
            "\n",
            "2022-06-15 11:29:51 (1.04 MB/s) - ‘GCF_000191585.1_ASM19158v1_protein.faa.gz’ saved [470317/470317]\n",
            "\n"
          ]
        }
      ]
    },
    {
      "cell_type": "code",
      "source": [
        "!wget https://ftp.ncbi.nlm.nih.gov/genomes/all/GCF/000/214/725/GCF_000214725.1_ASM21472v1/GCF_000214725.1_ASM21472v1_protein.faa.gz\n",
        "!gzip -d GCF_000214725.1_ASM21472v1_protein.faa.gz"
      ],
      "metadata": {
        "colab": {
          "base_uri": "https://localhost:8080/"
        },
        "id": "Q5DZxAwNHbUE",
        "outputId": "bdac40e3-a0e8-4e17-b9cf-e5d5868a947a"
      },
      "execution_count": 70,
      "outputs": [
        {
          "output_type": "stream",
          "name": "stdout",
          "text": [
            "--2022-06-15 11:29:54--  https://ftp.ncbi.nlm.nih.gov/genomes/all/GCF/000/214/725/GCF_000214725.1_ASM21472v1/GCF_000214725.1_ASM21472v1_protein.faa.gz\n",
            "Resolving ftp.ncbi.nlm.nih.gov (ftp.ncbi.nlm.nih.gov)... 130.14.250.12, 130.14.250.13, 2607:f220:41e:250::10, ...\n",
            "Connecting to ftp.ncbi.nlm.nih.gov (ftp.ncbi.nlm.nih.gov)|130.14.250.12|:443... connected.\n",
            "HTTP request sent, awaiting response... 200 OK\n",
            "Length: 438567 (428K) [application/x-gzip]\n",
            "Saving to: ‘GCF_000214725.1_ASM21472v1_protein.faa.gz’\n",
            "\n",
            "GCF_000214725.1_ASM 100%[===================>] 428.29K   993KB/s    in 0.4s    \n",
            "\n",
            "2022-06-15 11:29:55 (993 KB/s) - ‘GCF_000214725.1_ASM21472v1_protein.faa.gz’ saved [438567/438567]\n",
            "\n"
          ]
        }
      ]
    },
    {
      "cell_type": "code",
      "source": [
        "!wget https://ftp.ncbi.nlm.nih.gov/genomes/all/GCF/002/813/695/GCF_002813695.1_ASM281369v1/GCF_002813695.1_ASM281369v1_protein.faa.gz\n",
        "!gzip -d GCF_002813695.1_ASM281369v1_protein.faa.gz"
      ],
      "metadata": {
        "colab": {
          "base_uri": "https://localhost:8080/"
        },
        "id": "-FofbgG_Hfs1",
        "outputId": "5dcdccc0-736f-427f-adec-a59bb2c1fc95"
      },
      "execution_count": 71,
      "outputs": [
        {
          "output_type": "stream",
          "name": "stdout",
          "text": [
            "--2022-06-15 11:29:57--  https://ftp.ncbi.nlm.nih.gov/genomes/all/GCF/002/813/695/GCF_002813695.1_ASM281369v1/GCF_002813695.1_ASM281369v1_protein.faa.gz\n",
            "Resolving ftp.ncbi.nlm.nih.gov (ftp.ncbi.nlm.nih.gov)... 130.14.250.12, 130.14.250.13, 2607:f220:41e:250::10, ...\n",
            "Connecting to ftp.ncbi.nlm.nih.gov (ftp.ncbi.nlm.nih.gov)|130.14.250.12|:443... connected.\n",
            "HTTP request sent, awaiting response... 200 OK\n",
            "Length: 452003 (441K) [application/x-gzip]\n",
            "Saving to: ‘GCF_002813695.1_ASM281369v1_protein.faa.gz’\n",
            "\n",
            "GCF_002813695.1_ASM 100%[===================>] 441.41K  1.00MB/s    in 0.4s    \n",
            "\n",
            "2022-06-15 11:29:58 (1.00 MB/s) - ‘GCF_002813695.1_ASM281369v1_protein.faa.gz’ saved [452003/452003]\n",
            "\n"
          ]
        }
      ]
    },
    {
      "cell_type": "code",
      "source": [
        "!proteinortho5 GCF_900095295.1_MCBB_protein.faa GCF_001458655.1_Mb9_protein.faa GCF_000191585.1_ASM19158v1_protein.faa GCF_000214725.1_ASM21472v1_protein.faa GCF_002813695.1_ASM281369v1_protein.faa"
      ],
      "metadata": {
        "colab": {
          "base_uri": "https://localhost:8080/"
        },
        "id": "prcaLemdIJ85",
        "outputId": "75c8b31c-21a5-4016-c9e1-9fed940568b6"
      },
      "execution_count": 72,
      "outputs": [
        {
          "output_type": "stream",
          "name": "stdout",
          "text": [
            "*****************************************************************\n",
            "Proteinortho with PoFF version 5.16 - An orthology detection tool\n",
            "*****************************************************************\n",
            "Detected 2 available CPU threads, Detected NCBI BLAST version 2.6.0+\n",
            "Checking input files\n",
            "Checking GCF_900095295.1_MCBB_protein.faa... ok\n",
            "Checking GCF_001458655.1_Mb9_protein.faa... ok\n",
            "Checking GCF_000191585.1_ASM19158v1_protein.faa... ok\n",
            "Checking GCF_000214725.1_ASM21472v1_protein.faa... ok\n",
            "Checking GCF_002813695.1_ASM281369v1_protein.faa... ok\n",
            "\n",
            "**Step 1**\n",
            "Generating indices\n",
            "Building database for 'GCF_000191585.1_ASM19158v1_protein.faa'\t(2502 sequences)\n",
            "Building database for 'GCF_000214725.1_ASM21472v1_protein.faa'\t(2411 sequences)\n",
            "Building database for 'GCF_002813695.1_ASM281369v1_protein.faa'\t(2374 sequences)\n",
            "Building database for 'GCF_001458655.1_Mb9_protein.faa'\t(2356 sequences)\n",
            "Building database for 'GCF_900095295.1_MCBB_protein.faa'\t(2319 sequences)\n",
            "\n",
            "**Step 2**\n",
            "Running blast analysis: 100% (10/10)\n",
            "[OUTPUT] -> written to myproject.blast-graph\n",
            "\n",
            "**Step 3**\n",
            "Clustering by similarity (Proteinortho mode)\n",
            "Reading myproject.blast-graph\n",
            "5 species\n",
            "10328 paired proteins\n",
            "17451 bidirectional edges\n",
            "Done                       \n",
            "[OUTPUT] -> written to myproject.proteinortho\n",
            "Writing graph...\n",
            "Cleaning edge list...\n",
            "Removed 215 / 17451 edges\n",
            "Done.\n",
            "[OUTPUT] -> written to myproject.proteinortho-graph\n",
            "\n",
            "All finished.\n"
          ]
        }
      ]
    },
    {
      "cell_type": "code",
      "source": [
        "proteininfo = pd.read_csv(\"myproject.proteinortho\", sep=\"\\t\")"
      ],
      "metadata": {
        "id": "rZA2q-r0Kll7"
      },
      "execution_count": 188,
      "outputs": []
    },
    {
      "cell_type": "markdown",
      "source": [
        "Получается всего 2504 кластера"
      ],
      "metadata": {
        "id": "kldGMVFdLTYp"
      }
    },
    {
      "cell_type": "code",
      "source": [
        "len(proteininfo.index)"
      ],
      "metadata": {
        "colab": {
          "base_uri": "https://localhost:8080/"
        },
        "id": "xEl21W2CKz_-",
        "outputId": "b17de7c8-5970-4c86-ca51-81759d4d7db9"
      },
      "execution_count": 77,
      "outputs": [
        {
          "output_type": "execute_result",
          "data": {
            "text/plain": [
              "2504"
            ]
          },
          "metadata": {},
          "execution_count": 77
        }
      ]
    },
    {
      "cell_type": "markdown",
      "source": [
        "Видно, что большая часть кластеров содержит все 5 геномов"
      ],
      "metadata": {
        "id": "0zHVijWfMp11"
      }
    },
    {
      "cell_type": "code",
      "source": [
        "plt.hist(proteininfo['# Species'])\n",
        "plt.title('Clusters by number of genomes')\n",
        "plt.xlabel('Number of genomes in a cluster')\n",
        "plt.show()"
      ],
      "metadata": {
        "colab": {
          "base_uri": "https://localhost:8080/",
          "height": 295
        },
        "id": "2qsrep_GLuRB",
        "outputId": "21eeea7c-55c9-419b-c540-751152995d49"
      },
      "execution_count": 87,
      "outputs": [
        {
          "output_type": "display_data",
          "data": {
            "text/plain": [
              "<Figure size 432x288 with 1 Axes>"
            ],
            "image/png": "[encoded data removed]"
          },
          "metadata": {
            "needs_background": "light"
          }
        }
      ]
    },
    {
      "cell_type": "code",
      "source": [
        "plt.hist(proteininfo['Genes'])\n",
        "plt.title('Clusters by number of genes')\n",
        "plt.xlabel('Number of genes in a cluster')\n",
        "plt.show()"
      ],
      "metadata": {
        "colab": {
          "base_uri": "https://localhost:8080/",
          "height": 295
        },
        "id": "-673T1cSMwB2",
        "outputId": "985e7e60-db76-4d0b-e91c-024d0f205297"
      },
      "execution_count": 89,
      "outputs": [
        {
          "output_type": "display_data",
          "data": {
            "text/plain": [
              "<Figure size 432x288 with 1 Axes>"
            ],
            "image/png": "[encoded data removed]"
          },
          "metadata": {
            "needs_background": "light"
          }
        }
      ]
    },
    {
      "cell_type": "markdown",
      "source": [
        "Можем взять кластеры, в которых есть все 5 геномов"
      ],
      "metadata": {
        "id": "6Dh_N-UAQoEr"
      }
    },
    {
      "cell_type": "code",
      "source": [
        "proteininfo = proteininfo[proteininfo['# Species'] == 5]\n",
        "len(proteininfo.index)"
      ],
      "metadata": {
        "colab": {
          "base_uri": "https://localhost:8080/"
        },
        "id": "J089RwMKOmdv",
        "outputId": "1bd03b0d-9eee-4ed3-bd00-560db007e191"
      },
      "execution_count": 189,
      "outputs": [
        {
          "output_type": "execute_result",
          "data": {
            "text/plain": [
              "1393"
            ]
          },
          "metadata": {},
          "execution_count": 189
        }
      ]
    },
    {
      "cell_type": "code",
      "source": [
        "proteininfo.head()"
      ],
      "metadata": {
        "colab": {
          "base_uri": "https://localhost:8080/",
          "height": 288
        },
        "id": "PqDa9aO0RBUM",
        "outputId": "2301158f-d061-4f9c-a5d0-47fe811dc5e2"
      },
      "execution_count": 93,
      "outputs": [
        {
          "output_type": "execute_result",
          "data": {
            "text/plain": [
              "   # Species  Genes  Alg.-Conn. GCF_000191585.1_ASM19158v1_protein.faa  \\\n",
              "0          5      5         1.0                         WP_013643811.1   \n",
              "1          5      5         1.0                         WP_013645963.1   \n",
              "2          5      5         1.0                         WP_013645956.1   \n",
              "3          5      5         1.0                         WP_013645671.1   \n",
              "4          5      5         1.0                         WP_013644195.1   \n",
              "\n",
              "  GCF_000214725.1_ASM21472v1_protein.faa GCF_001458655.1_Mb9_protein.faa  \\\n",
              "0                         WP_013826779.1                  WP_048072730.1   \n",
              "1                         WP_013824777.1                  WP_197050495.1   \n",
              "2                         WP_013824784.1                  WP_048073079.1   \n",
              "3                         WP_013825047.1                  WP_004030252.1   \n",
              "4                         WP_013826281.1                  WP_048072231.1   \n",
              "\n",
              "  GCF_002813695.1_ASM281369v1_protein.faa GCF_900095295.1_MCBB_protein.faa  \n",
              "0                          WP_004029362.1                   WP_071907770.1  \n",
              "1                          WP_004030093.1                   WP_171899062.1  \n",
              "2                          WP_004030100.1                   WP_071905913.1  \n",
              "3                          WP_004030252.1                   WP_071906297.1  \n",
              "4                          WP_004031063.1                   WP_071907272.1  "
            ],
            "text/html": [
              "\n",
              "  <div id=\"df-d992b0b5-2399-41ff-97ca-331bed3efd01\">\n",
              "    <div class=\"colab-df-container\">\n",
              "      <div>\n",
              "<style scoped>\n",
              "    .dataframe tbody tr th:only-of-type {\n",
              "        vertical-align: middle;\n",
              "    }\n",
              "\n",
              "    .dataframe tbody tr th {\n",
              "        vertical-align: top;\n",
              "    }\n",
              "\n",
              "    .dataframe thead th {\n",
              "        text-align: right;\n",
              "    }\n",
              "</style>\n",
              "<table border=\"1\" class=\"dataframe\">\n",
              "  <thead>\n",
              "    <tr style=\"text-align: right;\">\n",
              "      <th></th>\n",
              "      <th># Species</th>\n",
              "      <th>Genes</th>\n",
              "      <th>Alg.-Conn.</th>\n",
              "      <th>GCF_000191585.1_ASM19158v1_protein.faa</th>\n",
              "      <th>GCF_000214725.1_ASM21472v1_protein.faa</th>\n",
              "      <th>GCF_001458655.1_Mb9_protein.faa</th>\n",
              "      <th>GCF_002813695.1_ASM281369v1_protein.faa</th>\n",
              "      <th>GCF_900095295.1_MCBB_protein.faa</th>\n",
              "    </tr>\n",
              "  </thead>\n",
              "  <tbody>\n",
              "    <tr>\n",
              "      <th>0</th>\n",
              "      <td>5</td>\n",
              "      <td>5</td>\n",
              "      <td>1.0</td>\n",
              "      <td>WP_013643811.1</td>\n",
              "      <td>WP_013826779.1</td>\n",
              "      <td>WP_048072730.1</td>\n",
              "      <td>WP_004029362.1</td>\n",
              "      <td>WP_071907770.1</td>\n",
              "    </tr>\n",
              "    <tr>\n",
              "      <th>1</th>\n",
              "      <td>5</td>\n",
              "      <td>5</td>\n",
              "      <td>1.0</td>\n",
              "      <td>WP_013645963.1</td>\n",
              "      <td>WP_013824777.1</td>\n",
              "      <td>WP_197050495.1</td>\n",
              "      <td>WP_004030093.1</td>\n",
              "      <td>WP_171899062.1</td>\n",
              "    </tr>\n",
              "    <tr>\n",
              "      <th>2</th>\n",
              "      <td>5</td>\n",
              "      <td>5</td>\n",
              "      <td>1.0</td>\n",
              "      <td>WP_013645956.1</td>\n",
              "      <td>WP_013824784.1</td>\n",
              "      <td>WP_048073079.1</td>\n",
              "      <td>WP_004030100.1</td>\n",
              "      <td>WP_071905913.1</td>\n",
              "    </tr>\n",
              "    <tr>\n",
              "      <th>3</th>\n",
              "      <td>5</td>\n",
              "      <td>5</td>\n",
              "      <td>1.0</td>\n",
              "      <td>WP_013645671.1</td>\n",
              "      <td>WP_013825047.1</td>\n",
              "      <td>WP_004030252.1</td>\n",
              "      <td>WP_004030252.1</td>\n",
              "      <td>WP_071906297.1</td>\n",
              "    </tr>\n",
              "    <tr>\n",
              "      <th>4</th>\n",
              "      <td>5</td>\n",
              "      <td>5</td>\n",
              "      <td>1.0</td>\n",
              "      <td>WP_013644195.1</td>\n",
              "      <td>WP_013826281.1</td>\n",
              "      <td>WP_048072231.1</td>\n",
              "      <td>WP_004031063.1</td>\n",
              "      <td>WP_071907272.1</td>\n",
              "    </tr>\n",
              "  </tbody>\n",
              "</table>\n",
              "</div>\n",
              "      <button class=\"colab-df-convert\" onclick=\"convertToInteractive('df-d992b0b5-2399-41ff-97ca-331bed3efd01')\"\n",
              "              title=\"Convert this dataframe to an interactive table.\"\n",
              "              style=\"display:none;\">\n",
              "        \n",
              "  <svg xmlns=\"http://www.w3.org/2000/svg\" height=\"24px\"viewBox=\"0 0 24 24\"\n",
              "       width=\"24px\">\n",
              "    <path d=\"M0 0h24v24H0V0z\" fill=\"none\"/>\n",
              "    <path d=\"M18.56 5.44l.94 2.06.94-2.06 2.06-.94-2.06-.94-.94-2.06-.94 2.06-2.06.94zm-11 1L8.5 8.5l.94-2.06 2.06-.94-2.06-.94L8.5 2.5l-.94 2.06-2.06.94zm10 10l.94 2.06.94-2.06 2.06-.94-2.06-.94-.94-2.06-.94 2.06-2.06.94z\"/><path d=\"M17.41 7.96l-1.37-1.37c-.4-.4-.92-.59-1.43-.59-.52 0-1.04.2-1.43.59L10.3 9.45l-7.72 7.72c-.78.78-.78 2.05 0 2.83L4 21.41c.39.39.9.59 1.41.59.51 0 1.02-.2 1.41-.59l7.78-7.78 2.81-2.81c.8-.78.8-2.07 0-2.86zM5.41 20L4 18.59l7.72-7.72 1.47 1.35L5.41 20z\"/>\n",
              "  </svg>\n",
              "      </button>\n",
              "      \n",
              "  <style>\n",
              "    .colab-df-container {\n",
              "      display:flex;\n",
              "      flex-wrap:wrap;\n",
              "      gap: 12px;\n",
              "    }\n",
              "\n",
              "    .colab-df-convert {\n",
              "      background-color: #E8F0FE;\n",
              "      border: none;\n",
              "      border-radius: 50%;\n",
              "      cursor: pointer;\n",
              "      display: none;\n",
              "      fill: #1967D2;\n",
              "      height: 32px;\n",
              "      padding: 0 0 0 0;\n",
              "      width: 32px;\n",
              "    }\n",
              "\n",
              "    .colab-df-convert:hover {\n",
              "      background-color: #E2EBFA;\n",
              "      box-shadow: 0px 1px 2px rgba(60, 64, 67, 0.3), 0px 1px 3px 1px rgba(60, 64, 67, 0.15);\n",
              "      fill: #174EA6;\n",
              "    }\n",
              "\n",
              "    [theme=dark] .colab-df-convert {\n",
              "      background-color: #3B4455;\n",
              "      fill: #D2E3FC;\n",
              "    }\n",
              "\n",
              "    [theme=dark] .colab-df-convert:hover {\n",
              "      background-color: #434B5C;\n",
              "      box-shadow: 0px 1px 3px 1px rgba(0, 0, 0, 0.15);\n",
              "      filter: drop-shadow(0px 1px 2px rgba(0, 0, 0, 0.3));\n",
              "      fill: #FFFFFF;\n",
              "    }\n",
              "  </style>\n",
              "\n",
              "      <script>\n",
              "        const buttonEl =\n",
              "          document.querySelector('#df-d992b0b5-2399-41ff-97ca-331bed3efd01 button.colab-df-convert');\n",
              "        buttonEl.style.display =\n",
              "          google.colab.kernel.accessAllowed ? 'block' : 'none';\n",
              "\n",
              "        async function convertToInteractive(key) {\n",
              "          const element = document.querySelector('#df-d992b0b5-2399-41ff-97ca-331bed3efd01');\n",
              "          const dataTable =\n",
              "            await google.colab.kernel.invokeFunction('convertToInteractive',\n",
              "                                                     [key], {});\n",
              "          if (!dataTable) return;\n",
              "\n",
              "          const docLinkHtml = 'Like what you see? Visit the ' +\n",
              "            '<a target=\"_blank\" href=https://colab.research.google.com/notebooks/data_table.ipynb>data table notebook</a>'\n",
              "            + ' to learn more about interactive tables.';\n",
              "          element.innerHTML = '';\n",
              "          dataTable['output_type'] = 'display_data';\n",
              "          await google.colab.output.renderOutput(dataTable, element);\n",
              "          const docLink = document.createElement('div');\n",
              "          docLink.innerHTML = docLinkHtml;\n",
              "          element.appendChild(docLink);\n",
              "        }\n",
              "      </script>\n",
              "    </div>\n",
              "  </div>\n",
              "  "
            ]
          },
          "metadata": {},
          "execution_count": 93
        }
      ]
    },
    {
      "cell_type": "markdown",
      "source": [
        "Визуализация структуры генов (для оценки консервативности z-dna в генах)"
      ],
      "metadata": {
        "id": "VPe8NXuY2kf2"
      }
    },
    {
      "cell_type": "code",
      "source": [
        "! pip install dna_features_viewer\n"
      ],
      "metadata": {
        "colab": {
          "base_uri": "https://localhost:8080/",
          "height": 696
        },
        "id": "xEmf6wvJwT8E",
        "outputId": "4b676c5e-ec7a-4176-c958-cc4424e35182"
      },
      "execution_count": 63,
      "outputs": [
        {
          "output_type": "stream",
          "name": "stdout",
          "text": [
            "Looking in indexes: https://pypi.org/simple, https://us-python.pkg.dev/colab-wheels/public/simple/\n",
            "Collecting dna_features_viewer\n",
            "  Downloading dna_features_viewer-3.1.1-py3-none-any.whl (30 kB)\n",
            "Requirement already satisfied: Biopython in /usr/local/lib/python3.7/site-packages (from dna_features_viewer) (1.79)\n",
            "Collecting matplotlib>=3\n",
            "  Downloading matplotlib-3.5.2-cp37-cp37m-manylinux_2_5_x86_64.manylinux1_x86_64.whl (11.2 MB)\n",
            "\u001b[K     |████████████████████████████████| 11.2 MB 20.6 MB/s \n",
            "\u001b[?25hCollecting packaging\n",
            "  Downloading packaging-21.3-py3-none-any.whl (40 kB)\n",
            "\u001b[K     |████████████████████████████████| 40 kB 6.1 MB/s \n",
            "\u001b[?25hCollecting pillow>=6.2.0\n",
            "  Downloading Pillow-9.1.1-cp37-cp37m-manylinux_2_17_x86_64.manylinux2014_x86_64.whl (3.1 MB)\n",
            "\u001b[K     |████████████████████████████████| 3.1 MB 56.0 MB/s \n",
            "\u001b[?25hCollecting pyparsing>=2.2.1\n",
            "  Downloading pyparsing-3.0.9-py3-none-any.whl (98 kB)\n",
            "\u001b[K     |████████████████████████████████| 98 kB 8.2 MB/s \n",
            "\u001b[?25hRequirement already satisfied: numpy>=1.17 in /usr/local/lib/python3.7/site-packages (from matplotlib>=3->dna_features_viewer) (1.21.6)\n",
            "Collecting kiwisolver>=1.0.1\n",
            "  Downloading kiwisolver-1.4.3-cp37-cp37m-manylinux_2_5_x86_64.manylinux1_x86_64.whl (1.1 MB)\n",
            "\u001b[K     |████████████████████████████████| 1.1 MB 51.4 MB/s \n",
            "\u001b[?25hCollecting fonttools>=4.22.0\n",
            "  Downloading fonttools-4.33.3-py3-none-any.whl (930 kB)\n",
            "\u001b[K     |████████████████████████████████| 930 kB 54.6 MB/s \n",
            "\u001b[?25hCollecting python-dateutil>=2.7\n",
            "  Downloading python_dateutil-2.8.2-py2.py3-none-any.whl (247 kB)\n",
            "\u001b[K     |████████████████████████████████| 247 kB 47.8 MB/s \n",
            "\u001b[?25hCollecting cycler>=0.10\n",
            "  Downloading cycler-0.11.0-py3-none-any.whl (6.4 kB)\n",
            "Collecting typing-extensions\n",
            "  Downloading typing_extensions-4.2.0-py3-none-any.whl (24 kB)\n",
            "Requirement already satisfied: six>=1.5 in /usr/local/lib/python3.7/site-packages (from python-dateutil>=2.7->matplotlib>=3->dna_features_viewer) (1.15.0)\n",
            "Installing collected packages: typing-extensions, pyparsing, python-dateutil, pillow, packaging, kiwisolver, fonttools, cycler, matplotlib, dna-features-viewer\n",
            "Successfully installed cycler-0.11.0 dna-features-viewer-3.1.1 fonttools-4.33.3 kiwisolver-1.4.3 matplotlib-3.5.2 packaging-21.3 pillow-9.1.1 pyparsing-3.0.9 python-dateutil-2.8.2 typing-extensions-4.2.0\n"
          ]
        },
        {
          "output_type": "display_data",
          "data": {
            "application/vnd.colab-display-data+json": {
              "pip_warning": {
                "packages": [
                  "cycler",
                  "dateutil",
                  "packaging"
                ]
              }
            }
          },
          "metadata": {}
        }
      ]
    },
    {
      "cell_type": "code",
      "source": [
        "from dna_features_viewer import GraphicFeature, GraphicRecord\n"
      ],
      "metadata": {
        "id": "Ekvpl4qhwUz4"
      },
      "execution_count": 64,
      "outputs": []
    },
    {
      "cell_type": "code",
      "source": [
        "inter1 = pd.read_table('intersected_GCF_002813695.bed', sep = '\\t', names = [\"1\",\"2\",\"3\",\"4\", \"5\", \"6\", \"7\", \"8\", \"9\"])\n",
        "inter2 = pd.read_table('intersected_GCF_001458655.bed', sep = '\\t', names = [\"1\",\"2\",\"3\",\"4\", \"5\", \"6\", \"7\", \"8\", \"9\"])\n",
        "inter3 = pd.read_table('intersected_GCF_000191585.bed', sep = '\\t', names = [\"1\",\"2\",\"3\",\"4\", \"5\", \"6\", \"7\", \"8\", \"9\"])\n",
        "inter4 = pd.read_table('intersected_GCF_000214725.bed', sep = '\\t', names = [\"1\",\"2\",\"3\",\"4\", \"5\", \"6\", \"7\", \"8\", \"9\"])\n",
        "inter5 = pd.read_table('intersected_GCF_002813695.bed', sep = '\\t', names = [\"1\",\"2\",\"3\",\"4\", \"5\", \"6\", \"7\", \"8\", \"9\"])"
      ],
      "metadata": {
        "id": "rcH6cYkqutjw"
      },
      "execution_count": 124,
      "outputs": []
    },
    {
      "cell_type": "code",
      "source": [
        "inter2.head()"
      ],
      "metadata": {
        "colab": {
          "base_uri": "https://localhost:8080/",
          "height": 206
        },
        "id": "5NYK8Aoo0sR3",
        "outputId": "3c92cba7-be55-4453-cf72-d6eef93bdc0c"
      },
      "execution_count": 147,
      "outputs": [
        {
          "output_type": "execute_result",
          "data": {
            "text/plain": [
              "               1       2       3                     4          5  \\\n",
              "0  GCF_001458655    8584    8596    GCF_001458655_8584   826.8355   \n",
              "1  GCF_001458655  163067  163077  GCF_001458655_163067   766.6232   \n",
              "2  GCF_001458655  383589  383599  GCF_001458655_383589  1116.6210   \n",
              "3  GCF_001458655  397909  397919  GCF_001458655_397909   783.8230   \n",
              "4  GCF_001458655  451693  451707  GCF_001458655_451693  2943.4610   \n",
              "\n",
              "               6       7       8               9  \n",
              "0  GCF_001458655    8417    8617  WP_048084353.1  \n",
              "1  GCF_001458655  163016  163216               -  \n",
              "2  GCF_001458655  383412  383612  WP_048071869.1  \n",
              "3  GCF_001458655  397854  398054  WP_048085641.1  \n",
              "4  GCF_001458655  451638  451838  WP_048071810.1  "
            ],
            "text/html": [
              "\n",
              "  <div id=\"df-29156a61-b7ec-467b-a4d4-b386766d1b93\">\n",
              "    <div class=\"colab-df-container\">\n",
              "      <div>\n",
              "<style scoped>\n",
              "    .dataframe tbody tr th:only-of-type {\n",
              "        vertical-align: middle;\n",
              "    }\n",
              "\n",
              "    .dataframe tbody tr th {\n",
              "        vertical-align: top;\n",
              "    }\n",
              "\n",
              "    .dataframe thead th {\n",
              "        text-align: right;\n",
              "    }\n",
              "</style>\n",
              "<table border=\"1\" class=\"dataframe\">\n",
              "  <thead>\n",
              "    <tr style=\"text-align: right;\">\n",
              "      <th></th>\n",
              "      <th>1</th>\n",
              "      <th>2</th>\n",
              "      <th>3</th>\n",
              "      <th>4</th>\n",
              "      <th>5</th>\n",
              "      <th>6</th>\n",
              "      <th>7</th>\n",
              "      <th>8</th>\n",
              "      <th>9</th>\n",
              "    </tr>\n",
              "  </thead>\n",
              "  <tbody>\n",
              "    <tr>\n",
              "      <th>0</th>\n",
              "      <td>GCF_001458655</td>\n",
              "      <td>8584</td>\n",
              "      <td>8596</td>\n",
              "      <td>GCF_001458655_8584</td>\n",
              "      <td>826.8355</td>\n",
              "      <td>GCF_001458655</td>\n",
              "      <td>8417</td>\n",
              "      <td>8617</td>\n",
              "      <td>WP_048084353.1</td>\n",
              "    </tr>\n",
              "    <tr>\n",
              "      <th>1</th>\n",
              "      <td>GCF_001458655</td>\n",
              "      <td>163067</td>\n",
              "      <td>163077</td>\n",
              "      <td>GCF_001458655_163067</td>\n",
              "      <td>766.6232</td>\n",
              "      <td>GCF_001458655</td>\n",
              "      <td>163016</td>\n",
              "      <td>163216</td>\n",
              "      <td>-</td>\n",
              "    </tr>\n",
              "    <tr>\n",
              "      <th>2</th>\n",
              "      <td>GCF_001458655</td>\n",
              "      <td>383589</td>\n",
              "      <td>383599</td>\n",
              "      <td>GCF_001458655_383589</td>\n",
              "      <td>1116.6210</td>\n",
              "      <td>GCF_001458655</td>\n",
              "      <td>383412</td>\n",
              "      <td>383612</td>\n",
              "      <td>WP_048071869.1</td>\n",
              "    </tr>\n",
              "    <tr>\n",
              "      <th>3</th>\n",
              "      <td>GCF_001458655</td>\n",
              "      <td>397909</td>\n",
              "      <td>397919</td>\n",
              "      <td>GCF_001458655_397909</td>\n",
              "      <td>783.8230</td>\n",
              "      <td>GCF_001458655</td>\n",
              "      <td>397854</td>\n",
              "      <td>398054</td>\n",
              "      <td>WP_048085641.1</td>\n",
              "    </tr>\n",
              "    <tr>\n",
              "      <th>4</th>\n",
              "      <td>GCF_001458655</td>\n",
              "      <td>451693</td>\n",
              "      <td>451707</td>\n",
              "      <td>GCF_001458655_451693</td>\n",
              "      <td>2943.4610</td>\n",
              "      <td>GCF_001458655</td>\n",
              "      <td>451638</td>\n",
              "      <td>451838</td>\n",
              "      <td>WP_048071810.1</td>\n",
              "    </tr>\n",
              "  </tbody>\n",
              "</table>\n",
              "</div>\n",
              "      <button class=\"colab-df-convert\" onclick=\"convertToInteractive('df-29156a61-b7ec-467b-a4d4-b386766d1b93')\"\n",
              "              title=\"Convert this dataframe to an interactive table.\"\n",
              "              style=\"display:none;\">\n",
              "        \n",
              "  <svg xmlns=\"http://www.w3.org/2000/svg\" height=\"24px\"viewBox=\"0 0 24 24\"\n",
              "       width=\"24px\">\n",
              "    <path d=\"M0 0h24v24H0V0z\" fill=\"none\"/>\n",
              "    <path d=\"M18.56 5.44l.94 2.06.94-2.06 2.06-.94-2.06-.94-.94-2.06-.94 2.06-2.06.94zm-11 1L8.5 8.5l.94-2.06 2.06-.94-2.06-.94L8.5 2.5l-.94 2.06-2.06.94zm10 10l.94 2.06.94-2.06 2.06-.94-2.06-.94-.94-2.06-.94 2.06-2.06.94z\"/><path d=\"M17.41 7.96l-1.37-1.37c-.4-.4-.92-.59-1.43-.59-.52 0-1.04.2-1.43.59L10.3 9.45l-7.72 7.72c-.78.78-.78 2.05 0 2.83L4 21.41c.39.39.9.59 1.41.59.51 0 1.02-.2 1.41-.59l7.78-7.78 2.81-2.81c.8-.78.8-2.07 0-2.86zM5.41 20L4 18.59l7.72-7.72 1.47 1.35L5.41 20z\"/>\n",
              "  </svg>\n",
              "      </button>\n",
              "      \n",
              "  <style>\n",
              "    .colab-df-container {\n",
              "      display:flex;\n",
              "      flex-wrap:wrap;\n",
              "      gap: 12px;\n",
              "    }\n",
              "\n",
              "    .colab-df-convert {\n",
              "      background-color: #E8F0FE;\n",
              "      border: none;\n",
              "      border-radius: 50%;\n",
              "      cursor: pointer;\n",
              "      display: none;\n",
              "      fill: #1967D2;\n",
              "      height: 32px;\n",
              "      padding: 0 0 0 0;\n",
              "      width: 32px;\n",
              "    }\n",
              "\n",
              "    .colab-df-convert:hover {\n",
              "      background-color: #E2EBFA;\n",
              "      box-shadow: 0px 1px 2px rgba(60, 64, 67, 0.3), 0px 1px 3px 1px rgba(60, 64, 67, 0.15);\n",
              "      fill: #174EA6;\n",
              "    }\n",
              "\n",
              "    [theme=dark] .colab-df-convert {\n",
              "      background-color: #3B4455;\n",
              "      fill: #D2E3FC;\n",
              "    }\n",
              "\n",
              "    [theme=dark] .colab-df-convert:hover {\n",
              "      background-color: #434B5C;\n",
              "      box-shadow: 0px 1px 3px 1px rgba(0, 0, 0, 0.15);\n",
              "      filter: drop-shadow(0px 1px 2px rgba(0, 0, 0, 0.3));\n",
              "      fill: #FFFFFF;\n",
              "    }\n",
              "  </style>\n",
              "\n",
              "      <script>\n",
              "        const buttonEl =\n",
              "          document.querySelector('#df-29156a61-b7ec-467b-a4d4-b386766d1b93 button.colab-df-convert');\n",
              "        buttonEl.style.display =\n",
              "          google.colab.kernel.accessAllowed ? 'block' : 'none';\n",
              "\n",
              "        async function convertToInteractive(key) {\n",
              "          const element = document.querySelector('#df-29156a61-b7ec-467b-a4d4-b386766d1b93');\n",
              "          const dataTable =\n",
              "            await google.colab.kernel.invokeFunction('convertToInteractive',\n",
              "                                                     [key], {});\n",
              "          if (!dataTable) return;\n",
              "\n",
              "          const docLinkHtml = 'Like what you see? Visit the ' +\n",
              "            '<a target=\"_blank\" href=https://colab.research.google.com/notebooks/data_table.ipynb>data table notebook</a>'\n",
              "            + ' to learn more about interactive tables.';\n",
              "          element.innerHTML = '';\n",
              "          dataTable['output_type'] = 'display_data';\n",
              "          await google.colab.output.renderOutput(dataTable, element);\n",
              "          const docLink = document.createElement('div');\n",
              "          docLink.innerHTML = docLinkHtml;\n",
              "          element.appendChild(docLink);\n",
              "        }\n",
              "      </script>\n",
              "    </div>\n",
              "  </div>\n",
              "  "
            ]
          },
          "metadata": {},
          "execution_count": 147
        }
      ]
    },
    {
      "cell_type": "code",
      "source": [
        "for numbr, name in enumerate([inter1,inter2,inter3,inter4,inter5]):\n",
        "    fig, ax = plt.subplots(nrows = 5, ncols=1, figsize=(12, 6))\n",
        "    fig.suptitle(sum_table['organism'][numbr])\n",
        "    for i, row in name.iterrows():\n",
        "        strand = +1 \n",
        "        features = [ GraphicFeature(start=row['2'], end=row['3'], strand=strand, color=\"#ffd700\", label='Z-DNA (Score = ' + str(row['5']) + ')'),\n",
        "                  GraphicFeature(start=row['7'], end=row['8'], strand=strand, color=\"#ffcccc\", label=row['9'])]\n",
        "        record = GraphicRecord(sequence_length= (row['8'] - row['7'] + 100), features=features, first_index= (row['7'] - 50))\n",
        "        record.plot(ax=ax[i])\n",
        "        if i == 4: \n",
        "          break"
      ],
      "metadata": {
        "colab": {
          "base_uri": "https://localhost:8080/",
          "height": 1000
        },
        "id": "61PrEBm1sG9T",
        "outputId": "07c609f0-947a-4301-f6f4-98bbe79db0a1"
      },
      "execution_count": 146,
      "outputs": [
        {
          "output_type": "display_data",
          "data": {
            "text/plain": [
              "<Figure size 864x432 with 5 Axes>"
            ],
            "image/png": "[encoded data removed]"
          },
          "metadata": {}
        },
        {
          "output_type": "display_data",
          "data": {
            "text/plain": [
              "<Figure size 864x432 with 5 Axes>"
            ],
            "image/png": "[encoded data removed]"
          },
          "metadata": {}
        },
        {
          "output_type": "display_data",
          "data": {
            "text/plain": [
              "<Figure size 864x432 with 5 Axes>"
            ],
            "image/png": "[encoded data removed]"
          },
          "metadata": {}
        },
        {
          "output_type": "display_data",
          "data": {
            "text/plain": [
              "<Figure size 864x432 with 5 Axes>"
            ],
            "image/png": "[encoded data removed]"
          },
          "metadata": {}
        },
        {
          "output_type": "display_data",
          "data": {
            "text/plain": [
              "<Figure size 864x432 with 5 Axes>"
            ],
            "image/png": "[encoded data removed]"
          },
          "metadata": {}
        }
      ]
    },
    {
      "cell_type": "code",
      "source": [
        "bank = [inter1[\"9\"], inter2[\"9\"], inter3[\"9\"], inter4[\"9\"], inter5[\"9\"]]\n",
        "getgenes = []\n",
        "final_protein = pd.DataFrame()\n",
        "for num, name in enumerate(proteininfo.columns[3:8]):\n",
        "  for genname in bank[num]: \n",
        "    getgenes.append(genname)  \n",
        "  for rou in proteininfo[name]:\n",
        "    if rou in getgenes:\n",
        "      final_protein = final_protein.append(proteininfo.loc[proteininfo[name] == rou])"
      ],
      "metadata": {
        "id": "O1BVuTFydi5V"
      },
      "execution_count": 272,
      "outputs": []
    },
    {
      "cell_type": "markdown",
      "source": [
        "Всего 45 кластеров"
      ],
      "metadata": {
        "id": "HIKeqhWtpWVw"
      }
    },
    {
      "cell_type": "code",
      "source": [
        "len(final_protein)"
      ],
      "metadata": {
        "colab": {
          "base_uri": "https://localhost:8080/"
        },
        "id": "GabxDNrKuTW8",
        "outputId": "1964d115-f7dc-46e4-f67d-1c249044d631"
      },
      "execution_count": 275,
      "outputs": [
        {
          "output_type": "execute_result",
          "data": {
            "text/plain": [
              "45"
            ]
          },
          "metadata": {},
          "execution_count": 275
        }
      ]
    },
    {
      "cell_type": "code",
      "source": [
        "final_protein = final_protein.sort_values(by = 'Alg.-Conn.', ascending=False)"
      ],
      "metadata": {
        "id": "07MNOziNgFPf"
      },
      "execution_count": 273,
      "outputs": []
    },
    {
      "cell_type": "markdown",
      "source": [
        "Возьмём 10 кластеров для дальнейшего анализа"
      ],
      "metadata": {
        "id": "OnKqM_pvv8fS"
      }
    },
    {
      "cell_type": "code",
      "source": [
        "final_protein = final_protein.head(n=10)"
      ],
      "metadata": {
        "id": "IgcgUGIqtMlS"
      },
      "execution_count": 276,
      "outputs": []
    },
    {
      "cell_type": "code",
      "source": [
        "final_protein"
      ],
      "metadata": {
        "colab": {
          "base_uri": "https://localhost:8080/",
          "height": 444
        },
        "id": "jE01Bib0uYk6",
        "outputId": "707b0df5-01f5-45c4-802e-60c81ac2d510"
      },
      "execution_count": 277,
      "outputs": [
        {
          "output_type": "execute_result",
          "data": {
            "text/plain": [
              "     # Species  Genes  Alg.-Conn. GCF_000191585.1_ASM19158v1_protein.faa  \\\n",
              "42           5      5         1.0                         WP_013645736.1   \n",
              "260          5      5         1.0                         WP_013643862.1   \n",
              "322          5      5         1.0                         WP_013643969.1   \n",
              "327          5      5         1.0                         WP_013643988.1   \n",
              "420          5      5         1.0                         WP_013644194.1   \n",
              "451          5      5         1.0                         WP_013644243.1   \n",
              "452          5      5         1.0                         WP_013644244.1   \n",
              "462          5      5         1.0                         WP_013644265.1   \n",
              "472          5      5         1.0                         WP_013644288.1   \n",
              "498          5      5         1.0                         WP_013644387.1   \n",
              "\n",
              "    GCF_000214725.1_ASM21472v1_protein.faa GCF_001458655.1_Mb9_protein.faa  \\\n",
              "42                          WP_013825016.1                  WP_048073653.1   \n",
              "260                         WP_013826693.1                  WP_048072637.1   \n",
              "322                         WP_013826550.1                  WP_048072475.1   \n",
              "327                         WP_013826531.1                  WP_060538018.1   \n",
              "420                         WP_013826282.1                  WP_048084752.1   \n",
              "451                         WP_013826225.1                  WP_048072181.1   \n",
              "452                         WP_013826224.1                  WP_048072180.1   \n",
              "462                         WP_013826204.1                  WP_048084711.1   \n",
              "472                         WP_013826082.1                  WP_048072135.1   \n",
              "498                         WP_013825975.1                  WP_048071996.1   \n",
              "\n",
              "    GCF_002813695.1_ASM281369v1_protein.faa GCF_900095295.1_MCBB_protein.faa  \n",
              "42                           WP_100904601.1                   WP_071906239.1  \n",
              "260                          WP_100905467.1                   WP_071907703.1  \n",
              "322                          WP_100905610.1                   WP_071907570.1  \n",
              "327                          WP_100905627.1                   WP_071907553.1  \n",
              "420                          WP_100905840.1                   WP_071907273.1  \n",
              "451                          WP_100905890.1                   WP_071907221.1  \n",
              "452                          WP_100905891.1                   WP_071907220.1  \n",
              "462                          WP_100905906.1                   WP_071907202.1  \n",
              "472                          WP_100905942.1                   WP_071907161.1  \n",
              "498                          WP_100906034.1                   WP_071907039.1  "
            ],
            "text/html": [
              "\n",
              "  <div id=\"df-1689d117-67ca-4732-a86d-ca7738112245\">\n",
              "    <div class=\"colab-df-container\">\n",
              "      <div>\n",
              "<style scoped>\n",
              "    .dataframe tbody tr th:only-of-type {\n",
              "        vertical-align: middle;\n",
              "    }\n",
              "\n",
              "    .dataframe tbody tr th {\n",
              "        vertical-align: top;\n",
              "    }\n",
              "\n",
              "    .dataframe thead th {\n",
              "        text-align: right;\n",
              "    }\n",
              "</style>\n",
              "<table border=\"1\" class=\"dataframe\">\n",
              "  <thead>\n",
              "    <tr style=\"text-align: right;\">\n",
              "      <th></th>\n",
              "      <th># Species</th>\n",
              "      <th>Genes</th>\n",
              "      <th>Alg.-Conn.</th>\n",
              "      <th>GCF_000191585.1_ASM19158v1_protein.faa</th>\n",
              "      <th>GCF_000214725.1_ASM21472v1_protein.faa</th>\n",
              "      <th>GCF_001458655.1_Mb9_protein.faa</th>\n",
              "      <th>GCF_002813695.1_ASM281369v1_protein.faa</th>\n",
              "      <th>GCF_900095295.1_MCBB_protein.faa</th>\n",
              "    </tr>\n",
              "  </thead>\n",
              "  <tbody>\n",
              "    <tr>\n",
              "      <th>42</th>\n",
              "      <td>5</td>\n",
              "      <td>5</td>\n",
              "      <td>1.0</td>\n",
              "      <td>WP_013645736.1</td>\n",
              "      <td>WP_013825016.1</td>\n",
              "      <td>WP_048073653.1</td>\n",
              "      <td>WP_100904601.1</td>\n",
              "      <td>WP_071906239.1</td>\n",
              "    </tr>\n",
              "    <tr>\n",
              "      <th>260</th>\n",
              "      <td>5</td>\n",
              "      <td>5</td>\n",
              "      <td>1.0</td>\n",
              "      <td>WP_013643862.1</td>\n",
              "      <td>WP_013826693.1</td>\n",
              "      <td>WP_048072637.1</td>\n",
              "      <td>WP_100905467.1</td>\n",
              "      <td>WP_071907703.1</td>\n",
              "    </tr>\n",
              "    <tr>\n",
              "      <th>322</th>\n",
              "      <td>5</td>\n",
              "      <td>5</td>\n",
              "      <td>1.0</td>\n",
              "      <td>WP_013643969.1</td>\n",
              "      <td>WP_013826550.1</td>\n",
              "      <td>WP_048072475.1</td>\n",
              "      <td>WP_100905610.1</td>\n",
              "      <td>WP_071907570.1</td>\n",
              "    </tr>\n",
              "    <tr>\n",
              "      <th>327</th>\n",
              "      <td>5</td>\n",
              "      <td>5</td>\n",
              "      <td>1.0</td>\n",
              "      <td>WP_013643988.1</td>\n",
              "      <td>WP_013826531.1</td>\n",
              "      <td>WP_060538018.1</td>\n",
              "      <td>WP_100905627.1</td>\n",
              "      <td>WP_071907553.1</td>\n",
              "    </tr>\n",
              "    <tr>\n",
              "      <th>420</th>\n",
              "      <td>5</td>\n",
              "      <td>5</td>\n",
              "      <td>1.0</td>\n",
              "      <td>WP_013644194.1</td>\n",
              "      <td>WP_013826282.1</td>\n",
              "      <td>WP_048084752.1</td>\n",
              "      <td>WP_100905840.1</td>\n",
              "      <td>WP_071907273.1</td>\n",
              "    </tr>\n",
              "    <tr>\n",
              "      <th>451</th>\n",
              "      <td>5</td>\n",
              "      <td>5</td>\n",
              "      <td>1.0</td>\n",
              "      <td>WP_013644243.1</td>\n",
              "      <td>WP_013826225.1</td>\n",
              "      <td>WP_048072181.1</td>\n",
              "      <td>WP_100905890.1</td>\n",
              "      <td>WP_071907221.1</td>\n",
              "    </tr>\n",
              "    <tr>\n",
              "      <th>452</th>\n",
              "      <td>5</td>\n",
              "      <td>5</td>\n",
              "      <td>1.0</td>\n",
              "      <td>WP_013644244.1</td>\n",
              "      <td>WP_013826224.1</td>\n",
              "      <td>WP_048072180.1</td>\n",
              "      <td>WP_100905891.1</td>\n",
              "      <td>WP_071907220.1</td>\n",
              "    </tr>\n",
              "    <tr>\n",
              "      <th>462</th>\n",
              "      <td>5</td>\n",
              "      <td>5</td>\n",
              "      <td>1.0</td>\n",
              "      <td>WP_013644265.1</td>\n",
              "      <td>WP_013826204.1</td>\n",
              "      <td>WP_048084711.1</td>\n",
              "      <td>WP_100905906.1</td>\n",
              "      <td>WP_071907202.1</td>\n",
              "    </tr>\n",
              "    <tr>\n",
              "      <th>472</th>\n",
              "      <td>5</td>\n",
              "      <td>5</td>\n",
              "      <td>1.0</td>\n",
              "      <td>WP_013644288.1</td>\n",
              "      <td>WP_013826082.1</td>\n",
              "      <td>WP_048072135.1</td>\n",
              "      <td>WP_100905942.1</td>\n",
              "      <td>WP_071907161.1</td>\n",
              "    </tr>\n",
              "    <tr>\n",
              "      <th>498</th>\n",
              "      <td>5</td>\n",
              "      <td>5</td>\n",
              "      <td>1.0</td>\n",
              "      <td>WP_013644387.1</td>\n",
              "      <td>WP_013825975.1</td>\n",
              "      <td>WP_048071996.1</td>\n",
              "      <td>WP_100906034.1</td>\n",
              "      <td>WP_071907039.1</td>\n",
              "    </tr>\n",
              "  </tbody>\n",
              "</table>\n",
              "</div>\n",
              "      <button class=\"colab-df-convert\" onclick=\"convertToInteractive('df-1689d117-67ca-4732-a86d-ca7738112245')\"\n",
              "              title=\"Convert this dataframe to an interactive table.\"\n",
              "              style=\"display:none;\">\n",
              "        \n",
              "  <svg xmlns=\"http://www.w3.org/2000/svg\" height=\"24px\"viewBox=\"0 0 24 24\"\n",
              "       width=\"24px\">\n",
              "    <path d=\"M0 0h24v24H0V0z\" fill=\"none\"/>\n",
              "    <path d=\"M18.56 5.44l.94 2.06.94-2.06 2.06-.94-2.06-.94-.94-2.06-.94 2.06-2.06.94zm-11 1L8.5 8.5l.94-2.06 2.06-.94-2.06-.94L8.5 2.5l-.94 2.06-2.06.94zm10 10l.94 2.06.94-2.06 2.06-.94-2.06-.94-.94-2.06-.94 2.06-2.06.94z\"/><path d=\"M17.41 7.96l-1.37-1.37c-.4-.4-.92-.59-1.43-.59-.52 0-1.04.2-1.43.59L10.3 9.45l-7.72 7.72c-.78.78-.78 2.05 0 2.83L4 21.41c.39.39.9.59 1.41.59.51 0 1.02-.2 1.41-.59l7.78-7.78 2.81-2.81c.8-.78.8-2.07 0-2.86zM5.41 20L4 18.59l7.72-7.72 1.47 1.35L5.41 20z\"/>\n",
              "  </svg>\n",
              "      </button>\n",
              "      \n",
              "  <style>\n",
              "    .colab-df-container {\n",
              "      display:flex;\n",
              "      flex-wrap:wrap;\n",
              "      gap: 12px;\n",
              "    }\n",
              "\n",
              "    .colab-df-convert {\n",
              "      background-color: #E8F0FE;\n",
              "      border: none;\n",
              "      border-radius: 50%;\n",
              "      cursor: pointer;\n",
              "      display: none;\n",
              "      fill: #1967D2;\n",
              "      height: 32px;\n",
              "      padding: 0 0 0 0;\n",
              "      width: 32px;\n",
              "    }\n",
              "\n",
              "    .colab-df-convert:hover {\n",
              "      background-color: #E2EBFA;\n",
              "      box-shadow: 0px 1px 2px rgba(60, 64, 67, 0.3), 0px 1px 3px 1px rgba(60, 64, 67, 0.15);\n",
              "      fill: #174EA6;\n",
              "    }\n",
              "\n",
              "    [theme=dark] .colab-df-convert {\n",
              "      background-color: #3B4455;\n",
              "      fill: #D2E3FC;\n",
              "    }\n",
              "\n",
              "    [theme=dark] .colab-df-convert:hover {\n",
              "      background-color: #434B5C;\n",
              "      box-shadow: 0px 1px 3px 1px rgba(0, 0, 0, 0.15);\n",
              "      filter: drop-shadow(0px 1px 2px rgba(0, 0, 0, 0.3));\n",
              "      fill: #FFFFFF;\n",
              "    }\n",
              "  </style>\n",
              "\n",
              "      <script>\n",
              "        const buttonEl =\n",
              "          document.querySelector('#df-1689d117-67ca-4732-a86d-ca7738112245 button.colab-df-convert');\n",
              "        buttonEl.style.display =\n",
              "          google.colab.kernel.accessAllowed ? 'block' : 'none';\n",
              "\n",
              "        async function convertToInteractive(key) {\n",
              "          const element = document.querySelector('#df-1689d117-67ca-4732-a86d-ca7738112245');\n",
              "          const dataTable =\n",
              "            await google.colab.kernel.invokeFunction('convertToInteractive',\n",
              "                                                     [key], {});\n",
              "          if (!dataTable) return;\n",
              "\n",
              "          const docLinkHtml = 'Like what you see? Visit the ' +\n",
              "            '<a target=\"_blank\" href=https://colab.research.google.com/notebooks/data_table.ipynb>data table notebook</a>'\n",
              "            + ' to learn more about interactive tables.';\n",
              "          element.innerHTML = '';\n",
              "          dataTable['output_type'] = 'display_data';\n",
              "          await google.colab.output.renderOutput(dataTable, element);\n",
              "          const docLink = document.createElement('div');\n",
              "          docLink.innerHTML = docLinkHtml;\n",
              "          element.appendChild(docLink);\n",
              "        }\n",
              "      </script>\n",
              "    </div>\n",
              "  </div>\n",
              "  "
            ]
          },
          "metadata": {},
          "execution_count": 277
        }
      ]
    }
  ]
}